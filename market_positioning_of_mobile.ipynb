{
 "cells": [
  {
   "cell_type": "markdown",
   "metadata": {},
   "source": [
    "# Market Positioning of Mobile"
   ]
  },
  {
   "cell_type": "markdown",
   "metadata": {},
   "source": [
    "### Abstract\n",
    "There is a new mobile company and the CEO wants to give a tough fight to big companies like Apple, Samsung etc. He has no idea of how to estimate the price of mobiles his company creates. A simple assumption of the prices will not be profitable in this competitive world. To solve this problem he collects sales data of mobile phones of various companies. Thus, the CEO has hired you to find out some relation between features of a mobile phone(eg:- RAM, Internal Memory etc) and its selling price \n",
    "### Problem Statement\n",
    "Predict a price range, indicating how high the price is, using K-Nearest Neighbors algorithm."
   ]
  },
  {
   "cell_type": "markdown",
   "metadata": {},
   "source": [
    "* __battery_power__ : Total energy a battery can store in one time measured in mAh\n",
    "* __clock_speed__ : The speed at which microprocessor executes instructions\n",
    "* __fc__ : Front Camera megapixels\n",
    "* __int_memory__ : Internal Memory in Gigabytes\n",
    "* __m_dep__ : Mobile Depth in cm\n",
    "* __mobile_wt__ : Weight of the mobile phone\n",
    "* __n_cores__ : Number of cores of a processor\n",
    "* __pc__ : Primary Camera megapixels\n",
    "* __px_height__ : Pixel Resolution Height\n",
    "* __px_width__ : Pixel Resolution Width\n",
    "* __ram__ : Random Access Memory in MegaBytes\n",
    "* __sc_h__ : Screen Height of mobile in cm\n",
    "* __sc_w__ : Screen Width of mobile in cm\n",
    "* __talk_time__ : The longest time that a single battery charge will last when you are\n",
    "* __price_range__ : This is the target variable with the value of 0(low cost), 1(medium cost), 2(high cost) and 3(very high cost)."
   ]
  },
  {
   "cell_type": "markdown",
   "metadata": {},
   "source": [
    "# Assigning working directory"
   ]
  },
  {
   "cell_type": "code",
   "execution_count": 3,
   "metadata": {},
   "outputs": [],
   "source": [
    "import os\n",
    "os.chdir('C:/Users/vishali jothimuthu/Desktop/')"
   ]
  },
  {
   "cell_type": "markdown",
   "metadata": {},
   "source": [
    "# Importing Libraries"
   ]
  },
  {
   "cell_type": "code",
   "execution_count": 6,
   "metadata": {},
   "outputs": [],
   "source": [
    "import numpy as np\n",
    "import pandas as pd\n",
    "import matplotlib.pyplot as plt\n",
    "import seaborn as sns"
   ]
  },
  {
   "cell_type": "code",
   "execution_count": 7,
   "metadata": {},
   "outputs": [],
   "source": [
    "pd.options.display.max_rows = 100\n",
    "pd.options.display.max_columns = 100\n",
    "pd.set_option('display.max_colwidth', None)\n",
    "\n",
    "import warnings\n",
    "warnings.filterwarnings('ignore')"
   ]
  },
  {
   "cell_type": "markdown",
   "metadata": {},
   "source": [
    "# Import Datasets"
   ]
  },
  {
   "cell_type": "code",
   "execution_count": 8,
   "metadata": {},
   "outputs": [],
   "source": [
    "df = pd.read_csv('C:/Users/vishali jothimuthu/Desktop/mobile_price.csv')"
   ]
  },
  {
   "cell_type": "code",
   "execution_count": 5,
   "metadata": {},
   "outputs": [],
   "source": [
    "df_desc = pd.read_csv('C:/Users/vishali jothimuthu/Desktop/desc.csv')"
   ]
  },
  {
   "cell_type": "code",
   "execution_count": 6,
   "metadata": {},
   "outputs": [
    {
     "data": {
      "text/html": [
       "<div>\n",
       "<style scoped>\n",
       "    .dataframe tbody tr th:only-of-type {\n",
       "        vertical-align: middle;\n",
       "    }\n",
       "\n",
       "    .dataframe tbody tr th {\n",
       "        vertical-align: top;\n",
       "    }\n",
       "\n",
       "    .dataframe thead th {\n",
       "        text-align: right;\n",
       "    }\n",
       "</style>\n",
       "<table border=\"1\" class=\"dataframe\">\n",
       "  <thead>\n",
       "    <tr style=\"text-align: right;\">\n",
       "      <th>Column</th>\n",
       "      <th>battery_power</th>\n",
       "      <th>clock_speed</th>\n",
       "      <th>fc</th>\n",
       "      <th>int_memory</th>\n",
       "      <th>m_dep</th>\n",
       "      <th>mobile_wt</th>\n",
       "      <th>n_cores</th>\n",
       "      <th>pc</th>\n",
       "      <th>px_height</th>\n",
       "      <th>px_width</th>\n",
       "      <th>ram</th>\n",
       "      <th>sc_h</th>\n",
       "      <th>sc_w</th>\n",
       "      <th>talk_time</th>\n",
       "      <th>price_range</th>\n",
       "    </tr>\n",
       "  </thead>\n",
       "  <tbody>\n",
       "    <tr>\n",
       "      <th>Description</th>\n",
       "      <td>Total energy a battery can store in one time measured in mAh</td>\n",
       "      <td>The speed at which microprocessor executes instructions</td>\n",
       "      <td>Front Camera megapixels</td>\n",
       "      <td>Internal Memory in Gigabytes</td>\n",
       "      <td>Mobile Depth in cm</td>\n",
       "      <td>Weight of the mobile phone</td>\n",
       "      <td>Number of cores of a processor</td>\n",
       "      <td>Primary Camera megapixels</td>\n",
       "      <td>Pixel Resolution Height</td>\n",
       "      <td>Pixel Resolution Width</td>\n",
       "      <td>Random Access Memory in MegaBytes</td>\n",
       "      <td>Screen Height of mobile in cm</td>\n",
       "      <td>Screen Width of mobile in cm</td>\n",
       "      <td>The longest time that a single battery charge will last when you are</td>\n",
       "      <td>This is the target variable with the value of 0(low cost), 1(medium cost), 2(high cost) and 3(very high cost).</td>\n",
       "    </tr>\n",
       "  </tbody>\n",
       "</table>\n",
       "</div>"
      ],
      "text/plain": [
       "Column                                                      battery_power  \\\n",
       "Description  Total energy a battery can store in one time measured in mAh   \n",
       "\n",
       "Column                                                   clock_speed  \\\n",
       "Description  The speed at which microprocessor executes instructions   \n",
       "\n",
       "Column                            fc                    int_memory  \\\n",
       "Description  Front Camera megapixels  Internal Memory in Gigabytes   \n",
       "\n",
       "Column                    m_dep                   mobile_wt  \\\n",
       "Description  Mobile Depth in cm  Weight of the mobile phone   \n",
       "\n",
       "Column                              n_cores                         pc  \\\n",
       "Description  Number of cores of a processor  Primary Camera megapixels   \n",
       "\n",
       "Column                     px_height                px_width  \\\n",
       "Description  Pixel Resolution Height  Pixel Resolution Width   \n",
       "\n",
       "Column                                     ram                           sc_h  \\\n",
       "Description  Random Access Memory in MegaBytes  Screen Height of mobile in cm   \n",
       "\n",
       "Column                               sc_w  \\\n",
       "Description  Screen Width of mobile in cm   \n",
       "\n",
       "Column                                                                  talk_time  \\\n",
       "Description  The longest time that a single battery charge will last when you are   \n",
       "\n",
       "Column                                                                                                          price_range  \n",
       "Description  This is the target variable with the value of 0(low cost), 1(medium cost), 2(high cost) and 3(very high cost).  "
      ]
     },
     "execution_count": 6,
     "metadata": {},
     "output_type": "execute_result"
    }
   ],
   "source": [
    "df_desc.index = df_desc['Column']\n",
    "df_desc.drop('Column', axis=1, inplace=True)\n",
    "df_desc = df_desc.T\n",
    "df_desc.head()"
   ]
  },
  {
   "cell_type": "markdown",
   "metadata": {},
   "source": [
    "# Basic commands"
   ]
  },
  {
   "cell_type": "code",
   "execution_count": 7,
   "metadata": {},
   "outputs": [
    {
     "data": {
      "text/html": [
       "<div>\n",
       "<style scoped>\n",
       "    .dataframe tbody tr th:only-of-type {\n",
       "        vertical-align: middle;\n",
       "    }\n",
       "\n",
       "    .dataframe tbody tr th {\n",
       "        vertical-align: top;\n",
       "    }\n",
       "\n",
       "    .dataframe thead th {\n",
       "        text-align: right;\n",
       "    }\n",
       "</style>\n",
       "<table border=\"1\" class=\"dataframe\">\n",
       "  <thead>\n",
       "    <tr style=\"text-align: right;\">\n",
       "      <th></th>\n",
       "      <th>battery_power</th>\n",
       "      <th>clock_speed</th>\n",
       "      <th>fc</th>\n",
       "      <th>int_memory</th>\n",
       "      <th>m_dep</th>\n",
       "      <th>mobile_wt</th>\n",
       "      <th>n_cores</th>\n",
       "      <th>pc</th>\n",
       "      <th>px_height</th>\n",
       "      <th>px_width</th>\n",
       "      <th>ram</th>\n",
       "      <th>sc_h</th>\n",
       "      <th>sc_w</th>\n",
       "      <th>talk_time</th>\n",
       "      <th>price_range</th>\n",
       "    </tr>\n",
       "  </thead>\n",
       "  <tbody>\n",
       "    <tr>\n",
       "      <th>0</th>\n",
       "      <td>842</td>\n",
       "      <td>2.2</td>\n",
       "      <td>1</td>\n",
       "      <td>7</td>\n",
       "      <td>0.6</td>\n",
       "      <td>188</td>\n",
       "      <td>2</td>\n",
       "      <td>2</td>\n",
       "      <td>20</td>\n",
       "      <td>756</td>\n",
       "      <td>2549</td>\n",
       "      <td>9</td>\n",
       "      <td>7</td>\n",
       "      <td>19</td>\n",
       "      <td>1</td>\n",
       "    </tr>\n",
       "    <tr>\n",
       "      <th>1</th>\n",
       "      <td>1021</td>\n",
       "      <td>0.5</td>\n",
       "      <td>0</td>\n",
       "      <td>53</td>\n",
       "      <td>0.7</td>\n",
       "      <td>136</td>\n",
       "      <td>3</td>\n",
       "      <td>6</td>\n",
       "      <td>905</td>\n",
       "      <td>1988</td>\n",
       "      <td>2631</td>\n",
       "      <td>17</td>\n",
       "      <td>3</td>\n",
       "      <td>7</td>\n",
       "      <td>2</td>\n",
       "    </tr>\n",
       "    <tr>\n",
       "      <th>2</th>\n",
       "      <td>563</td>\n",
       "      <td>0.5</td>\n",
       "      <td>2</td>\n",
       "      <td>41</td>\n",
       "      <td>0.9</td>\n",
       "      <td>145</td>\n",
       "      <td>5</td>\n",
       "      <td>6</td>\n",
       "      <td>1263</td>\n",
       "      <td>1716</td>\n",
       "      <td>2603</td>\n",
       "      <td>11</td>\n",
       "      <td>2</td>\n",
       "      <td>9</td>\n",
       "      <td>2</td>\n",
       "    </tr>\n",
       "    <tr>\n",
       "      <th>3</th>\n",
       "      <td>615</td>\n",
       "      <td>2.5</td>\n",
       "      <td>0</td>\n",
       "      <td>10</td>\n",
       "      <td>0.8</td>\n",
       "      <td>131</td>\n",
       "      <td>6</td>\n",
       "      <td>9</td>\n",
       "      <td>1216</td>\n",
       "      <td>1786</td>\n",
       "      <td>2769</td>\n",
       "      <td>16</td>\n",
       "      <td>8</td>\n",
       "      <td>11</td>\n",
       "      <td>2</td>\n",
       "    </tr>\n",
       "    <tr>\n",
       "      <th>4</th>\n",
       "      <td>1821</td>\n",
       "      <td>1.2</td>\n",
       "      <td>13</td>\n",
       "      <td>44</td>\n",
       "      <td>0.6</td>\n",
       "      <td>141</td>\n",
       "      <td>2</td>\n",
       "      <td>14</td>\n",
       "      <td>1208</td>\n",
       "      <td>1212</td>\n",
       "      <td>1411</td>\n",
       "      <td>8</td>\n",
       "      <td>2</td>\n",
       "      <td>15</td>\n",
       "      <td>1</td>\n",
       "    </tr>\n",
       "  </tbody>\n",
       "</table>\n",
       "</div>"
      ],
      "text/plain": [
       "   battery_power  clock_speed  fc  int_memory  m_dep  mobile_wt  n_cores  pc  \\\n",
       "0            842          2.2   1           7    0.6        188        2   2   \n",
       "1           1021          0.5   0          53    0.7        136        3   6   \n",
       "2            563          0.5   2          41    0.9        145        5   6   \n",
       "3            615          2.5   0          10    0.8        131        6   9   \n",
       "4           1821          1.2  13          44    0.6        141        2  14   \n",
       "\n",
       "   px_height  px_width   ram  sc_h  sc_w  talk_time  price_range  \n",
       "0         20       756  2549     9     7         19            1  \n",
       "1        905      1988  2631    17     3          7            2  \n",
       "2       1263      1716  2603    11     2          9            2  \n",
       "3       1216      1786  2769    16     8         11            2  \n",
       "4       1208      1212  1411     8     2         15            1  "
      ]
     },
     "execution_count": 7,
     "metadata": {},
     "output_type": "execute_result"
    }
   ],
   "source": [
    "df.head()"
   ]
  },
  {
   "cell_type": "code",
   "execution_count": 8,
   "metadata": {},
   "outputs": [
    {
     "data": {
      "text/html": [
       "<div>\n",
       "<style scoped>\n",
       "    .dataframe tbody tr th:only-of-type {\n",
       "        vertical-align: middle;\n",
       "    }\n",
       "\n",
       "    .dataframe tbody tr th {\n",
       "        vertical-align: top;\n",
       "    }\n",
       "\n",
       "    .dataframe thead th {\n",
       "        text-align: right;\n",
       "    }\n",
       "</style>\n",
       "<table border=\"1\" class=\"dataframe\">\n",
       "  <thead>\n",
       "    <tr style=\"text-align: right;\">\n",
       "      <th>Column</th>\n",
       "      <th>battery_power</th>\n",
       "      <th>clock_speed</th>\n",
       "      <th>fc</th>\n",
       "      <th>int_memory</th>\n",
       "      <th>m_dep</th>\n",
       "      <th>mobile_wt</th>\n",
       "      <th>n_cores</th>\n",
       "      <th>pc</th>\n",
       "      <th>px_height</th>\n",
       "      <th>px_width</th>\n",
       "      <th>ram</th>\n",
       "      <th>sc_h</th>\n",
       "      <th>sc_w</th>\n",
       "      <th>talk_time</th>\n",
       "      <th>price_range</th>\n",
       "    </tr>\n",
       "  </thead>\n",
       "  <tbody>\n",
       "    <tr>\n",
       "      <th>Description</th>\n",
       "      <td>Total energy a battery can store in one time measured in mAh</td>\n",
       "      <td>The speed at which microprocessor executes instructions</td>\n",
       "      <td>Front Camera megapixels</td>\n",
       "      <td>Internal Memory in Gigabytes</td>\n",
       "      <td>Mobile Depth in cm</td>\n",
       "      <td>Weight of the mobile phone</td>\n",
       "      <td>Number of cores of a processor</td>\n",
       "      <td>Primary Camera megapixels</td>\n",
       "      <td>Pixel Resolution Height</td>\n",
       "      <td>Pixel Resolution Width</td>\n",
       "      <td>Random Access Memory in MegaBytes</td>\n",
       "      <td>Screen Height of mobile in cm</td>\n",
       "      <td>Screen Width of mobile in cm</td>\n",
       "      <td>The longest time that a single battery charge will last when you are</td>\n",
       "      <td>This is the target variable with the value of 0(low cost), 1(medium cost), 2(high cost) and 3(very high cost).</td>\n",
       "    </tr>\n",
       "  </tbody>\n",
       "</table>\n",
       "</div>"
      ],
      "text/plain": [
       "Column                                                      battery_power  \\\n",
       "Description  Total energy a battery can store in one time measured in mAh   \n",
       "\n",
       "Column                                                   clock_speed  \\\n",
       "Description  The speed at which microprocessor executes instructions   \n",
       "\n",
       "Column                            fc                    int_memory  \\\n",
       "Description  Front Camera megapixels  Internal Memory in Gigabytes   \n",
       "\n",
       "Column                    m_dep                   mobile_wt  \\\n",
       "Description  Mobile Depth in cm  Weight of the mobile phone   \n",
       "\n",
       "Column                              n_cores                         pc  \\\n",
       "Description  Number of cores of a processor  Primary Camera megapixels   \n",
       "\n",
       "Column                     px_height                px_width  \\\n",
       "Description  Pixel Resolution Height  Pixel Resolution Width   \n",
       "\n",
       "Column                                     ram                           sc_h  \\\n",
       "Description  Random Access Memory in MegaBytes  Screen Height of mobile in cm   \n",
       "\n",
       "Column                               sc_w  \\\n",
       "Description  Screen Width of mobile in cm   \n",
       "\n",
       "Column                                                                  talk_time  \\\n",
       "Description  The longest time that a single battery charge will last when you are   \n",
       "\n",
       "Column                                                                                                          price_range  \n",
       "Description  This is the target variable with the value of 0(low cost), 1(medium cost), 2(high cost) and 3(very high cost).  "
      ]
     },
     "execution_count": 8,
     "metadata": {},
     "output_type": "execute_result"
    }
   ],
   "source": [
    "df_desc.head()"
   ]
  },
  {
   "cell_type": "code",
   "execution_count": 9,
   "metadata": {},
   "outputs": [
    {
     "name": "stdout",
     "output_type": "stream",
     "text": [
      "<class 'pandas.core.frame.DataFrame'>\n",
      "RangeIndex: 2000 entries, 0 to 1999\n",
      "Data columns (total 15 columns):\n",
      " #   Column         Non-Null Count  Dtype  \n",
      "---  ------         --------------  -----  \n",
      " 0   battery_power  2000 non-null   int64  \n",
      " 1   clock_speed    2000 non-null   float64\n",
      " 2   fc             2000 non-null   int64  \n",
      " 3   int_memory     2000 non-null   int64  \n",
      " 4   m_dep          2000 non-null   float64\n",
      " 5   mobile_wt      2000 non-null   int64  \n",
      " 6   n_cores        2000 non-null   int64  \n",
      " 7   pc             2000 non-null   int64  \n",
      " 8   px_height      2000 non-null   int64  \n",
      " 9   px_width       2000 non-null   int64  \n",
      " 10  ram            2000 non-null   int64  \n",
      " 11  sc_h           2000 non-null   int64  \n",
      " 12  sc_w           2000 non-null   int64  \n",
      " 13  talk_time      2000 non-null   int64  \n",
      " 14  price_range    2000 non-null   int64  \n",
      "dtypes: float64(2), int64(13)\n",
      "memory usage: 234.5 KB\n"
     ]
    }
   ],
   "source": [
    "df.info()"
   ]
  },
  {
   "cell_type": "code",
   "execution_count": 10,
   "metadata": {},
   "outputs": [
    {
     "data": {
      "text/html": [
       "<div>\n",
       "<style scoped>\n",
       "    .dataframe tbody tr th:only-of-type {\n",
       "        vertical-align: middle;\n",
       "    }\n",
       "\n",
       "    .dataframe tbody tr th {\n",
       "        vertical-align: top;\n",
       "    }\n",
       "\n",
       "    .dataframe thead th {\n",
       "        text-align: right;\n",
       "    }\n",
       "</style>\n",
       "<table border=\"1\" class=\"dataframe\">\n",
       "  <thead>\n",
       "    <tr style=\"text-align: right;\">\n",
       "      <th></th>\n",
       "      <th>count</th>\n",
       "      <th>mean</th>\n",
       "      <th>std</th>\n",
       "      <th>min</th>\n",
       "      <th>25%</th>\n",
       "      <th>50%</th>\n",
       "      <th>75%</th>\n",
       "      <th>max</th>\n",
       "    </tr>\n",
       "  </thead>\n",
       "  <tbody>\n",
       "    <tr>\n",
       "      <th>battery_power</th>\n",
       "      <td>2000.0</td>\n",
       "      <td>1238.51850</td>\n",
       "      <td>439.418206</td>\n",
       "      <td>501.0</td>\n",
       "      <td>851.75</td>\n",
       "      <td>1226.0</td>\n",
       "      <td>1615.25</td>\n",
       "      <td>1998.0</td>\n",
       "    </tr>\n",
       "    <tr>\n",
       "      <th>clock_speed</th>\n",
       "      <td>2000.0</td>\n",
       "      <td>1.52225</td>\n",
       "      <td>0.816004</td>\n",
       "      <td>0.5</td>\n",
       "      <td>0.70</td>\n",
       "      <td>1.5</td>\n",
       "      <td>2.20</td>\n",
       "      <td>3.0</td>\n",
       "    </tr>\n",
       "    <tr>\n",
       "      <th>fc</th>\n",
       "      <td>2000.0</td>\n",
       "      <td>4.30950</td>\n",
       "      <td>4.341444</td>\n",
       "      <td>0.0</td>\n",
       "      <td>1.00</td>\n",
       "      <td>3.0</td>\n",
       "      <td>7.00</td>\n",
       "      <td>19.0</td>\n",
       "    </tr>\n",
       "    <tr>\n",
       "      <th>int_memory</th>\n",
       "      <td>2000.0</td>\n",
       "      <td>32.04650</td>\n",
       "      <td>18.145715</td>\n",
       "      <td>2.0</td>\n",
       "      <td>16.00</td>\n",
       "      <td>32.0</td>\n",
       "      <td>48.00</td>\n",
       "      <td>64.0</td>\n",
       "    </tr>\n",
       "    <tr>\n",
       "      <th>m_dep</th>\n",
       "      <td>2000.0</td>\n",
       "      <td>0.50175</td>\n",
       "      <td>0.288416</td>\n",
       "      <td>0.1</td>\n",
       "      <td>0.20</td>\n",
       "      <td>0.5</td>\n",
       "      <td>0.80</td>\n",
       "      <td>1.0</td>\n",
       "    </tr>\n",
       "    <tr>\n",
       "      <th>mobile_wt</th>\n",
       "      <td>2000.0</td>\n",
       "      <td>140.24900</td>\n",
       "      <td>35.399655</td>\n",
       "      <td>80.0</td>\n",
       "      <td>109.00</td>\n",
       "      <td>141.0</td>\n",
       "      <td>170.00</td>\n",
       "      <td>200.0</td>\n",
       "    </tr>\n",
       "    <tr>\n",
       "      <th>n_cores</th>\n",
       "      <td>2000.0</td>\n",
       "      <td>4.52050</td>\n",
       "      <td>2.287837</td>\n",
       "      <td>1.0</td>\n",
       "      <td>3.00</td>\n",
       "      <td>4.0</td>\n",
       "      <td>7.00</td>\n",
       "      <td>8.0</td>\n",
       "    </tr>\n",
       "    <tr>\n",
       "      <th>pc</th>\n",
       "      <td>2000.0</td>\n",
       "      <td>9.91650</td>\n",
       "      <td>6.064315</td>\n",
       "      <td>0.0</td>\n",
       "      <td>5.00</td>\n",
       "      <td>10.0</td>\n",
       "      <td>15.00</td>\n",
       "      <td>20.0</td>\n",
       "    </tr>\n",
       "    <tr>\n",
       "      <th>px_height</th>\n",
       "      <td>2000.0</td>\n",
       "      <td>645.10800</td>\n",
       "      <td>443.780811</td>\n",
       "      <td>0.0</td>\n",
       "      <td>282.75</td>\n",
       "      <td>564.0</td>\n",
       "      <td>947.25</td>\n",
       "      <td>1960.0</td>\n",
       "    </tr>\n",
       "    <tr>\n",
       "      <th>px_width</th>\n",
       "      <td>2000.0</td>\n",
       "      <td>1251.51550</td>\n",
       "      <td>432.199447</td>\n",
       "      <td>500.0</td>\n",
       "      <td>874.75</td>\n",
       "      <td>1247.0</td>\n",
       "      <td>1633.00</td>\n",
       "      <td>1998.0</td>\n",
       "    </tr>\n",
       "    <tr>\n",
       "      <th>ram</th>\n",
       "      <td>2000.0</td>\n",
       "      <td>2124.21300</td>\n",
       "      <td>1084.732044</td>\n",
       "      <td>256.0</td>\n",
       "      <td>1207.50</td>\n",
       "      <td>2146.5</td>\n",
       "      <td>3064.50</td>\n",
       "      <td>3998.0</td>\n",
       "    </tr>\n",
       "    <tr>\n",
       "      <th>sc_h</th>\n",
       "      <td>2000.0</td>\n",
       "      <td>12.30650</td>\n",
       "      <td>4.213245</td>\n",
       "      <td>5.0</td>\n",
       "      <td>9.00</td>\n",
       "      <td>12.0</td>\n",
       "      <td>16.00</td>\n",
       "      <td>19.0</td>\n",
       "    </tr>\n",
       "    <tr>\n",
       "      <th>sc_w</th>\n",
       "      <td>2000.0</td>\n",
       "      <td>5.76700</td>\n",
       "      <td>4.356398</td>\n",
       "      <td>0.0</td>\n",
       "      <td>2.00</td>\n",
       "      <td>5.0</td>\n",
       "      <td>9.00</td>\n",
       "      <td>18.0</td>\n",
       "    </tr>\n",
       "    <tr>\n",
       "      <th>talk_time</th>\n",
       "      <td>2000.0</td>\n",
       "      <td>11.01100</td>\n",
       "      <td>5.463955</td>\n",
       "      <td>2.0</td>\n",
       "      <td>6.00</td>\n",
       "      <td>11.0</td>\n",
       "      <td>16.00</td>\n",
       "      <td>20.0</td>\n",
       "    </tr>\n",
       "    <tr>\n",
       "      <th>price_range</th>\n",
       "      <td>2000.0</td>\n",
       "      <td>1.50000</td>\n",
       "      <td>1.118314</td>\n",
       "      <td>0.0</td>\n",
       "      <td>0.75</td>\n",
       "      <td>1.5</td>\n",
       "      <td>2.25</td>\n",
       "      <td>3.0</td>\n",
       "    </tr>\n",
       "  </tbody>\n",
       "</table>\n",
       "</div>"
      ],
      "text/plain": [
       "                count        mean          std    min      25%     50%  \\\n",
       "battery_power  2000.0  1238.51850   439.418206  501.0   851.75  1226.0   \n",
       "clock_speed    2000.0     1.52225     0.816004    0.5     0.70     1.5   \n",
       "fc             2000.0     4.30950     4.341444    0.0     1.00     3.0   \n",
       "int_memory     2000.0    32.04650    18.145715    2.0    16.00    32.0   \n",
       "m_dep          2000.0     0.50175     0.288416    0.1     0.20     0.5   \n",
       "mobile_wt      2000.0   140.24900    35.399655   80.0   109.00   141.0   \n",
       "n_cores        2000.0     4.52050     2.287837    1.0     3.00     4.0   \n",
       "pc             2000.0     9.91650     6.064315    0.0     5.00    10.0   \n",
       "px_height      2000.0   645.10800   443.780811    0.0   282.75   564.0   \n",
       "px_width       2000.0  1251.51550   432.199447  500.0   874.75  1247.0   \n",
       "ram            2000.0  2124.21300  1084.732044  256.0  1207.50  2146.5   \n",
       "sc_h           2000.0    12.30650     4.213245    5.0     9.00    12.0   \n",
       "sc_w           2000.0     5.76700     4.356398    0.0     2.00     5.0   \n",
       "talk_time      2000.0    11.01100     5.463955    2.0     6.00    11.0   \n",
       "price_range    2000.0     1.50000     1.118314    0.0     0.75     1.5   \n",
       "\n",
       "                   75%     max  \n",
       "battery_power  1615.25  1998.0  \n",
       "clock_speed       2.20     3.0  \n",
       "fc                7.00    19.0  \n",
       "int_memory       48.00    64.0  \n",
       "m_dep             0.80     1.0  \n",
       "mobile_wt       170.00   200.0  \n",
       "n_cores           7.00     8.0  \n",
       "pc               15.00    20.0  \n",
       "px_height       947.25  1960.0  \n",
       "px_width       1633.00  1998.0  \n",
       "ram            3064.50  3998.0  \n",
       "sc_h             16.00    19.0  \n",
       "sc_w              9.00    18.0  \n",
       "talk_time        16.00    20.0  \n",
       "price_range       2.25     3.0  "
      ]
     },
     "execution_count": 10,
     "metadata": {},
     "output_type": "execute_result"
    }
   ],
   "source": [
    "df.describe().T"
   ]
  },
  {
   "cell_type": "code",
   "execution_count": 11,
   "metadata": {},
   "outputs": [
    {
     "data": {
      "text/plain": [
       "battery_power    0\n",
       "clock_speed      0\n",
       "fc               0\n",
       "int_memory       0\n",
       "m_dep            0\n",
       "mobile_wt        0\n",
       "n_cores          0\n",
       "pc               0\n",
       "px_height        0\n",
       "px_width         0\n",
       "ram              0\n",
       "sc_h             0\n",
       "sc_w             0\n",
       "talk_time        0\n",
       "price_range      0\n",
       "dtype: int64"
      ]
     },
     "execution_count": 11,
     "metadata": {},
     "output_type": "execute_result"
    }
   ],
   "source": [
    "df.isnull().sum()"
   ]
  },
  {
   "cell_type": "markdown",
   "metadata": {},
   "source": [
    "# Detecting outliers"
   ]
  },
  {
   "cell_type": "code",
   "execution_count": 12,
   "metadata": {},
   "outputs": [],
   "source": [
    "def outliers(col, data, remove=False):\n",
    "    \n",
    "    Q1 = data[col].quantile(0.25)\n",
    "    Q3 = data[col].quantile(0.75)\n",
    "    IQR = Q3 - Q1\n",
    "    \n",
    "    ub = Q3 + 1.5*IQR\n",
    "    lb = Q1 - 1.5*IQR\n",
    "    \n",
    "    out_ub = sum(data[col]>ub)\n",
    "    out_lb = sum(data[col]<lb)\n",
    "    \n",
    "    if remove:\n",
    "        data[col][data[col]>ub] = ub\n",
    "        data[col][data[col]<lb] = lb\n",
    "        out_ub = sum(data[col]>ub)\n",
    "        out_lb = sum(data[col]<lb)\n",
    "    \n",
    "    sns.distplot(data[col])\n",
    "    plt.show()\n",
    "    \n",
    "    sns.boxplot(data[col])\n",
    "    plt.show()\n",
    "    \n",
    "    print('Upper bound: ', ub)\n",
    "    print('Lower bound: ', lb)\n",
    "    print('\\n')\n",
    "    \n",
    "    print('Number of outliers above upper bound: ', out_ub)\n",
    "    print('Number of outliers below lower bound: ', out_lb)\n",
    "    print('\\n')\n",
    "    \n",
    "    print('Percent of outliers: ', round((out_ub+out_lb)/len(data), 4)*100, '%')\n",
    "    "
   ]
  },
  {
   "cell_type": "markdown",
   "metadata": {},
   "source": [
    "#### battery_power"
   ]
  },
  {
   "cell_type": "code",
   "execution_count": 13,
   "metadata": {},
   "outputs": [
    {
     "data": {
      "image/png": "[encoded data removed]",
      "text/plain": [
       "<Figure size 432x288 with 1 Axes>"
      ]
     },
     "metadata": {
      "needs_background": "light"
     },
     "output_type": "display_data"
    },
    {
     "data": {
      "image/png": "[encoded data removed]",
      "text/plain": [
       "<Figure size 432x288 with 1 Axes>"
      ]
     },
     "metadata": {
      "needs_background": "light"
     },
     "output_type": "display_data"
    },
    {
     "name": "stdout",
     "output_type": "stream",
     "text": [
      "Upper bound:  2760.5\n",
      "Lower bound:  -293.5\n",
      "\n",
      "\n",
      "Number of outliers above upper bound:  0\n",
      "Number of outliers below lower bound:  0\n",
      "\n",
      "\n",
      "Percent of outliers:  0.0 %\n"
     ]
    }
   ],
   "source": [
    "outliers('battery_power', df)"
   ]
  },
  {
   "cell_type": "markdown",
   "metadata": {},
   "source": [
    "#### clock_speed"
   ]
  },
  {
   "cell_type": "code",
   "execution_count": 14,
   "metadata": {},
   "outputs": [
    {
     "data": {
      "image/png": "[encoded data removed]",
      "text/plain": [
       "<Figure size 432x288 with 1 Axes>"
      ]
     },
     "metadata": {
      "needs_background": "light"
     },
     "output_type": "display_data"
    },
    {
     "data": {
      "image/png": "[encoded data removed]",
      "text/plain": [
       "<Figure size 432x288 with 1 Axes>"
      ]
     },
     "metadata": {
      "needs_background": "light"
     },
     "output_type": "display_data"
    },
    {
     "name": "stdout",
     "output_type": "stream",
     "text": [
      "Upper bound:  4.450000000000001\n",
      "Lower bound:  -1.5500000000000005\n",
      "\n",
      "\n",
      "Number of outliers above upper bound:  0\n",
      "Number of outliers below lower bound:  0\n",
      "\n",
      "\n",
      "Percent of outliers:  0.0 %\n"
     ]
    }
   ],
   "source": [
    "outliers('clock_speed', df)"
   ]
  },
  {
   "cell_type": "markdown",
   "metadata": {},
   "source": [
    "#### fc"
   ]
  },
  {
   "cell_type": "code",
   "execution_count": 15,
   "metadata": {},
   "outputs": [
    {
     "data": {
      "image/png": "[encoded data removed]",
      "text/plain": [
       "<Figure size 432x288 with 1 Axes>"
      ]
     },
     "metadata": {
      "needs_background": "light"
     },
     "output_type": "display_data"
    },
    {
     "data": {
      "image/png": "[encoded data removed]",
      "text/plain": [
       "<Figure size 432x288 with 1 Axes>"
      ]
     },
     "metadata": {
      "needs_background": "light"
     },
     "output_type": "display_data"
    },
    {
     "name": "stdout",
     "output_type": "stream",
     "text": [
      "Upper bound:  16.0\n",
      "Lower bound:  -8.0\n",
      "\n",
      "\n",
      "Number of outliers above upper bound:  18\n",
      "Number of outliers below lower bound:  0\n",
      "\n",
      "\n",
      "Percent of outliers:  0.009 %\n"
     ]
    }
   ],
   "source": [
    "outliers('fc', df)"
   ]
  },
  {
   "cell_type": "code",
   "execution_count": 16,
   "metadata": {},
   "outputs": [
    {
     "data": {
      "image/png": "[encoded data removed]",
      "text/plain": [
       "<Figure size 432x288 with 1 Axes>"
      ]
     },
     "metadata": {
      "needs_background": "light"
     },
     "output_type": "display_data"
    },
    {
     "data": {
      "image/png": "[encoded data removed]",
      "text/plain": [
       "<Figure size 432x288 with 1 Axes>"
      ]
     },
     "metadata": {
      "needs_background": "light"
     },
     "output_type": "display_data"
    },
    {
     "name": "stdout",
     "output_type": "stream",
     "text": [
      "Upper bound:  16.0\n",
      "Lower bound:  -8.0\n",
      "\n",
      "\n",
      "Number of outliers above upper bound:  0\n",
      "Number of outliers below lower bound:  0\n",
      "\n",
      "\n",
      "Percent of outliers:  0.0 %\n"
     ]
    }
   ],
   "source": [
    "outliers('fc', df, remove=True)"
   ]
  },
  {
   "cell_type": "markdown",
   "metadata": {},
   "source": [
    "#### int_memory"
   ]
  },
  {
   "cell_type": "code",
   "execution_count": 17,
   "metadata": {},
   "outputs": [
    {
     "data": {
      "image/png": "[encoded data removed]",
      "text/plain": [
       "<Figure size 432x288 with 1 Axes>"
      ]
     },
     "metadata": {
      "needs_background": "light"
     },
     "output_type": "display_data"
    },
    {
     "data": {
      "image/png": "[encoded data removed]",
      "text/plain": [
       "<Figure size 432x288 with 1 Axes>"
      ]
     },
     "metadata": {
      "needs_background": "light"
     },
     "output_type": "display_data"
    },
    {
     "name": "stdout",
     "output_type": "stream",
     "text": [
      "Upper bound:  96.0\n",
      "Lower bound:  -32.0\n",
      "\n",
      "\n",
      "Number of outliers above upper bound:  0\n",
      "Number of outliers below lower bound:  0\n",
      "\n",
      "\n",
      "Percent of outliers:  0.0 %\n"
     ]
    }
   ],
   "source": [
    "outliers('int_memory', df)"
   ]
  },
  {
   "cell_type": "markdown",
   "metadata": {},
   "source": [
    "#### m_dep"
   ]
  },
  {
   "cell_type": "code",
   "execution_count": 18,
   "metadata": {},
   "outputs": [
    {
     "data": {
      "image/png": "[encoded data removed]",
      "text/plain": [
       "<Figure size 432x288 with 1 Axes>"
      ]
     },
     "metadata": {
      "needs_background": "light"
     },
     "output_type": "display_data"
    },
    {
     "data": {
      "image/png": "[encoded data removed]",
      "text/plain": [
       "<Figure size 432x288 with 1 Axes>"
      ]
     },
     "metadata": {
      "needs_background": "light"
     },
     "output_type": "display_data"
    },
    {
     "name": "stdout",
     "output_type": "stream",
     "text": [
      "Upper bound:  1.7000000000000002\n",
      "Lower bound:  -0.7000000000000002\n",
      "\n",
      "\n",
      "Number of outliers above upper bound:  0\n",
      "Number of outliers below lower bound:  0\n",
      "\n",
      "\n",
      "Percent of outliers:  0.0 %\n"
     ]
    }
   ],
   "source": [
    "outliers('m_dep', df)"
   ]
  },
  {
   "cell_type": "markdown",
   "metadata": {},
   "source": [
    "#### mobile_wt"
   ]
  },
  {
   "cell_type": "code",
   "execution_count": 19,
   "metadata": {},
   "outputs": [
    {
     "data": {
      "image/png": "[encoded data removed]",
      "text/plain": [
       "<Figure size 432x288 with 1 Axes>"
      ]
     },
     "metadata": {
      "needs_background": "light"
     },
     "output_type": "display_data"
    },
    {
     "data": {
      "image/png": "[encoded data removed]",
      "text/plain": [
       "<Figure size 432x288 with 1 Axes>"
      ]
     },
     "metadata": {
      "needs_background": "light"
     },
     "output_type": "display_data"
    },
    {
     "name": "stdout",
     "output_type": "stream",
     "text": [
      "Upper bound:  261.5\n",
      "Lower bound:  17.5\n",
      "\n",
      "\n",
      "Number of outliers above upper bound:  0\n",
      "Number of outliers below lower bound:  0\n",
      "\n",
      "\n",
      "Percent of outliers:  0.0 %\n"
     ]
    }
   ],
   "source": [
    "outliers('mobile_wt', df)"
   ]
  },
  {
   "cell_type": "markdown",
   "metadata": {},
   "source": [
    "#### n_cores"
   ]
  },
  {
   "cell_type": "code",
   "execution_count": 20,
   "metadata": {},
   "outputs": [
    {
     "data": {
      "image/png": "[encoded data removed]",
      "text/plain": [
       "<Figure size 432x288 with 1 Axes>"
      ]
     },
     "metadata": {
      "needs_background": "light"
     },
     "output_type": "display_data"
    },
    {
     "data": {
      "image/png": "[encoded data removed]",
      "text/plain": [
       "<Figure size 432x288 with 1 Axes>"
      ]
     },
     "metadata": {
      "needs_background": "light"
     },
     "output_type": "display_data"
    },
    {
     "name": "stdout",
     "output_type": "stream",
     "text": [
      "Upper bound:  13.0\n",
      "Lower bound:  -3.0\n",
      "\n",
      "\n",
      "Number of outliers above upper bound:  0\n",
      "Number of outliers below lower bound:  0\n",
      "\n",
      "\n",
      "Percent of outliers:  0.0 %\n"
     ]
    }
   ],
   "source": [
    "outliers('n_cores', df)"
   ]
  },
  {
   "cell_type": "markdown",
   "metadata": {},
   "source": [
    "#### pc"
   ]
  },
  {
   "cell_type": "code",
   "execution_count": 21,
   "metadata": {},
   "outputs": [
    {
     "data": {
      "image/png": "[encoded data removed]",
      "text/plain": [
       "<Figure size 432x288 with 1 Axes>"
      ]
     },
     "metadata": {
      "needs_background": "light"
     },
     "output_type": "display_data"
    },
    {
     "data": {
      "image/png": "[encoded data removed]",
      "text/plain": [
       "<Figure size 432x288 with 1 Axes>"
      ]
     },
     "metadata": {
      "needs_background": "light"
     },
     "output_type": "display_data"
    },
    {
     "name": "stdout",
     "output_type": "stream",
     "text": [
      "Upper bound:  30.0\n",
      "Lower bound:  -10.0\n",
      "\n",
      "\n",
      "Number of outliers above upper bound:  0\n",
      "Number of outliers below lower bound:  0\n",
      "\n",
      "\n",
      "Percent of outliers:  0.0 %\n"
     ]
    }
   ],
   "source": [
    "outliers('pc', df)"
   ]
  },
  {
   "cell_type": "markdown",
   "metadata": {},
   "source": [
    "#### px_height"
   ]
  },
  {
   "cell_type": "code",
   "execution_count": 22,
   "metadata": {},
   "outputs": [
    {
     "data": {
      "image/png": "[encoded data removed]",
      "text/plain": [
       "<Figure size 432x288 with 1 Axes>"
      ]
     },
     "metadata": {
      "needs_background": "light"
     },
     "output_type": "display_data"
    },
    {
     "data": {
      "image/png": "[encoded data removed]",
      "text/plain": [
       "<Figure size 432x288 with 1 Axes>"
      ]
     },
     "metadata": {
      "needs_background": "light"
     },
     "output_type": "display_data"
    },
    {
     "name": "stdout",
     "output_type": "stream",
     "text": [
      "Upper bound:  1944.0\n",
      "Lower bound:  -714.0\n",
      "\n",
      "\n",
      "Number of outliers above upper bound:  2\n",
      "Number of outliers below lower bound:  0\n",
      "\n",
      "\n",
      "Percent of outliers:  0.001 %\n"
     ]
    }
   ],
   "source": [
    "outliers('px_height', df)"
   ]
  },
  {
   "cell_type": "code",
   "execution_count": 23,
   "metadata": {},
   "outputs": [
    {
     "data": {
      "image/png": "[encoded data removed]",
      "text/plain": [
       "<Figure size 432x288 with 1 Axes>"
      ]
     },
     "metadata": {
      "needs_background": "light"
     },
     "output_type": "display_data"
    },
    {
     "data": {
      "image/png": "[encoded data removed]",
      "text/plain": [
       "<Figure size 432x288 with 1 Axes>"
      ]
     },
     "metadata": {
      "needs_background": "light"
     },
     "output_type": "display_data"
    },
    {
     "name": "stdout",
     "output_type": "stream",
     "text": [
      "Upper bound:  1944.0\n",
      "Lower bound:  -714.0\n",
      "\n",
      "\n",
      "Number of outliers above upper bound:  0\n",
      "Number of outliers below lower bound:  0\n",
      "\n",
      "\n",
      "Percent of outliers:  0.0 %\n"
     ]
    }
   ],
   "source": [
    "outliers('px_height', df, remove=True)"
   ]
  },
  {
   "cell_type": "markdown",
   "metadata": {},
   "source": [
    "#### px_width"
   ]
  },
  {
   "cell_type": "code",
   "execution_count": 24,
   "metadata": {},
   "outputs": [
    {
     "data": {
      "image/png": "[encoded data removed]",
      "text/plain": [
       "<Figure size 432x288 with 1 Axes>"
      ]
     },
     "metadata": {
      "needs_background": "light"
     },
     "output_type": "display_data"
    },
    {
     "data": {
      "image/png": "[encoded data removed]",
      "text/plain": [
       "<Figure size 432x288 with 1 Axes>"
      ]
     },
     "metadata": {
      "needs_background": "light"
     },
     "output_type": "display_data"
    },
    {
     "name": "stdout",
     "output_type": "stream",
     "text": [
      "Upper bound:  2770.375\n",
      "Lower bound:  -262.625\n",
      "\n",
      "\n",
      "Number of outliers above upper bound:  0\n",
      "Number of outliers below lower bound:  0\n",
      "\n",
      "\n",
      "Percent of outliers:  0.0 %\n"
     ]
    }
   ],
   "source": [
    "outliers('px_width', df)"
   ]
  },
  {
   "cell_type": "markdown",
   "metadata": {},
   "source": [
    "#### ram"
   ]
  },
  {
   "cell_type": "code",
   "execution_count": 25,
   "metadata": {},
   "outputs": [
    {
     "data": {
      "image/png": "[encoded data removed]",
      "text/plain": [
       "<Figure size 432x288 with 1 Axes>"
      ]
     },
     "metadata": {
      "needs_background": "light"
     },
     "output_type": "display_data"
    },
    {
     "data": {
      "image/png": "[encoded data removed]",
      "text/plain": [
       "<Figure size 432x288 with 1 Axes>"
      ]
     },
     "metadata": {
      "needs_background": "light"
     },
     "output_type": "display_data"
    },
    {
     "name": "stdout",
     "output_type": "stream",
     "text": [
      "Upper bound:  5850.0\n",
      "Lower bound:  -1578.0\n",
      "\n",
      "\n",
      "Number of outliers above upper bound:  0\n",
      "Number of outliers below lower bound:  0\n",
      "\n",
      "\n",
      "Percent of outliers:  0.0 %\n"
     ]
    }
   ],
   "source": [
    "outliers('ram', df)"
   ]
  },
  {
   "cell_type": "markdown",
   "metadata": {},
   "source": [
    "#### sc_h"
   ]
  },
  {
   "cell_type": "code",
   "execution_count": 26,
   "metadata": {},
   "outputs": [
    {
     "data": {
      "image/png": "[encoded data removed]",
      "text/plain": [
       "<Figure size 432x288 with 1 Axes>"
      ]
     },
     "metadata": {
      "needs_background": "light"
     },
     "output_type": "display_data"
    },
    {
     "data": {
      "image/png": "[encoded data removed]",
      "text/plain": [
       "<Figure size 432x288 with 1 Axes>"
      ]
     },
     "metadata": {
      "needs_background": "light"
     },
     "output_type": "display_data"
    },
    {
     "name": "stdout",
     "output_type": "stream",
     "text": [
      "Upper bound:  26.5\n",
      "Lower bound:  -1.5\n",
      "\n",
      "\n",
      "Number of outliers above upper bound:  0\n",
      "Number of outliers below lower bound:  0\n",
      "\n",
      "\n",
      "Percent of outliers:  0.0 %\n"
     ]
    }
   ],
   "source": [
    "outliers('sc_h', df)"
   ]
  },
  {
   "cell_type": "markdown",
   "metadata": {},
   "source": [
    "#### sc_w"
   ]
  },
  {
   "cell_type": "code",
   "execution_count": 27,
   "metadata": {},
   "outputs": [
    {
     "data": {
      "image/png": "[encoded data removed]",
      "text/plain": [
       "<Figure size 432x288 with 1 Axes>"
      ]
     },
     "metadata": {
      "needs_background": "light"
     },
     "output_type": "display_data"
    },
    {
     "data": {
      "image/png": "[encoded data removed]",
      "text/plain": [
       "<Figure size 432x288 with 1 Axes>"
      ]
     },
     "metadata": {
      "needs_background": "light"
     },
     "output_type": "display_data"
    },
    {
     "name": "stdout",
     "output_type": "stream",
     "text": [
      "Upper bound:  19.5\n",
      "Lower bound:  -8.5\n",
      "\n",
      "\n",
      "Number of outliers above upper bound:  0\n",
      "Number of outliers below lower bound:  0\n",
      "\n",
      "\n",
      "Percent of outliers:  0.0 %\n"
     ]
    }
   ],
   "source": [
    "outliers('sc_w', df)"
   ]
  },
  {
   "cell_type": "markdown",
   "metadata": {},
   "source": [
    "#### talk_time"
   ]
  },
  {
   "cell_type": "code",
   "execution_count": 28,
   "metadata": {},
   "outputs": [
    {
     "data": {
      "image/png": "[encoded data removed]",
      "text/plain": [
       "<Figure size 432x288 with 1 Axes>"
      ]
     },
     "metadata": {
      "needs_background": "light"
     },
     "output_type": "display_data"
    },
    {
     "data": {
      "image/png": "[encoded data removed]",
      "text/plain": [
       "<Figure size 432x288 with 1 Axes>"
      ]
     },
     "metadata": {
      "needs_background": "light"
     },
     "output_type": "display_data"
    },
    {
     "name": "stdout",
     "output_type": "stream",
     "text": [
      "Upper bound:  31.0\n",
      "Lower bound:  -9.0\n",
      "\n",
      "\n",
      "Number of outliers above upper bound:  0\n",
      "Number of outliers below lower bound:  0\n",
      "\n",
      "\n",
      "Percent of outliers:  0.0 %\n"
     ]
    }
   ],
   "source": [
    "outliers('talk_time', df)"
   ]
  },
  {
   "cell_type": "markdown",
   "metadata": {},
   "source": [
    "#### price_range"
   ]
  },
  {
   "cell_type": "code",
   "execution_count": 29,
   "metadata": {},
   "outputs": [
    {
     "data": {
      "image/png": "[encoded data removed]",
      "text/plain": [
       "<Figure size 432x288 with 1 Axes>"
      ]
     },
     "metadata": {
      "needs_background": "light"
     },
     "output_type": "display_data"
    },
    {
     "data": {
      "image/png": "[encoded data removed]",
      "text/plain": [
       "<Figure size 432x288 with 1 Axes>"
      ]
     },
     "metadata": {
      "needs_background": "light"
     },
     "output_type": "display_data"
    },
    {
     "name": "stdout",
     "output_type": "stream",
     "text": [
      "Upper bound:  4.5\n",
      "Lower bound:  -1.5\n",
      "\n",
      "\n",
      "Number of outliers above upper bound:  0\n",
      "Number of outliers below lower bound:  0\n",
      "\n",
      "\n",
      "Percent of outliers:  0.0 %\n"
     ]
    }
   ],
   "source": [
    "outliers('price_range', df)"
   ]
  },
  {
   "cell_type": "markdown",
   "metadata": {},
   "source": [
    "# Exploratory Data Analysis (EDA)"
   ]
  },
  {
   "cell_type": "code",
   "execution_count": 30,
   "metadata": {
    "scrolled": true
   },
   "outputs": [
    {
     "data": {
      "text/plain": [
       "(2000, 15)"
      ]
     },
     "execution_count": 30,
     "metadata": {},
     "output_type": "execute_result"
    }
   ],
   "source": [
    "df.shape"
   ]
  },
  {
   "cell_type": "code",
   "execution_count": 31,
   "metadata": {},
   "outputs": [],
   "source": [
    "X = df.drop('price_range', axis=1)\n",
    "y = df[['price_range']]"
   ]
  },
  {
   "cell_type": "code",
   "execution_count": 32,
   "metadata": {},
   "outputs": [
    {
     "data": {
      "text/html": [
       "<div>\n",
       "<style scoped>\n",
       "    .dataframe tbody tr th:only-of-type {\n",
       "        vertical-align: middle;\n",
       "    }\n",
       "\n",
       "    .dataframe tbody tr th {\n",
       "        vertical-align: top;\n",
       "    }\n",
       "\n",
       "    .dataframe thead th {\n",
       "        text-align: right;\n",
       "    }\n",
       "</style>\n",
       "<table border=\"1\" class=\"dataframe\">\n",
       "  <thead>\n",
       "    <tr style=\"text-align: right;\">\n",
       "      <th></th>\n",
       "      <th>battery_power</th>\n",
       "      <th>clock_speed</th>\n",
       "      <th>fc</th>\n",
       "      <th>int_memory</th>\n",
       "      <th>m_dep</th>\n",
       "      <th>mobile_wt</th>\n",
       "      <th>n_cores</th>\n",
       "      <th>pc</th>\n",
       "      <th>px_height</th>\n",
       "      <th>px_width</th>\n",
       "      <th>ram</th>\n",
       "      <th>sc_h</th>\n",
       "      <th>sc_w</th>\n",
       "      <th>talk_time</th>\n",
       "    </tr>\n",
       "  </thead>\n",
       "  <tbody>\n",
       "    <tr>\n",
       "      <th>0</th>\n",
       "      <td>842</td>\n",
       "      <td>2.2</td>\n",
       "      <td>1</td>\n",
       "      <td>7</td>\n",
       "      <td>0.6</td>\n",
       "      <td>188</td>\n",
       "      <td>2</td>\n",
       "      <td>2</td>\n",
       "      <td>20</td>\n",
       "      <td>756</td>\n",
       "      <td>2549</td>\n",
       "      <td>9</td>\n",
       "      <td>7</td>\n",
       "      <td>19</td>\n",
       "    </tr>\n",
       "    <tr>\n",
       "      <th>1</th>\n",
       "      <td>1021</td>\n",
       "      <td>0.5</td>\n",
       "      <td>0</td>\n",
       "      <td>53</td>\n",
       "      <td>0.7</td>\n",
       "      <td>136</td>\n",
       "      <td>3</td>\n",
       "      <td>6</td>\n",
       "      <td>905</td>\n",
       "      <td>1988</td>\n",
       "      <td>2631</td>\n",
       "      <td>17</td>\n",
       "      <td>3</td>\n",
       "      <td>7</td>\n",
       "    </tr>\n",
       "    <tr>\n",
       "      <th>2</th>\n",
       "      <td>563</td>\n",
       "      <td>0.5</td>\n",
       "      <td>2</td>\n",
       "      <td>41</td>\n",
       "      <td>0.9</td>\n",
       "      <td>145</td>\n",
       "      <td>5</td>\n",
       "      <td>6</td>\n",
       "      <td>1263</td>\n",
       "      <td>1716</td>\n",
       "      <td>2603</td>\n",
       "      <td>11</td>\n",
       "      <td>2</td>\n",
       "      <td>9</td>\n",
       "    </tr>\n",
       "    <tr>\n",
       "      <th>3</th>\n",
       "      <td>615</td>\n",
       "      <td>2.5</td>\n",
       "      <td>0</td>\n",
       "      <td>10</td>\n",
       "      <td>0.8</td>\n",
       "      <td>131</td>\n",
       "      <td>6</td>\n",
       "      <td>9</td>\n",
       "      <td>1216</td>\n",
       "      <td>1786</td>\n",
       "      <td>2769</td>\n",
       "      <td>16</td>\n",
       "      <td>8</td>\n",
       "      <td>11</td>\n",
       "    </tr>\n",
       "    <tr>\n",
       "      <th>4</th>\n",
       "      <td>1821</td>\n",
       "      <td>1.2</td>\n",
       "      <td>13</td>\n",
       "      <td>44</td>\n",
       "      <td>0.6</td>\n",
       "      <td>141</td>\n",
       "      <td>2</td>\n",
       "      <td>14</td>\n",
       "      <td>1208</td>\n",
       "      <td>1212</td>\n",
       "      <td>1411</td>\n",
       "      <td>8</td>\n",
       "      <td>2</td>\n",
       "      <td>15</td>\n",
       "    </tr>\n",
       "  </tbody>\n",
       "</table>\n",
       "</div>"
      ],
      "text/plain": [
       "   battery_power  clock_speed  fc  int_memory  m_dep  mobile_wt  n_cores  pc  \\\n",
       "0            842          2.2   1           7    0.6        188        2   2   \n",
       "1           1021          0.5   0          53    0.7        136        3   6   \n",
       "2            563          0.5   2          41    0.9        145        5   6   \n",
       "3            615          2.5   0          10    0.8        131        6   9   \n",
       "4           1821          1.2  13          44    0.6        141        2  14   \n",
       "\n",
       "   px_height  px_width   ram  sc_h  sc_w  talk_time  \n",
       "0         20       756  2549     9     7         19  \n",
       "1        905      1988  2631    17     3          7  \n",
       "2       1263      1716  2603    11     2          9  \n",
       "3       1216      1786  2769    16     8         11  \n",
       "4       1208      1212  1411     8     2         15  "
      ]
     },
     "execution_count": 32,
     "metadata": {},
     "output_type": "execute_result"
    }
   ],
   "source": [
    "X.head()"
   ]
  },
  {
   "cell_type": "code",
   "execution_count": 33,
   "metadata": {},
   "outputs": [
    {
     "data": {
      "text/html": [
       "<div>\n",
       "<style scoped>\n",
       "    .dataframe tbody tr th:only-of-type {\n",
       "        vertical-align: middle;\n",
       "    }\n",
       "\n",
       "    .dataframe tbody tr th {\n",
       "        vertical-align: top;\n",
       "    }\n",
       "\n",
       "    .dataframe thead th {\n",
       "        text-align: right;\n",
       "    }\n",
       "</style>\n",
       "<table border=\"1\" class=\"dataframe\">\n",
       "  <thead>\n",
       "    <tr style=\"text-align: right;\">\n",
       "      <th></th>\n",
       "      <th>price_range</th>\n",
       "    </tr>\n",
       "  </thead>\n",
       "  <tbody>\n",
       "    <tr>\n",
       "      <th>0</th>\n",
       "      <td>1</td>\n",
       "    </tr>\n",
       "    <tr>\n",
       "      <th>1</th>\n",
       "      <td>2</td>\n",
       "    </tr>\n",
       "    <tr>\n",
       "      <th>2</th>\n",
       "      <td>2</td>\n",
       "    </tr>\n",
       "    <tr>\n",
       "      <th>3</th>\n",
       "      <td>2</td>\n",
       "    </tr>\n",
       "    <tr>\n",
       "      <th>4</th>\n",
       "      <td>1</td>\n",
       "    </tr>\n",
       "  </tbody>\n",
       "</table>\n",
       "</div>"
      ],
      "text/plain": [
       "   price_range\n",
       "0            1\n",
       "1            2\n",
       "2            2\n",
       "3            2\n",
       "4            1"
      ]
     },
     "execution_count": 33,
     "metadata": {},
     "output_type": "execute_result"
    }
   ],
   "source": [
    "y.head()"
   ]
  },
  {
   "cell_type": "code",
   "execution_count": 34,
   "metadata": {},
   "outputs": [
    {
     "data": {
      "text/plain": [
       "(2000, 14)"
      ]
     },
     "execution_count": 34,
     "metadata": {},
     "output_type": "execute_result"
    }
   ],
   "source": [
    "X.shape"
   ]
  },
  {
   "cell_type": "code",
   "execution_count": 35,
   "metadata": {},
   "outputs": [
    {
     "data": {
      "text/plain": [
       "(2000, 1)"
      ]
     },
     "execution_count": 35,
     "metadata": {},
     "output_type": "execute_result"
    }
   ],
   "source": [
    "y.shape"
   ]
  },
  {
   "cell_type": "code",
   "execution_count": 36,
   "metadata": {},
   "outputs": [],
   "source": [
    "from sklearn.model_selection import train_test_split\n",
    "\n",
    "X_train, X_test, y_train, y_test = train_test_split(X, y, test_size=0.2, random_state=42)"
   ]
  },
  {
   "cell_type": "code",
   "execution_count": 37,
   "metadata": {},
   "outputs": [
    {
     "data": {
      "text/html": [
       "<div>\n",
       "<style scoped>\n",
       "    .dataframe tbody tr th:only-of-type {\n",
       "        vertical-align: middle;\n",
       "    }\n",
       "\n",
       "    .dataframe tbody tr th {\n",
       "        vertical-align: top;\n",
       "    }\n",
       "\n",
       "    .dataframe thead th {\n",
       "        text-align: right;\n",
       "    }\n",
       "</style>\n",
       "<table border=\"1\" class=\"dataframe\">\n",
       "  <thead>\n",
       "    <tr style=\"text-align: right;\">\n",
       "      <th></th>\n",
       "      <th>battery_power</th>\n",
       "      <th>clock_speed</th>\n",
       "      <th>fc</th>\n",
       "      <th>int_memory</th>\n",
       "      <th>m_dep</th>\n",
       "      <th>mobile_wt</th>\n",
       "      <th>n_cores</th>\n",
       "      <th>pc</th>\n",
       "      <th>px_height</th>\n",
       "      <th>px_width</th>\n",
       "      <th>ram</th>\n",
       "      <th>sc_h</th>\n",
       "      <th>sc_w</th>\n",
       "      <th>talk_time</th>\n",
       "    </tr>\n",
       "  </thead>\n",
       "  <tbody>\n",
       "    <tr>\n",
       "      <th>968</th>\n",
       "      <td>1923</td>\n",
       "      <td>0.5</td>\n",
       "      <td>7</td>\n",
       "      <td>46</td>\n",
       "      <td>0.5</td>\n",
       "      <td>191</td>\n",
       "      <td>1</td>\n",
       "      <td>10</td>\n",
       "      <td>767</td>\n",
       "      <td>1759</td>\n",
       "      <td>1489</td>\n",
       "      <td>10</td>\n",
       "      <td>9</td>\n",
       "      <td>3</td>\n",
       "    </tr>\n",
       "    <tr>\n",
       "      <th>240</th>\n",
       "      <td>633</td>\n",
       "      <td>2.2</td>\n",
       "      <td>0</td>\n",
       "      <td>49</td>\n",
       "      <td>0.1</td>\n",
       "      <td>139</td>\n",
       "      <td>8</td>\n",
       "      <td>1</td>\n",
       "      <td>529</td>\n",
       "      <td>1009</td>\n",
       "      <td>3560</td>\n",
       "      <td>11</td>\n",
       "      <td>1</td>\n",
       "      <td>16</td>\n",
       "    </tr>\n",
       "    <tr>\n",
       "      <th>819</th>\n",
       "      <td>1236</td>\n",
       "      <td>0.9</td>\n",
       "      <td>2</td>\n",
       "      <td>57</td>\n",
       "      <td>0.1</td>\n",
       "      <td>188</td>\n",
       "      <td>1</td>\n",
       "      <td>14</td>\n",
       "      <td>517</td>\n",
       "      <td>809</td>\n",
       "      <td>1406</td>\n",
       "      <td>14</td>\n",
       "      <td>12</td>\n",
       "      <td>20</td>\n",
       "    </tr>\n",
       "    <tr>\n",
       "      <th>692</th>\n",
       "      <td>781</td>\n",
       "      <td>1.1</td>\n",
       "      <td>2</td>\n",
       "      <td>38</td>\n",
       "      <td>0.4</td>\n",
       "      <td>198</td>\n",
       "      <td>5</td>\n",
       "      <td>7</td>\n",
       "      <td>304</td>\n",
       "      <td>1674</td>\n",
       "      <td>3508</td>\n",
       "      <td>13</td>\n",
       "      <td>8</td>\n",
       "      <td>5</td>\n",
       "    </tr>\n",
       "    <tr>\n",
       "      <th>420</th>\n",
       "      <td>1456</td>\n",
       "      <td>0.5</td>\n",
       "      <td>7</td>\n",
       "      <td>7</td>\n",
       "      <td>0.4</td>\n",
       "      <td>105</td>\n",
       "      <td>5</td>\n",
       "      <td>12</td>\n",
       "      <td>823</td>\n",
       "      <td>1104</td>\n",
       "      <td>1587</td>\n",
       "      <td>6</td>\n",
       "      <td>5</td>\n",
       "      <td>20</td>\n",
       "    </tr>\n",
       "  </tbody>\n",
       "</table>\n",
       "</div>"
      ],
      "text/plain": [
       "     battery_power  clock_speed  fc  int_memory  m_dep  mobile_wt  n_cores  \\\n",
       "968           1923          0.5   7          46    0.5        191        1   \n",
       "240            633          2.2   0          49    0.1        139        8   \n",
       "819           1236          0.9   2          57    0.1        188        1   \n",
       "692            781          1.1   2          38    0.4        198        5   \n",
       "420           1456          0.5   7           7    0.4        105        5   \n",
       "\n",
       "     pc  px_height  px_width   ram  sc_h  sc_w  talk_time  \n",
       "968  10        767      1759  1489    10     9          3  \n",
       "240   1        529      1009  3560    11     1         16  \n",
       "819  14        517       809  1406    14    12         20  \n",
       "692   7        304      1674  3508    13     8          5  \n",
       "420  12        823      1104  1587     6     5         20  "
      ]
     },
     "execution_count": 37,
     "metadata": {},
     "output_type": "execute_result"
    }
   ],
   "source": [
    "X_train.head()"
   ]
  },
  {
   "cell_type": "code",
   "execution_count": 38,
   "metadata": {},
   "outputs": [
    {
     "data": {
      "text/html": [
       "<div>\n",
       "<style scoped>\n",
       "    .dataframe tbody tr th:only-of-type {\n",
       "        vertical-align: middle;\n",
       "    }\n",
       "\n",
       "    .dataframe tbody tr th {\n",
       "        vertical-align: top;\n",
       "    }\n",
       "\n",
       "    .dataframe thead th {\n",
       "        text-align: right;\n",
       "    }\n",
       "</style>\n",
       "<table border=\"1\" class=\"dataframe\">\n",
       "  <thead>\n",
       "    <tr style=\"text-align: right;\">\n",
       "      <th></th>\n",
       "      <th>price_range</th>\n",
       "    </tr>\n",
       "  </thead>\n",
       "  <tbody>\n",
       "    <tr>\n",
       "      <th>968</th>\n",
       "      <td>1</td>\n",
       "    </tr>\n",
       "    <tr>\n",
       "      <th>240</th>\n",
       "      <td>2</td>\n",
       "    </tr>\n",
       "    <tr>\n",
       "      <th>819</th>\n",
       "      <td>0</td>\n",
       "    </tr>\n",
       "    <tr>\n",
       "      <th>692</th>\n",
       "      <td>3</td>\n",
       "    </tr>\n",
       "    <tr>\n",
       "      <th>420</th>\n",
       "      <td>1</td>\n",
       "    </tr>\n",
       "  </tbody>\n",
       "</table>\n",
       "</div>"
      ],
      "text/plain": [
       "     price_range\n",
       "968            1\n",
       "240            2\n",
       "819            0\n",
       "692            3\n",
       "420            1"
      ]
     },
     "execution_count": 38,
     "metadata": {},
     "output_type": "execute_result"
    }
   ],
   "source": [
    "y_train.head()"
   ]
  },
  {
   "cell_type": "code",
   "execution_count": 39,
   "metadata": {},
   "outputs": [
    {
     "data": {
      "text/html": [
       "<div>\n",
       "<style scoped>\n",
       "    .dataframe tbody tr th:only-of-type {\n",
       "        vertical-align: middle;\n",
       "    }\n",
       "\n",
       "    .dataframe tbody tr th {\n",
       "        vertical-align: top;\n",
       "    }\n",
       "\n",
       "    .dataframe thead th {\n",
       "        text-align: right;\n",
       "    }\n",
       "</style>\n",
       "<table border=\"1\" class=\"dataframe\">\n",
       "  <thead>\n",
       "    <tr style=\"text-align: right;\">\n",
       "      <th></th>\n",
       "      <th>battery_power</th>\n",
       "      <th>clock_speed</th>\n",
       "      <th>fc</th>\n",
       "      <th>int_memory</th>\n",
       "      <th>m_dep</th>\n",
       "      <th>mobile_wt</th>\n",
       "      <th>n_cores</th>\n",
       "      <th>pc</th>\n",
       "      <th>px_height</th>\n",
       "      <th>px_width</th>\n",
       "      <th>ram</th>\n",
       "      <th>sc_h</th>\n",
       "      <th>sc_w</th>\n",
       "      <th>talk_time</th>\n",
       "    </tr>\n",
       "  </thead>\n",
       "  <tbody>\n",
       "    <tr>\n",
       "      <th>1860</th>\n",
       "      <td>1646</td>\n",
       "      <td>2.5</td>\n",
       "      <td>3</td>\n",
       "      <td>25</td>\n",
       "      <td>0.6</td>\n",
       "      <td>200</td>\n",
       "      <td>2</td>\n",
       "      <td>5</td>\n",
       "      <td>211</td>\n",
       "      <td>1608</td>\n",
       "      <td>686</td>\n",
       "      <td>8</td>\n",
       "      <td>6</td>\n",
       "      <td>11</td>\n",
       "    </tr>\n",
       "    <tr>\n",
       "      <th>353</th>\n",
       "      <td>1182</td>\n",
       "      <td>0.5</td>\n",
       "      <td>7</td>\n",
       "      <td>8</td>\n",
       "      <td>0.5</td>\n",
       "      <td>138</td>\n",
       "      <td>8</td>\n",
       "      <td>16</td>\n",
       "      <td>275</td>\n",
       "      <td>986</td>\n",
       "      <td>2563</td>\n",
       "      <td>19</td>\n",
       "      <td>17</td>\n",
       "      <td>19</td>\n",
       "    </tr>\n",
       "    <tr>\n",
       "      <th>1333</th>\n",
       "      <td>1972</td>\n",
       "      <td>2.9</td>\n",
       "      <td>9</td>\n",
       "      <td>14</td>\n",
       "      <td>0.4</td>\n",
       "      <td>196</td>\n",
       "      <td>7</td>\n",
       "      <td>18</td>\n",
       "      <td>293</td>\n",
       "      <td>952</td>\n",
       "      <td>1316</td>\n",
       "      <td>8</td>\n",
       "      <td>1</td>\n",
       "      <td>8</td>\n",
       "    </tr>\n",
       "    <tr>\n",
       "      <th>905</th>\n",
       "      <td>989</td>\n",
       "      <td>2.0</td>\n",
       "      <td>4</td>\n",
       "      <td>17</td>\n",
       "      <td>0.2</td>\n",
       "      <td>166</td>\n",
       "      <td>3</td>\n",
       "      <td>19</td>\n",
       "      <td>256</td>\n",
       "      <td>1394</td>\n",
       "      <td>3892</td>\n",
       "      <td>18</td>\n",
       "      <td>7</td>\n",
       "      <td>19</td>\n",
       "    </tr>\n",
       "    <tr>\n",
       "      <th>1289</th>\n",
       "      <td>615</td>\n",
       "      <td>0.5</td>\n",
       "      <td>7</td>\n",
       "      <td>58</td>\n",
       "      <td>0.5</td>\n",
       "      <td>130</td>\n",
       "      <td>5</td>\n",
       "      <td>8</td>\n",
       "      <td>1021</td>\n",
       "      <td>1958</td>\n",
       "      <td>1906</td>\n",
       "      <td>14</td>\n",
       "      <td>5</td>\n",
       "      <td>5</td>\n",
       "    </tr>\n",
       "  </tbody>\n",
       "</table>\n",
       "</div>"
      ],
      "text/plain": [
       "      battery_power  clock_speed  fc  int_memory  m_dep  mobile_wt  n_cores  \\\n",
       "1860           1646          2.5   3          25    0.6        200        2   \n",
       "353            1182          0.5   7           8    0.5        138        8   \n",
       "1333           1972          2.9   9          14    0.4        196        7   \n",
       "905             989          2.0   4          17    0.2        166        3   \n",
       "1289            615          0.5   7          58    0.5        130        5   \n",
       "\n",
       "      pc  px_height  px_width   ram  sc_h  sc_w  talk_time  \n",
       "1860   5        211      1608   686     8     6         11  \n",
       "353   16        275       986  2563    19    17         19  \n",
       "1333  18        293       952  1316     8     1          8  \n",
       "905   19        256      1394  3892    18     7         19  \n",
       "1289   8       1021      1958  1906    14     5          5  "
      ]
     },
     "execution_count": 39,
     "metadata": {},
     "output_type": "execute_result"
    }
   ],
   "source": [
    "X_test.head()"
   ]
  },
  {
   "cell_type": "code",
   "execution_count": 40,
   "metadata": {},
   "outputs": [
    {
     "data": {
      "text/html": [
       "<div>\n",
       "<style scoped>\n",
       "    .dataframe tbody tr th:only-of-type {\n",
       "        vertical-align: middle;\n",
       "    }\n",
       "\n",
       "    .dataframe tbody tr th {\n",
       "        vertical-align: top;\n",
       "    }\n",
       "\n",
       "    .dataframe thead th {\n",
       "        text-align: right;\n",
       "    }\n",
       "</style>\n",
       "<table border=\"1\" class=\"dataframe\">\n",
       "  <thead>\n",
       "    <tr style=\"text-align: right;\">\n",
       "      <th></th>\n",
       "      <th>price_range</th>\n",
       "    </tr>\n",
       "  </thead>\n",
       "  <tbody>\n",
       "    <tr>\n",
       "      <th>1860</th>\n",
       "      <td>0</td>\n",
       "    </tr>\n",
       "    <tr>\n",
       "      <th>353</th>\n",
       "      <td>2</td>\n",
       "    </tr>\n",
       "    <tr>\n",
       "      <th>1333</th>\n",
       "      <td>1</td>\n",
       "    </tr>\n",
       "    <tr>\n",
       "      <th>905</th>\n",
       "      <td>3</td>\n",
       "    </tr>\n",
       "    <tr>\n",
       "      <th>1289</th>\n",
       "      <td>1</td>\n",
       "    </tr>\n",
       "  </tbody>\n",
       "</table>\n",
       "</div>"
      ],
      "text/plain": [
       "      price_range\n",
       "1860            0\n",
       "353             2\n",
       "1333            1\n",
       "905             3\n",
       "1289            1"
      ]
     },
     "execution_count": 40,
     "metadata": {},
     "output_type": "execute_result"
    }
   ],
   "source": [
    "y_test.head()"
   ]
  },
  {
   "cell_type": "code",
   "execution_count": 41,
   "metadata": {},
   "outputs": [
    {
     "data": {
      "text/plain": [
       "(1600, 14)"
      ]
     },
     "execution_count": 41,
     "metadata": {},
     "output_type": "execute_result"
    }
   ],
   "source": [
    "X_train.shape"
   ]
  },
  {
   "cell_type": "code",
   "execution_count": 42,
   "metadata": {},
   "outputs": [
    {
     "data": {
      "text/plain": [
       "(1600, 1)"
      ]
     },
     "execution_count": 42,
     "metadata": {},
     "output_type": "execute_result"
    }
   ],
   "source": [
    "y_train.shape"
   ]
  },
  {
   "cell_type": "code",
   "execution_count": 43,
   "metadata": {},
   "outputs": [
    {
     "data": {
      "text/plain": [
       "(400, 14)"
      ]
     },
     "execution_count": 43,
     "metadata": {},
     "output_type": "execute_result"
    }
   ],
   "source": [
    "X_test.shape"
   ]
  },
  {
   "cell_type": "code",
   "execution_count": 44,
   "metadata": {},
   "outputs": [
    {
     "data": {
      "text/plain": [
       "(400, 1)"
      ]
     },
     "execution_count": 44,
     "metadata": {},
     "output_type": "execute_result"
    }
   ],
   "source": [
    "y_test.shape"
   ]
  },
  {
   "cell_type": "code",
   "execution_count": 45,
   "metadata": {},
   "outputs": [],
   "source": [
    "Xy_train = pd.concat([X_train, y_train], axis=1)\n",
    "Xy_test = pd.concat([X_test, y_test], axis=1)"
   ]
  },
  {
   "cell_type": "code",
   "execution_count": 46,
   "metadata": {},
   "outputs": [
    {
     "data": {
      "text/plain": [
       "(1600, 15)"
      ]
     },
     "execution_count": 46,
     "metadata": {},
     "output_type": "execute_result"
    }
   ],
   "source": [
    "Xy_train.shape"
   ]
  },
  {
   "cell_type": "code",
   "execution_count": 47,
   "metadata": {},
   "outputs": [
    {
     "data": {
      "text/plain": [
       "(400, 15)"
      ]
     },
     "execution_count": 47,
     "metadata": {},
     "output_type": "execute_result"
    }
   ],
   "source": [
    "Xy_test.shape"
   ]
  },
  {
   "cell_type": "markdown",
   "metadata": {},
   "source": [
    "### Necessary functions"
   ]
  },
  {
   "cell_type": "code",
   "execution_count": 48,
   "metadata": {},
   "outputs": [],
   "source": [
    "action = {}"
   ]
  },
  {
   "cell_type": "code",
   "execution_count": 49,
   "metadata": {},
   "outputs": [],
   "source": [
    "def plot(data):\n",
    "    plt.figure(figsize=(9,5))\n",
    "    sns.distplot(data)\n",
    "    plt.show()\n",
    "    \n",
    "    plt.figure(figsize=(9,5))\n",
    "    sns.boxplot(data)\n",
    "    plt.show()"
   ]
  },
  {
   "cell_type": "code",
   "execution_count": 50,
   "metadata": {},
   "outputs": [],
   "source": [
    "def anova(num, cat, data):\n",
    "    import statsmodels.api as sm\n",
    "    from statsmodels.formula.api import ols\n",
    "    \n",
    "    Ho = f'There is no significant difference between the levels of {cat} with respect to {num} mean (No predictability)'\n",
    "    Ha = f'There is a significant difference between the levels of {cat} with respect to {num} mean (Good predictor)'\n",
    "    print('Ho: ', Ho)\n",
    "    print('Ha: ', Ha)\n",
    "    print('\\n')\n",
    "    \n",
    "    alpha = 0.05\n",
    "    \n",
    "    anova_model = ols(f'{cat} ~ C({num})', data=data).fit()\n",
    "    aov_table = sm.stats.anova_lm(anova_model, typ=2)\n",
    "    print(aov_table, '\\n')\n",
    "    p = aov_table['PR(>F)'].iloc[0]\n",
    "    \n",
    "    if p>alpha:\n",
    "        print('Fail to reject Ho, ', Ho)\n",
    "    else:\n",
    "        print('Reject Ho, ', Ha)"
   ]
  },
  {
   "cell_type": "code",
   "execution_count": 51,
   "metadata": {},
   "outputs": [],
   "source": [
    "def chi2(x, y, data):\n",
    "    from scipy.stats import chi2_contingency\n",
    "    \n",
    "    print(f'Chi square test between {x} and {y}\\n')\n",
    "            \n",
    "    Ho = f'There is no significant assosiation betweeen {x} and {y} (No predictability)'\n",
    "    Ha = f'There is relation between {x} and {y} (Good predictor)'\n",
    "\n",
    "    print('Ho: ', Ho)\n",
    "    print('Ha: ', Ha)\n",
    "    print('\\n')\n",
    "\n",
    "    ct = pd.crosstab(data[x], data[y]).values\n",
    "    ct_for_print = pd.crosstab(data[x], data[y], rownames=[f'{x}'], colnames=[f'{y}'], margins=True)\n",
    "    print(ct_for_print)\n",
    "    print('\\n')\n",
    "\n",
    "    chi2, p, dof, ex = chi2_contingency(ct)\n",
    "    print('chi-square stats: ', chi2)\n",
    "    print('p-value: ', p)\n",
    "    print('\\n')\n",
    "\n",
    "    alpha = 0.05\n",
    "    if p>alpha:\n",
    "        print('Fail to reject null hypothesis, ', Ho)\n",
    "        print('\\n')\n",
    "        print(f'>>> Drop {x}')\n",
    "    else:\n",
    "        print('Reject null hypothesis, ', Ha)\n",
    "        print('\\n')\n",
    "        print(f'>>> {x} can be useful')"
   ]
  },
  {
   "cell_type": "markdown",
   "metadata": {},
   "source": [
    "#### price_range"
   ]
  },
  {
   "cell_type": "code",
   "execution_count": 52,
   "metadata": {},
   "outputs": [
    {
     "data": {
      "text/plain": [
       "Description    This is the target variable with the value of 0(low cost), 1(medium cost), 2(high cost) and 3(very high cost).\n",
       "Name: price_range, dtype: object"
      ]
     },
     "execution_count": 52,
     "metadata": {},
     "output_type": "execute_result"
    }
   ],
   "source": [
    "df_desc['price_range']"
   ]
  },
  {
   "cell_type": "code",
   "execution_count": 53,
   "metadata": {},
   "outputs": [
    {
     "data": {
      "text/plain": [
       "1    409\n",
       "2    408\n",
       "0    395\n",
       "3    388\n",
       "Name: price_range, dtype: int64"
      ]
     },
     "execution_count": 53,
     "metadata": {},
     "output_type": "execute_result"
    }
   ],
   "source": [
    "Xy_train['price_range'].value_counts()"
   ]
  },
  {
   "cell_type": "code",
   "execution_count": 54,
   "metadata": {},
   "outputs": [
    {
     "data": {
      "text/plain": [
       "<matplotlib.axes._subplots.AxesSubplot at 0x1d3470c13a0>"
      ]
     },
     "execution_count": 54,
     "metadata": {},
     "output_type": "execute_result"
    },
    {
     "data": {
      "image/png": "[encoded data removed]",
      "text/plain": [
       "<Figure size 432x288 with 1 Axes>"
      ]
     },
     "metadata": {
      "needs_background": "light"
     },
     "output_type": "display_data"
    }
   ],
   "source": [
    "sns.countplot(Xy_train['price_range'])"
   ]
  },
  {
   "cell_type": "code",
   "execution_count": 55,
   "metadata": {},
   "outputs": [],
   "source": [
    "# All the levels have equal counts"
   ]
  },
  {
   "cell_type": "markdown",
   "metadata": {},
   "source": [
    "#### battery_power"
   ]
  },
  {
   "cell_type": "code",
   "execution_count": 56,
   "metadata": {},
   "outputs": [
    {
     "data": {
      "text/plain": [
       "Description    Total energy a battery can store in one time measured in mAh\n",
       "Name: battery_power, dtype: object"
      ]
     },
     "execution_count": 56,
     "metadata": {},
     "output_type": "execute_result"
    }
   ],
   "source": [
    "df_desc['battery_power']"
   ]
  },
  {
   "cell_type": "code",
   "execution_count": 57,
   "metadata": {},
   "outputs": [
    {
     "data": {
      "text/plain": [
       "968    1923\n",
       "240     633\n",
       "819    1236\n",
       "692     781\n",
       "420    1456\n",
       "Name: battery_power, dtype: int64"
      ]
     },
     "execution_count": 57,
     "metadata": {},
     "output_type": "execute_result"
    }
   ],
   "source": [
    "Xy_train.battery_power.head()"
   ]
  },
  {
   "cell_type": "code",
   "execution_count": 58,
   "metadata": {},
   "outputs": [
    {
     "data": {
      "image/png": "[encoded data removed]",
      "text/plain": [
       "<Figure size 648x360 with 1 Axes>"
      ]
     },
     "metadata": {
      "needs_background": "light"
     },
     "output_type": "display_data"
    },
    {
     "data": {
      "image/png": "[encoded data removed]",
      "text/plain": [
       "<Figure size 648x360 with 1 Axes>"
      ]
     },
     "metadata": {
      "needs_background": "light"
     },
     "output_type": "display_data"
    }
   ],
   "source": [
    "plot(Xy_train['battery_power'])"
   ]
  },
  {
   "cell_type": "code",
   "execution_count": 59,
   "metadata": {},
   "outputs": [
    {
     "data": {
      "text/plain": [
       "count    1600.000000\n",
       "mean     1240.808750\n",
       "std       440.727396\n",
       "min       501.000000\n",
       "25%       852.000000\n",
       "50%      1231.000000\n",
       "75%      1619.000000\n",
       "max      1998.000000\n",
       "Name: battery_power, dtype: float64"
      ]
     },
     "execution_count": 59,
     "metadata": {},
     "output_type": "execute_result"
    }
   ],
   "source": [
    "Xy_train.battery_power.describe()"
   ]
  },
  {
   "cell_type": "code",
   "execution_count": 60,
   "metadata": {},
   "outputs": [],
   "source": [
    "# battery_power ranges from 501 to 1998\n",
    "# There are almost equal number of observations for different battery_power.\n",
    "# ie, the distribution is uniform"
   ]
  },
  {
   "cell_type": "code",
   "execution_count": 61,
   "metadata": {},
   "outputs": [],
   "source": [
    "# Lets see the relation between battery power and price_range"
   ]
  },
  {
   "cell_type": "code",
   "execution_count": 62,
   "metadata": {},
   "outputs": [
    {
     "data": {
      "text/plain": [
       "<matplotlib.axes._subplots.AxesSubplot at 0x1d3471c6610>"
      ]
     },
     "execution_count": 62,
     "metadata": {},
     "output_type": "execute_result"
    },
    {
     "data": {
      "image/png": "[encoded data removed]",
      "text/plain": [
       "<Figure size 432x288 with 1 Axes>"
      ]
     },
     "metadata": {
      "needs_background": "light"
     },
     "output_type": "display_data"
    }
   ],
   "source": [
    "sns.boxplot(x=Xy_train['price_range'], y=Xy_train['battery_power'])"
   ]
  },
  {
   "cell_type": "code",
   "execution_count": 63,
   "metadata": {},
   "outputs": [],
   "source": [
    "# The price_range increases as the battery_power increase."
   ]
  },
  {
   "cell_type": "code",
   "execution_count": 64,
   "metadata": {},
   "outputs": [
    {
     "name": "stdout",
     "output_type": "stream",
     "text": [
      "Ho:  There is no significant difference between the levels of price_range with respect to battery_power mean (No predictability)\n",
      "Ha:  There is a significant difference between the levels of price_range with respect to battery_power mean (Good predictor)\n",
      "\n",
      "\n",
      "                       sum_sq     df         F    PR(>F)\n",
      "C(battery_power)  1267.107708  970.0  1.175788  0.013312\n",
      "Residual           698.816667  629.0       NaN       NaN \n",
      "\n",
      "Reject Ho,  There is a significant difference between the levels of price_range with respect to battery_power mean (Good predictor)\n"
     ]
    }
   ],
   "source": [
    "anova(num='battery_power', cat='price_range', data=Xy_train)"
   ]
  },
  {
   "cell_type": "code",
   "execution_count": 65,
   "metadata": {},
   "outputs": [],
   "source": [
    "# battery_power can be a good predictor for price_range"
   ]
  },
  {
   "cell_type": "markdown",
   "metadata": {},
   "source": [
    "#### clock_speed"
   ]
  },
  {
   "cell_type": "code",
   "execution_count": 66,
   "metadata": {},
   "outputs": [
    {
     "data": {
      "text/plain": [
       "Description    The speed at which microprocessor executes instructions\n",
       "Name: clock_speed, dtype: object"
      ]
     },
     "execution_count": 66,
     "metadata": {},
     "output_type": "execute_result"
    }
   ],
   "source": [
    "df_desc['clock_speed']"
   ]
  },
  {
   "cell_type": "code",
   "execution_count": 67,
   "metadata": {},
   "outputs": [
    {
     "data": {
      "text/plain": [
       "count    1600.000000\n",
       "mean        1.513625\n",
       "std         0.820189\n",
       "min         0.500000\n",
       "25%         0.675000\n",
       "50%         1.500000\n",
       "75%         2.225000\n",
       "max         3.000000\n",
       "Name: clock_speed, dtype: float64"
      ]
     },
     "execution_count": 67,
     "metadata": {},
     "output_type": "execute_result"
    }
   ],
   "source": [
    "Xy_train.clock_speed.describe()"
   ]
  },
  {
   "cell_type": "code",
   "execution_count": 68,
   "metadata": {},
   "outputs": [
    {
     "data": {
      "image/png": "[encoded data removed]",
      "text/plain": [
       "<Figure size 648x360 with 1 Axes>"
      ]
     },
     "metadata": {
      "needs_background": "light"
     },
     "output_type": "display_data"
    },
    {
     "data": {
      "image/png": "[encoded data removed]",
      "text/plain": [
       "<Figure size 648x360 with 1 Axes>"
      ]
     },
     "metadata": {
      "needs_background": "light"
     },
     "output_type": "display_data"
    }
   ],
   "source": [
    "plot(Xy_train['clock_speed'])"
   ]
  },
  {
   "cell_type": "code",
   "execution_count": 69,
   "metadata": {},
   "outputs": [
    {
     "data": {
      "text/plain": [
       "<matplotlib.axes._subplots.AxesSubplot at 0x1d346edb610>"
      ]
     },
     "execution_count": 69,
     "metadata": {},
     "output_type": "execute_result"
    },
    {
     "data": {
      "image/png": "[encoded data removed]",
      "text/plain": [
       "<Figure size 432x288 with 1 Axes>"
      ]
     },
     "metadata": {
      "needs_background": "light"
     },
     "output_type": "display_data"
    }
   ],
   "source": [
    "sns.boxplot(x=Xy_train['price_range'], y=Xy_train['clock_speed'])"
   ]
  },
  {
   "cell_type": "code",
   "execution_count": 70,
   "metadata": {},
   "outputs": [
    {
     "name": "stdout",
     "output_type": "stream",
     "text": [
      "Ho:  There is no significant difference between the levels of price_range with respect to clock_speed mean (No predictability)\n",
      "Ha:  There is a significant difference between the levels of price_range with respect to clock_speed mean (Good predictor)\n",
      "\n",
      "\n",
      "                     sum_sq      df         F    PR(>F)\n",
      "C(clock_speed)    26.731604    25.0  0.867898  0.652641\n",
      "Residual        1939.192771  1574.0       NaN       NaN \n",
      "\n",
      "Fail to reject Ho,  There is no significant difference between the levels of price_range with respect to clock_speed mean (No predictability)\n"
     ]
    }
   ],
   "source": [
    "anova(num='clock_speed', cat='price_range', data=Xy_train)"
   ]
  },
  {
   "cell_type": "code",
   "execution_count": 71,
   "metadata": {},
   "outputs": [],
   "source": [
    "action['drop'] = ['clock_speed']"
   ]
  },
  {
   "cell_type": "markdown",
   "metadata": {},
   "source": [
    "#### fc"
   ]
  },
  {
   "cell_type": "code",
   "execution_count": 72,
   "metadata": {},
   "outputs": [
    {
     "data": {
      "text/plain": [
       "Description    Front Camera megapixels\n",
       "Name: fc, dtype: object"
      ]
     },
     "execution_count": 72,
     "metadata": {},
     "output_type": "execute_result"
    }
   ],
   "source": [
    "df_desc['fc']"
   ]
  },
  {
   "cell_type": "code",
   "execution_count": 73,
   "metadata": {},
   "outputs": [
    {
     "data": {
      "text/plain": [
       "count    1600.000000\n",
       "mean        4.293125\n",
       "std         4.289662\n",
       "min         0.000000\n",
       "25%         1.000000\n",
       "50%         3.000000\n",
       "75%         7.000000\n",
       "max        16.000000\n",
       "Name: fc, dtype: float64"
      ]
     },
     "execution_count": 73,
     "metadata": {},
     "output_type": "execute_result"
    }
   ],
   "source": [
    "Xy_train.fc.describe()"
   ]
  },
  {
   "cell_type": "code",
   "execution_count": 74,
   "metadata": {},
   "outputs": [
    {
     "data": {
      "text/plain": [
       "0     378\n",
       "1     195\n",
       "2     149\n",
       "3     133\n",
       "5     124\n",
       "4     110\n",
       "6      87\n",
       "7      80\n",
       "8      59\n",
       "9      59\n",
       "10     47\n",
       "11     40\n",
       "12     39\n",
       "16     35\n",
       "13     33\n",
       "15     17\n",
       "14     15\n",
       "Name: fc, dtype: int64"
      ]
     },
     "execution_count": 74,
     "metadata": {},
     "output_type": "execute_result"
    }
   ],
   "source": [
    "Xy_train.fc.value_counts()"
   ]
  },
  {
   "cell_type": "code",
   "execution_count": 75,
   "metadata": {},
   "outputs": [
    {
     "data": {
      "text/plain": [
       "<matplotlib.axes._subplots.AxesSubplot at 0x1d347fc9fa0>"
      ]
     },
     "execution_count": 75,
     "metadata": {},
     "output_type": "execute_result"
    },
    {
     "data": {
      "image/png": "[encoded data removed]",
      "text/plain": [
       "<Figure size 432x288 with 1 Axes>"
      ]
     },
     "metadata": {
      "needs_background": "light"
     },
     "output_type": "display_data"
    }
   ],
   "source": [
    "sns.countplot(Xy_train.fc)"
   ]
  },
  {
   "cell_type": "code",
   "execution_count": 76,
   "metadata": {},
   "outputs": [],
   "source": [
    "# Lets treat fc as a categorical variable\n",
    "# For that lets club some values together\n",
    "\n",
    "Xy_train = Xy_train.replace({'fc': {\n",
    "    0 : 'No pixel',\n",
    "    1 : '1-5 pixel',\n",
    "    2 : '1-5 pixel',\n",
    "    3 : '1-5 pixel',\n",
    "    4 : '1-5 pixel',\n",
    "    5 : '1-5 pixel',\n",
    "    6 : '6-10 pixel',\n",
    "    7 : '6-10 pixel',\n",
    "    8 : '6-10 pixel',\n",
    "    9 : '6-10 pixel',\n",
    "    10 : '6-10 pixel',\n",
    "    11 : '11 & above',\n",
    "    12 : '11 & above',\n",
    "    13 : '11 & above',\n",
    "    14 : '11 & above',\n",
    "    15 : '11 & above',\n",
    "    16 : '11 & above'\n",
    "}})"
   ]
  },
  {
   "cell_type": "code",
   "execution_count": 77,
   "metadata": {},
   "outputs": [],
   "source": [
    "Xy_test = Xy_test.replace({'fc': {\n",
    "    0 : 'No pixel',\n",
    "    1 : '1-5 pixel',\n",
    "    2 : '1-5 pixel',\n",
    "    3 : '1-5 pixel',\n",
    "    4 : '1-5 pixel',\n",
    "    5 : '1-5 pixel',\n",
    "    6 : '6-10 pixel',\n",
    "    7 : '6-10 pixel',\n",
    "    8 : '6-10 pixel',\n",
    "    9 : '6-10 pixel',\n",
    "    10 : '6-10 pixel',\n",
    "    11 : '11 & above',\n",
    "    12 : '11 & above',\n",
    "    13 : '11 & above',\n",
    "    14 : '11 & above',\n",
    "    15 : '11 & above',\n",
    "    16 : '11 & above'\n",
    "}})"
   ]
  },
  {
   "cell_type": "code",
   "execution_count": 78,
   "metadata": {},
   "outputs": [
    {
     "data": {
      "text/plain": [
       "1-5 pixel     711\n",
       "No pixel      378\n",
       "6-10 pixel    332\n",
       "11 & above    179\n",
       "Name: fc, dtype: int64"
      ]
     },
     "execution_count": 78,
     "metadata": {},
     "output_type": "execute_result"
    }
   ],
   "source": [
    "Xy_train.fc.value_counts()"
   ]
  },
  {
   "cell_type": "code",
   "execution_count": 79,
   "metadata": {},
   "outputs": [
    {
     "data": {
      "text/plain": [
       "1-5 pixel     165\n",
       "6-10 pixel     97\n",
       "No pixel       96\n",
       "11 & above     42\n",
       "Name: fc, dtype: int64"
      ]
     },
     "execution_count": 79,
     "metadata": {},
     "output_type": "execute_result"
    }
   ],
   "source": [
    "Xy_test.fc.value_counts()"
   ]
  },
  {
   "cell_type": "code",
   "execution_count": 80,
   "metadata": {},
   "outputs": [
    {
     "data": {
      "text/html": [
       "<div>\n",
       "<style scoped>\n",
       "    .dataframe tbody tr th:only-of-type {\n",
       "        vertical-align: middle;\n",
       "    }\n",
       "\n",
       "    .dataframe tbody tr th {\n",
       "        vertical-align: top;\n",
       "    }\n",
       "\n",
       "    .dataframe thead th {\n",
       "        text-align: right;\n",
       "    }\n",
       "</style>\n",
       "<table border=\"1\" class=\"dataframe\">\n",
       "  <thead>\n",
       "    <tr style=\"text-align: right;\">\n",
       "      <th>price_range</th>\n",
       "      <th>0</th>\n",
       "      <th>1</th>\n",
       "      <th>2</th>\n",
       "      <th>3</th>\n",
       "      <th>All</th>\n",
       "    </tr>\n",
       "    <tr>\n",
       "      <th>fc</th>\n",
       "      <th></th>\n",
       "      <th></th>\n",
       "      <th></th>\n",
       "      <th></th>\n",
       "      <th></th>\n",
       "    </tr>\n",
       "  </thead>\n",
       "  <tbody>\n",
       "    <tr>\n",
       "      <th>1-5 pixel</th>\n",
       "      <td>177</td>\n",
       "      <td>174</td>\n",
       "      <td>175</td>\n",
       "      <td>185</td>\n",
       "      <td>711</td>\n",
       "    </tr>\n",
       "    <tr>\n",
       "      <th>11 &amp; above</th>\n",
       "      <td>39</td>\n",
       "      <td>55</td>\n",
       "      <td>45</td>\n",
       "      <td>40</td>\n",
       "      <td>179</td>\n",
       "    </tr>\n",
       "    <tr>\n",
       "      <th>6-10 pixel</th>\n",
       "      <td>81</td>\n",
       "      <td>80</td>\n",
       "      <td>93</td>\n",
       "      <td>78</td>\n",
       "      <td>332</td>\n",
       "    </tr>\n",
       "    <tr>\n",
       "      <th>No pixel</th>\n",
       "      <td>98</td>\n",
       "      <td>100</td>\n",
       "      <td>95</td>\n",
       "      <td>85</td>\n",
       "      <td>378</td>\n",
       "    </tr>\n",
       "    <tr>\n",
       "      <th>All</th>\n",
       "      <td>395</td>\n",
       "      <td>409</td>\n",
       "      <td>408</td>\n",
       "      <td>388</td>\n",
       "      <td>1600</td>\n",
       "    </tr>\n",
       "  </tbody>\n",
       "</table>\n",
       "</div>"
      ],
      "text/plain": [
       "price_range    0    1    2    3   All\n",
       "fc                                   \n",
       "1-5 pixel    177  174  175  185   711\n",
       "11 & above    39   55   45   40   179\n",
       "6-10 pixel    81   80   93   78   332\n",
       "No pixel      98  100   95   85   378\n",
       "All          395  409  408  388  1600"
      ]
     },
     "execution_count": 80,
     "metadata": {},
     "output_type": "execute_result"
    }
   ],
   "source": [
    "ct = pd.crosstab(index=Xy_train['fc'], columns=Xy_train['price_range'], margins=True)\n",
    "ct"
   ]
  },
  {
   "cell_type": "code",
   "execution_count": 81,
   "metadata": {},
   "outputs": [
    {
     "name": "stdout",
     "output_type": "stream",
     "text": [
      "Chi square test between fc and price_range\n",
      "\n",
      "Ho:  There is no significant assosiation betweeen fc and price_range (No predictability)\n",
      "Ha:  There is relation between fc and price_range (Good predictor)\n",
      "\n",
      "\n",
      "price_range    0    1    2    3   All\n",
      "fc                                   \n",
      "1-5 pixel    177  174  175  185   711\n",
      "11 & above    39   55   45   40   179\n",
      "6-10 pixel    81   80   93   78   332\n",
      "No pixel      98  100   95   85   378\n",
      "All          395  409  408  388  1600\n",
      "\n",
      "\n",
      "chi-square stats:  6.281303659971038\n",
      "p-value:  0.7114674378611324\n",
      "\n",
      "\n",
      "Fail to reject null hypothesis,  There is no significant assosiation betweeen fc and price_range (No predictability)\n",
      "\n",
      "\n",
      ">>> Drop fc\n"
     ]
    }
   ],
   "source": [
    "chi2('fc', 'price_range', Xy_train)"
   ]
  },
  {
   "cell_type": "code",
   "execution_count": 82,
   "metadata": {},
   "outputs": [],
   "source": [
    "# fc has no predictability\n",
    "\n",
    "action['drop'].append('fc')"
   ]
  },
  {
   "cell_type": "markdown",
   "metadata": {},
   "source": [
    "#### int_memory"
   ]
  },
  {
   "cell_type": "code",
   "execution_count": 83,
   "metadata": {},
   "outputs": [
    {
     "data": {
      "text/plain": [
       "Description    Internal Memory in Gigabytes\n",
       "Name: int_memory, dtype: object"
      ]
     },
     "execution_count": 83,
     "metadata": {},
     "output_type": "execute_result"
    }
   ],
   "source": [
    "df_desc['int_memory']"
   ]
  },
  {
   "cell_type": "code",
   "execution_count": 84,
   "metadata": {},
   "outputs": [
    {
     "data": {
      "image/png": "[encoded data removed]",
      "text/plain": [
       "<Figure size 648x360 with 1 Axes>"
      ]
     },
     "metadata": {
      "needs_background": "light"
     },
     "output_type": "display_data"
    },
    {
     "data": {
      "image/png": "[encoded data removed]",
      "text/plain": [
       "<Figure size 648x360 with 1 Axes>"
      ]
     },
     "metadata": {
      "needs_background": "light"
     },
     "output_type": "display_data"
    }
   ],
   "source": [
    "plot(Xy_train.int_memory)"
   ]
  },
  {
   "cell_type": "code",
   "execution_count": 85,
   "metadata": {},
   "outputs": [
    {
     "data": {
      "text/plain": [
       "count    1600.000000\n",
       "mean       32.270000\n",
       "std        18.195165\n",
       "min         2.000000\n",
       "25%        16.000000\n",
       "50%        32.500000\n",
       "75%        48.000000\n",
       "max        64.000000\n",
       "Name: int_memory, dtype: float64"
      ]
     },
     "execution_count": 85,
     "metadata": {},
     "output_type": "execute_result"
    }
   ],
   "source": [
    "Xy_train.int_memory.describe()"
   ]
  },
  {
   "cell_type": "code",
   "execution_count": 86,
   "metadata": {},
   "outputs": [
    {
     "data": {
      "text/plain": [
       "<matplotlib.axes._subplots.AxesSubplot at 0x1d348159dc0>"
      ]
     },
     "execution_count": 86,
     "metadata": {},
     "output_type": "execute_result"
    },
    {
     "data": {
      "image/png": "[encoded data removed]",
      "text/plain": [
       "<Figure size 432x288 with 1 Axes>"
      ]
     },
     "metadata": {
      "needs_background": "light"
     },
     "output_type": "display_data"
    }
   ],
   "source": [
    "sns.boxplot(x=Xy_train['price_range'], y=Xy_train['int_memory'])"
   ]
  },
  {
   "cell_type": "code",
   "execution_count": 87,
   "metadata": {},
   "outputs": [
    {
     "name": "stdout",
     "output_type": "stream",
     "text": [
      "Ho:  There is no significant difference between the levels of price_range with respect to int_memory mean (No predictability)\n",
      "Ha:  There is a significant difference between the levels of price_range with respect to int_memory mean (Good predictor)\n",
      "\n",
      "\n",
      "                    sum_sq      df         F    PR(>F)\n",
      "C(int_memory)    96.066613    62.0  1.273638  0.076947\n",
      "Residual       1869.857762  1537.0       NaN       NaN \n",
      "\n",
      "Fail to reject Ho,  There is no significant difference between the levels of price_range with respect to int_memory mean (No predictability)\n"
     ]
    }
   ],
   "source": [
    "anova('int_memory', 'price_range', Xy_train)"
   ]
  },
  {
   "cell_type": "code",
   "execution_count": 88,
   "metadata": {},
   "outputs": [],
   "source": [
    "# int_memory has no predictability\n",
    "\n",
    "action['drop'].append('int_memory')"
   ]
  },
  {
   "cell_type": "markdown",
   "metadata": {},
   "source": [
    "#### m_dep"
   ]
  },
  {
   "cell_type": "code",
   "execution_count": 89,
   "metadata": {},
   "outputs": [
    {
     "data": {
      "text/plain": [
       "Description    Mobile Depth in cm\n",
       "Name: m_dep, dtype: object"
      ]
     },
     "execution_count": 89,
     "metadata": {},
     "output_type": "execute_result"
    }
   ],
   "source": [
    "df_desc['m_dep']"
   ]
  },
  {
   "cell_type": "code",
   "execution_count": 90,
   "metadata": {},
   "outputs": [
    {
     "data": {
      "image/png": "[encoded data removed]",
      "text/plain": [
       "<Figure size 648x360 with 1 Axes>"
      ]
     },
     "metadata": {
      "needs_background": "light"
     },
     "output_type": "display_data"
    },
    {
     "data": {
      "image/png": "[encoded data removed]",
      "text/plain": [
       "<Figure size 648x360 with 1 Axes>"
      ]
     },
     "metadata": {
      "needs_background": "light"
     },
     "output_type": "display_data"
    }
   ],
   "source": [
    "plot(Xy_train['m_dep'])"
   ]
  },
  {
   "cell_type": "code",
   "execution_count": 91,
   "metadata": {},
   "outputs": [
    {
     "data": {
      "text/plain": [
       "0.1    248\n",
       "0.2    176\n",
       "0.5    165\n",
       "0.8    164\n",
       "0.7    163\n",
       "0.3    161\n",
       "0.9    158\n",
       "0.6    156\n",
       "0.4    128\n",
       "1.0     81\n",
       "Name: m_dep, dtype: int64"
      ]
     },
     "execution_count": 91,
     "metadata": {},
     "output_type": "execute_result"
    }
   ],
   "source": [
    "Xy_train.m_dep.value_counts()"
   ]
  },
  {
   "cell_type": "code",
   "execution_count": 92,
   "metadata": {},
   "outputs": [],
   "source": [
    "# m_dep is a categorical variable."
   ]
  },
  {
   "cell_type": "code",
   "execution_count": 93,
   "metadata": {},
   "outputs": [],
   "source": [
    "# Lets club it together to create 2 levels\n",
    "\n",
    "Xy_train = Xy_train.replace({'m_dep': {\n",
    "    0.1 : '0-0.5',\n",
    "    0.2 : '0-0.5',\n",
    "    0.3 : '0-0.5',\n",
    "    0.4 : '0-0.5',\n",
    "    0.5 : '0.5-1.0',\n",
    "    0.6 : '0.5-1.0',\n",
    "    0.7 : '0.5-1.0',\n",
    "    0.8 : '0.5-1.0',\n",
    "    0.9 : '0.5-1.0',\n",
    "    1.0 : '0.5-1.0'\n",
    "}})"
   ]
  },
  {
   "cell_type": "code",
   "execution_count": 94,
   "metadata": {},
   "outputs": [],
   "source": [
    "Xy_test = Xy_test.replace({'m_dep': {\n",
    "    0.1 : '0-0.5',\n",
    "    0.2 : '0-0.5',\n",
    "    0.3 : '0-0.5',\n",
    "    0.4 : '0-0.5',\n",
    "    0.5 : '0.5-1.0',\n",
    "    0.6 : '0.5-1.0',\n",
    "    0.7 : '0.5-1.0',\n",
    "    0.8 : '0.5-1.0',\n",
    "    0.9 : '0.5-1.0',\n",
    "    1.0 : '0.5-1.0'\n",
    "}})"
   ]
  },
  {
   "cell_type": "code",
   "execution_count": 95,
   "metadata": {},
   "outputs": [
    {
     "data": {
      "text/plain": [
       "0.5-1.0    887\n",
       "0-0.5      713\n",
       "Name: m_dep, dtype: int64"
      ]
     },
     "execution_count": 95,
     "metadata": {},
     "output_type": "execute_result"
    }
   ],
   "source": [
    "Xy_train.m_dep.value_counts()"
   ]
  },
  {
   "cell_type": "code",
   "execution_count": 96,
   "metadata": {},
   "outputs": [
    {
     "data": {
      "text/plain": [
       "<matplotlib.axes._subplots.AxesSubplot at 0x1d3482c1700>"
      ]
     },
     "execution_count": 96,
     "metadata": {},
     "output_type": "execute_result"
    },
    {
     "data": {
      "image/png": "[encoded data removed]",
      "text/plain": [
       "<Figure size 432x288 with 1 Axes>"
      ]
     },
     "metadata": {
      "needs_background": "light"
     },
     "output_type": "display_data"
    }
   ],
   "source": [
    "sns.countplot(Xy_train.m_dep)"
   ]
  },
  {
   "cell_type": "code",
   "execution_count": 97,
   "metadata": {},
   "outputs": [
    {
     "data": {
      "text/html": [
       "<div>\n",
       "<style scoped>\n",
       "    .dataframe tbody tr th:only-of-type {\n",
       "        vertical-align: middle;\n",
       "    }\n",
       "\n",
       "    .dataframe tbody tr th {\n",
       "        vertical-align: top;\n",
       "    }\n",
       "\n",
       "    .dataframe thead th {\n",
       "        text-align: right;\n",
       "    }\n",
       "</style>\n",
       "<table border=\"1\" class=\"dataframe\">\n",
       "  <thead>\n",
       "    <tr style=\"text-align: right;\">\n",
       "      <th>price_range</th>\n",
       "      <th>0</th>\n",
       "      <th>1</th>\n",
       "      <th>2</th>\n",
       "      <th>3</th>\n",
       "    </tr>\n",
       "    <tr>\n",
       "      <th>m_dep</th>\n",
       "      <th></th>\n",
       "      <th></th>\n",
       "      <th></th>\n",
       "      <th></th>\n",
       "    </tr>\n",
       "  </thead>\n",
       "  <tbody>\n",
       "    <tr>\n",
       "      <th>0-0.5</th>\n",
       "      <td>187</td>\n",
       "      <td>165</td>\n",
       "      <td>191</td>\n",
       "      <td>170</td>\n",
       "    </tr>\n",
       "    <tr>\n",
       "      <th>0.5-1.0</th>\n",
       "      <td>208</td>\n",
       "      <td>244</td>\n",
       "      <td>217</td>\n",
       "      <td>218</td>\n",
       "    </tr>\n",
       "  </tbody>\n",
       "</table>\n",
       "</div>"
      ],
      "text/plain": [
       "price_range    0    1    2    3\n",
       "m_dep                          \n",
       "0-0.5        187  165  191  170\n",
       "0.5-1.0      208  244  217  218"
      ]
     },
     "execution_count": 97,
     "metadata": {},
     "output_type": "execute_result"
    }
   ],
   "source": [
    "# Crosstabulation\n",
    "\n",
    "ct = pd.crosstab(index=Xy_train['m_dep'], columns=Xy_train['price_range'])\n",
    "ct"
   ]
  },
  {
   "cell_type": "code",
   "execution_count": 98,
   "metadata": {},
   "outputs": [
    {
     "data": {
      "text/plain": [
       "<matplotlib.axes._subplots.AxesSubplot at 0x1d348248580>"
      ]
     },
     "execution_count": 98,
     "metadata": {},
     "output_type": "execute_result"
    },
    {
     "data": {
      "image/png": "[encoded data removed]",
      "text/plain": [
       "<Figure size 432x288 with 1 Axes>"
      ]
     },
     "metadata": {
      "needs_background": "light"
     },
     "output_type": "display_data"
    }
   ],
   "source": [
    "ct.plot(kind='bar')"
   ]
  },
  {
   "cell_type": "code",
   "execution_count": 99,
   "metadata": {},
   "outputs": [
    {
     "name": "stdout",
     "output_type": "stream",
     "text": [
      "Chi square test between m_dep and price_range\n",
      "\n",
      "Ho:  There is no significant assosiation betweeen m_dep and price_range (No predictability)\n",
      "Ha:  There is relation between m_dep and price_range (Good predictor)\n",
      "\n",
      "\n",
      "price_range    0    1    2    3   All\n",
      "m_dep                                \n",
      "0-0.5        187  165  191  170   713\n",
      "0.5-1.0      208  244  217  218   887\n",
      "All          395  409  408  388  1600\n",
      "\n",
      "\n",
      "chi-square stats:  5.108548038009736\n",
      "p-value:  0.1640191091606922\n",
      "\n",
      "\n",
      "Fail to reject null hypothesis,  There is no significant assosiation betweeen m_dep and price_range (No predictability)\n",
      "\n",
      "\n",
      ">>> Drop m_dep\n"
     ]
    }
   ],
   "source": [
    "chi2('m_dep', 'price_range', Xy_train)"
   ]
  },
  {
   "cell_type": "code",
   "execution_count": 100,
   "metadata": {},
   "outputs": [],
   "source": [
    "# m_dep is not a good predictor\n",
    "\n",
    "action['drop'].append('m_dep')"
   ]
  },
  {
   "cell_type": "markdown",
   "metadata": {},
   "source": [
    "#### mobile_wt"
   ]
  },
  {
   "cell_type": "code",
   "execution_count": 101,
   "metadata": {},
   "outputs": [
    {
     "data": {
      "text/plain": [
       "Description    Weight of the mobile phone\n",
       "Name: mobile_wt, dtype: object"
      ]
     },
     "execution_count": 101,
     "metadata": {},
     "output_type": "execute_result"
    }
   ],
   "source": [
    "df_desc['mobile_wt']"
   ]
  },
  {
   "cell_type": "code",
   "execution_count": 102,
   "metadata": {},
   "outputs": [
    {
     "data": {
      "text/plain": [
       "count    1600.000000\n",
       "mean      140.633750\n",
       "std        35.338171\n",
       "min        80.000000\n",
       "25%       109.000000\n",
       "50%       141.000000\n",
       "75%       171.000000\n",
       "max       200.000000\n",
       "Name: mobile_wt, dtype: float64"
      ]
     },
     "execution_count": 102,
     "metadata": {},
     "output_type": "execute_result"
    }
   ],
   "source": [
    "Xy_train['mobile_wt'].describe()"
   ]
  },
  {
   "cell_type": "code",
   "execution_count": 103,
   "metadata": {},
   "outputs": [
    {
     "data": {
      "image/png": "[encoded data removed]",
      "text/plain": [
       "<Figure size 648x360 with 1 Axes>"
      ]
     },
     "metadata": {
      "needs_background": "light"
     },
     "output_type": "display_data"
    },
    {
     "data": {
      "image/png": "[encoded data removed]",
      "text/plain": [
       "<Figure size 648x360 with 1 Axes>"
      ]
     },
     "metadata": {
      "needs_background": "light"
     },
     "output_type": "display_data"
    }
   ],
   "source": [
    "plot(Xy_train.mobile_wt)"
   ]
  },
  {
   "cell_type": "code",
   "execution_count": 104,
   "metadata": {},
   "outputs": [
    {
     "data": {
      "text/plain": [
       "<matplotlib.axes._subplots.AxesSubplot at 0x1d347a92670>"
      ]
     },
     "execution_count": 104,
     "metadata": {},
     "output_type": "execute_result"
    },
    {
     "data": {
      "image/png": "[encoded data removed]",
      "text/plain": [
       "<Figure size 432x288 with 1 Axes>"
      ]
     },
     "metadata": {
      "needs_background": "light"
     },
     "output_type": "display_data"
    }
   ],
   "source": [
    "sns.boxplot(x=Xy_train['price_range'], y=Xy_train['mobile_wt'])"
   ]
  },
  {
   "cell_type": "code",
   "execution_count": 105,
   "metadata": {},
   "outputs": [
    {
     "name": "stdout",
     "output_type": "stream",
     "text": [
      "Ho:  There is no significant difference between the levels of price_range with respect to mobile_wt mean (No predictability)\n",
      "Ha:  There is a significant difference between the levels of price_range with respect to mobile_wt mean (Good predictor)\n",
      "\n",
      "\n",
      "                   sum_sq      df         F    PR(>F)\n",
      "C(mobile_wt)   156.962400   120.0  1.069432  0.293713\n",
      "Residual      1808.961975  1479.0       NaN       NaN \n",
      "\n",
      "Fail to reject Ho,  There is no significant difference between the levels of price_range with respect to mobile_wt mean (No predictability)\n"
     ]
    }
   ],
   "source": [
    "anova('mobile_wt', 'price_range', Xy_train)"
   ]
  },
  {
   "cell_type": "code",
   "execution_count": 106,
   "metadata": {},
   "outputs": [],
   "source": [
    "# mobile_wt is not a good predictor\n",
    "\n",
    "action['drop'].append('mobile_wt')"
   ]
  },
  {
   "cell_type": "markdown",
   "metadata": {},
   "source": [
    "#### n_cores"
   ]
  },
  {
   "cell_type": "code",
   "execution_count": 107,
   "metadata": {},
   "outputs": [
    {
     "data": {
      "text/plain": [
       "Description    Number of cores of a processor\n",
       "Name: n_cores, dtype: object"
      ]
     },
     "execution_count": 107,
     "metadata": {},
     "output_type": "execute_result"
    }
   ],
   "source": [
    "df_desc['n_cores']"
   ]
  },
  {
   "cell_type": "code",
   "execution_count": 108,
   "metadata": {},
   "outputs": [
    {
     "data": {
      "text/plain": [
       "968    1\n",
       "240    8\n",
       "819    1\n",
       "692    5\n",
       "420    5\n",
       "Name: n_cores, dtype: int64"
      ]
     },
     "execution_count": 108,
     "metadata": {},
     "output_type": "execute_result"
    }
   ],
   "source": [
    "Xy_train['n_cores'].head()"
   ]
  },
  {
   "cell_type": "code",
   "execution_count": 109,
   "metadata": {},
   "outputs": [
    {
     "data": {
      "text/plain": [
       "4    220\n",
       "7    216\n",
       "8    207\n",
       "3    203\n",
       "5    193\n",
       "1    192\n",
       "2    190\n",
       "6    179\n",
       "Name: n_cores, dtype: int64"
      ]
     },
     "execution_count": 109,
     "metadata": {},
     "output_type": "execute_result"
    }
   ],
   "source": [
    "Xy_train.n_cores.value_counts()"
   ]
  },
  {
   "cell_type": "code",
   "execution_count": 110,
   "metadata": {},
   "outputs": [
    {
     "data": {
      "text/plain": [
       "<matplotlib.axes._subplots.AxesSubplot at 0x1d3480e3b50>"
      ]
     },
     "execution_count": 110,
     "metadata": {},
     "output_type": "execute_result"
    },
    {
     "data": {
      "image/png": "[encoded data removed]",
      "text/plain": [
       "<Figure size 432x288 with 1 Axes>"
      ]
     },
     "metadata": {
      "needs_background": "light"
     },
     "output_type": "display_data"
    }
   ],
   "source": [
    "sns.countplot(Xy_train.n_cores)"
   ]
  },
  {
   "cell_type": "code",
   "execution_count": 111,
   "metadata": {},
   "outputs": [
    {
     "data": {
      "text/html": [
       "<div>\n",
       "<style scoped>\n",
       "    .dataframe tbody tr th:only-of-type {\n",
       "        vertical-align: middle;\n",
       "    }\n",
       "\n",
       "    .dataframe tbody tr th {\n",
       "        vertical-align: top;\n",
       "    }\n",
       "\n",
       "    .dataframe thead th {\n",
       "        text-align: right;\n",
       "    }\n",
       "</style>\n",
       "<table border=\"1\" class=\"dataframe\">\n",
       "  <thead>\n",
       "    <tr style=\"text-align: right;\">\n",
       "      <th>price_range</th>\n",
       "      <th>0</th>\n",
       "      <th>1</th>\n",
       "      <th>2</th>\n",
       "      <th>3</th>\n",
       "    </tr>\n",
       "    <tr>\n",
       "      <th>n_cores</th>\n",
       "      <th></th>\n",
       "      <th></th>\n",
       "      <th></th>\n",
       "      <th></th>\n",
       "    </tr>\n",
       "  </thead>\n",
       "  <tbody>\n",
       "    <tr>\n",
       "      <th>1</th>\n",
       "      <td>43</td>\n",
       "      <td>64</td>\n",
       "      <td>42</td>\n",
       "      <td>43</td>\n",
       "    </tr>\n",
       "    <tr>\n",
       "      <th>2</th>\n",
       "      <td>55</td>\n",
       "      <td>41</td>\n",
       "      <td>46</td>\n",
       "      <td>48</td>\n",
       "    </tr>\n",
       "    <tr>\n",
       "      <th>3</th>\n",
       "      <td>46</td>\n",
       "      <td>59</td>\n",
       "      <td>48</td>\n",
       "      <td>50</td>\n",
       "    </tr>\n",
       "    <tr>\n",
       "      <th>4</th>\n",
       "      <td>50</td>\n",
       "      <td>64</td>\n",
       "      <td>61</td>\n",
       "      <td>45</td>\n",
       "    </tr>\n",
       "    <tr>\n",
       "      <th>5</th>\n",
       "      <td>44</td>\n",
       "      <td>40</td>\n",
       "      <td>50</td>\n",
       "      <td>59</td>\n",
       "    </tr>\n",
       "    <tr>\n",
       "      <th>6</th>\n",
       "      <td>49</td>\n",
       "      <td>42</td>\n",
       "      <td>45</td>\n",
       "      <td>43</td>\n",
       "    </tr>\n",
       "    <tr>\n",
       "      <th>7</th>\n",
       "      <td>55</td>\n",
       "      <td>47</td>\n",
       "      <td>61</td>\n",
       "      <td>53</td>\n",
       "    </tr>\n",
       "    <tr>\n",
       "      <th>8</th>\n",
       "      <td>53</td>\n",
       "      <td>52</td>\n",
       "      <td>55</td>\n",
       "      <td>47</td>\n",
       "    </tr>\n",
       "  </tbody>\n",
       "</table>\n",
       "</div>"
      ],
      "text/plain": [
       "price_range   0   1   2   3\n",
       "n_cores                    \n",
       "1            43  64  42  43\n",
       "2            55  41  46  48\n",
       "3            46  59  48  50\n",
       "4            50  64  61  45\n",
       "5            44  40  50  59\n",
       "6            49  42  45  43\n",
       "7            55  47  61  53\n",
       "8            53  52  55  47"
      ]
     },
     "execution_count": 111,
     "metadata": {},
     "output_type": "execute_result"
    }
   ],
   "source": [
    "ct = pd.crosstab(index=Xy_train['n_cores'], columns=Xy_train['price_range'])\n",
    "ct"
   ]
  },
  {
   "cell_type": "code",
   "execution_count": 112,
   "metadata": {},
   "outputs": [
    {
     "data": {
      "text/plain": [
       "<matplotlib.legend.Legend at 0x1d348339250>"
      ]
     },
     "execution_count": 112,
     "metadata": {},
     "output_type": "execute_result"
    },
    {
     "data": {
      "image/png": "[encoded data removed]",
      "text/plain": [
       "<Figure size 720x504 with 1 Axes>"
      ]
     },
     "metadata": {
      "needs_background": "light"
     },
     "output_type": "display_data"
    }
   ],
   "source": [
    "ct.plot(kind='barh', figsize=(10,7))\n",
    "plt.legend()"
   ]
  },
  {
   "cell_type": "code",
   "execution_count": 113,
   "metadata": {},
   "outputs": [],
   "source": [
    "# Lets try clubbing values\n",
    "\n",
    "Xy_train = Xy_train.replace({'n_cores': {\n",
    "    1 : '1-3',\n",
    "    2 : '1-3',\n",
    "    3 : '1-3',\n",
    "    4 : '4-6',\n",
    "    5 : '4-6',\n",
    "    6 : '4-6',\n",
    "    7 : '7-8',\n",
    "    8 : '7-8'\n",
    "}})"
   ]
  },
  {
   "cell_type": "code",
   "execution_count": 114,
   "metadata": {},
   "outputs": [],
   "source": [
    "Xy_test = Xy_test.replace({'n_cores': {\n",
    "    1 : '1-3',\n",
    "    2 : '1-3',\n",
    "    3 : '1-3',\n",
    "    4 : '4-6',\n",
    "    5 : '4-6',\n",
    "    6 : '4-6',\n",
    "    7 : '7-8',\n",
    "    8 : '7-8'\n",
    "}})"
   ]
  },
  {
   "cell_type": "code",
   "execution_count": 115,
   "metadata": {},
   "outputs": [
    {
     "data": {
      "text/plain": [
       "4-6    592\n",
       "1-3    585\n",
       "7-8    423\n",
       "Name: n_cores, dtype: int64"
      ]
     },
     "execution_count": 115,
     "metadata": {},
     "output_type": "execute_result"
    }
   ],
   "source": [
    "Xy_train.n_cores.value_counts()"
   ]
  },
  {
   "cell_type": "code",
   "execution_count": 116,
   "metadata": {},
   "outputs": [
    {
     "data": {
      "text/plain": [
       "4-6    158\n",
       "1-3    150\n",
       "7-8     92\n",
       "Name: n_cores, dtype: int64"
      ]
     },
     "execution_count": 116,
     "metadata": {},
     "output_type": "execute_result"
    }
   ],
   "source": [
    "Xy_test.n_cores.value_counts()"
   ]
  },
  {
   "cell_type": "code",
   "execution_count": 117,
   "metadata": {},
   "outputs": [
    {
     "data": {
      "text/html": [
       "<div>\n",
       "<style scoped>\n",
       "    .dataframe tbody tr th:only-of-type {\n",
       "        vertical-align: middle;\n",
       "    }\n",
       "\n",
       "    .dataframe tbody tr th {\n",
       "        vertical-align: top;\n",
       "    }\n",
       "\n",
       "    .dataframe thead th {\n",
       "        text-align: right;\n",
       "    }\n",
       "</style>\n",
       "<table border=\"1\" class=\"dataframe\">\n",
       "  <thead>\n",
       "    <tr style=\"text-align: right;\">\n",
       "      <th>price_range</th>\n",
       "      <th>0</th>\n",
       "      <th>1</th>\n",
       "      <th>2</th>\n",
       "      <th>3</th>\n",
       "      <th>All</th>\n",
       "    </tr>\n",
       "    <tr>\n",
       "      <th>n_cores</th>\n",
       "      <th></th>\n",
       "      <th></th>\n",
       "      <th></th>\n",
       "      <th></th>\n",
       "      <th></th>\n",
       "    </tr>\n",
       "  </thead>\n",
       "  <tbody>\n",
       "    <tr>\n",
       "      <th>1-3</th>\n",
       "      <td>144</td>\n",
       "      <td>164</td>\n",
       "      <td>136</td>\n",
       "      <td>141</td>\n",
       "      <td>585</td>\n",
       "    </tr>\n",
       "    <tr>\n",
       "      <th>4-6</th>\n",
       "      <td>143</td>\n",
       "      <td>146</td>\n",
       "      <td>156</td>\n",
       "      <td>147</td>\n",
       "      <td>592</td>\n",
       "    </tr>\n",
       "    <tr>\n",
       "      <th>7-8</th>\n",
       "      <td>108</td>\n",
       "      <td>99</td>\n",
       "      <td>116</td>\n",
       "      <td>100</td>\n",
       "      <td>423</td>\n",
       "    </tr>\n",
       "    <tr>\n",
       "      <th>All</th>\n",
       "      <td>395</td>\n",
       "      <td>409</td>\n",
       "      <td>408</td>\n",
       "      <td>388</td>\n",
       "      <td>1600</td>\n",
       "    </tr>\n",
       "  </tbody>\n",
       "</table>\n",
       "</div>"
      ],
      "text/plain": [
       "price_range    0    1    2    3   All\n",
       "n_cores                              \n",
       "1-3          144  164  136  141   585\n",
       "4-6          143  146  156  147   592\n",
       "7-8          108   99  116  100   423\n",
       "All          395  409  408  388  1600"
      ]
     },
     "execution_count": 117,
     "metadata": {},
     "output_type": "execute_result"
    }
   ],
   "source": [
    "ct = pd.crosstab(index=Xy_train['n_cores'], columns=Xy_train['price_range'], margins=True)\n",
    "ct"
   ]
  },
  {
   "cell_type": "code",
   "execution_count": 118,
   "metadata": {},
   "outputs": [
    {
     "name": "stdout",
     "output_type": "stream",
     "text": [
      "Chi square test between n_cores and price_range\n",
      "\n",
      "Ho:  There is no significant assosiation betweeen n_cores and price_range (No predictability)\n",
      "Ha:  There is relation between n_cores and price_range (Good predictor)\n",
      "\n",
      "\n",
      "price_range    0    1    2    3   All\n",
      "n_cores                              \n",
      "1-3          144  164  136  141   585\n",
      "4-6          143  146  156  147   592\n",
      "7-8          108   99  116  100   423\n",
      "All          395  409  408  388  1600\n",
      "\n",
      "\n",
      "chi-square stats:  4.645763902473517\n",
      "p-value:  0.5899801288409281\n",
      "\n",
      "\n",
      "Fail to reject null hypothesis,  There is no significant assosiation betweeen n_cores and price_range (No predictability)\n",
      "\n",
      "\n",
      ">>> Drop n_cores\n"
     ]
    }
   ],
   "source": [
    "chi2(x='n_cores', y='price_range', data=Xy_train)"
   ]
  },
  {
   "cell_type": "code",
   "execution_count": 119,
   "metadata": {},
   "outputs": [],
   "source": [
    "# n_cores is not a good predictor\n",
    "\n",
    "action['drop'].append('n_cores')"
   ]
  },
  {
   "cell_type": "markdown",
   "metadata": {},
   "source": [
    "#### pc"
   ]
  },
  {
   "cell_type": "code",
   "execution_count": 120,
   "metadata": {},
   "outputs": [
    {
     "data": {
      "text/plain": [
       "Description    Primary Camera megapixels\n",
       "Name: pc, dtype: object"
      ]
     },
     "execution_count": 120,
     "metadata": {},
     "output_type": "execute_result"
    }
   ],
   "source": [
    "df_desc['pc']"
   ]
  },
  {
   "cell_type": "code",
   "execution_count": 121,
   "metadata": {},
   "outputs": [
    {
     "data": {
      "text/plain": [
       "968    10\n",
       "240     1\n",
       "819    14\n",
       "692     7\n",
       "420    12\n",
       "Name: pc, dtype: int64"
      ]
     },
     "execution_count": 121,
     "metadata": {},
     "output_type": "execute_result"
    }
   ],
   "source": [
    "Xy_train['pc'].head()"
   ]
  },
  {
   "cell_type": "code",
   "execution_count": 122,
   "metadata": {},
   "outputs": [
    {
     "data": {
      "image/png": "[encoded data removed]",
      "text/plain": [
       "<Figure size 648x360 with 1 Axes>"
      ]
     },
     "metadata": {
      "needs_background": "light"
     },
     "output_type": "display_data"
    },
    {
     "data": {
      "image/png": "[encoded data removed]",
      "text/plain": [
       "<Figure size 648x360 with 1 Axes>"
      ]
     },
     "metadata": {
      "needs_background": "light"
     },
     "output_type": "display_data"
    }
   ],
   "source": [
    "plot(Xy_train['pc'])"
   ]
  },
  {
   "cell_type": "code",
   "execution_count": 123,
   "metadata": {},
   "outputs": [
    {
     "data": {
      "text/plain": [
       "count    1600.000000\n",
       "mean        9.878125\n",
       "std         6.014847\n",
       "min         0.000000\n",
       "25%         5.000000\n",
       "50%        10.000000\n",
       "75%        15.000000\n",
       "max        20.000000\n",
       "Name: pc, dtype: float64"
      ]
     },
     "execution_count": 123,
     "metadata": {},
     "output_type": "execute_result"
    }
   ],
   "source": [
    "Xy_train.pc.describe()"
   ]
  },
  {
   "cell_type": "code",
   "execution_count": 124,
   "metadata": {},
   "outputs": [
    {
     "data": {
      "text/plain": [
       "7     101\n",
       "10    100\n",
       "9      93\n",
       "14     91\n",
       "20     87\n",
       "1      82\n",
       "6      81\n",
       "0      80\n",
       "12     78\n",
       "3      78\n",
       "4      76\n",
       "2      74\n",
       "17     73\n",
       "16     72\n",
       "8      67\n",
       "13     66\n",
       "11     65\n",
       "19     65\n",
       "18     65\n",
       "15     62\n",
       "5      44\n",
       "Name: pc, dtype: int64"
      ]
     },
     "execution_count": 124,
     "metadata": {},
     "output_type": "execute_result"
    }
   ],
   "source": [
    "Xy_train.pc.value_counts()"
   ]
  },
  {
   "cell_type": "code",
   "execution_count": 125,
   "metadata": {},
   "outputs": [],
   "source": [
    "# treating pc as a categorical variable"
   ]
  },
  {
   "cell_type": "code",
   "execution_count": 126,
   "metadata": {},
   "outputs": [],
   "source": [
    "# Lets club some values together\n",
    "\n",
    "Xy_train = Xy_train.replace({'pc': {\n",
    "    0 : '0-5',\n",
    "    1 : '0-5',\n",
    "    2 : '0-5',\n",
    "    3 : '0-5',\n",
    "    4 : '0-5',\n",
    "    5 : '0-5',\n",
    "    6 : '6-10',\n",
    "    7 : '6-10',\n",
    "    8 : '6-10',\n",
    "    9 : '6-10',\n",
    "    10 : '6-10',\n",
    "    11 : '11-15',\n",
    "    12 : '11-15',\n",
    "    13 : '11-15',\n",
    "    14 : '11-15',\n",
    "    15 : '11-15',\n",
    "    16 : '16-20',\n",
    "    17 : '16-20',\n",
    "    18 : '16-20',\n",
    "    19 : '16-20',\n",
    "    20 : '16-20'\n",
    "}})"
   ]
  },
  {
   "cell_type": "code",
   "execution_count": 127,
   "metadata": {},
   "outputs": [],
   "source": [
    "\n",
    "Xy_test = Xy_test.replace({'pc': {\n",
    "    0 : '0-5',\n",
    "    1 : '0-5',\n",
    "    2 : '0-5',\n",
    "    3 : '0-5',\n",
    "    4 : '0-5',\n",
    "    5 : '0-5',\n",
    "    6 : '6-10',\n",
    "    7 : '6-10',\n",
    "    8 : '6-10',\n",
    "    9 : '6-10',\n",
    "    10 : '6-10',\n",
    "    11 : '11-15',\n",
    "    12 : '11-15',\n",
    "    13 : '11-15',\n",
    "    14 : '11-15',\n",
    "    15 : '11-15',\n",
    "    16 : '16-20',\n",
    "    17 : '16-20',\n",
    "    18 : '16-20',\n",
    "    19 : '16-20',\n",
    "    20 : '16-20'\n",
    "}})"
   ]
  },
  {
   "cell_type": "code",
   "execution_count": 128,
   "metadata": {},
   "outputs": [
    {
     "data": {
      "text/plain": [
       "6-10     442\n",
       "0-5      434\n",
       "11-15    362\n",
       "16-20    362\n",
       "Name: pc, dtype: int64"
      ]
     },
     "execution_count": 128,
     "metadata": {},
     "output_type": "execute_result"
    }
   ],
   "source": [
    "Xy_train.pc.value_counts()"
   ]
  },
  {
   "cell_type": "code",
   "execution_count": 129,
   "metadata": {},
   "outputs": [
    {
     "data": {
      "text/plain": [
       "0-5      117\n",
       "16-20    100\n",
       "6-10      95\n",
       "11-15     88\n",
       "Name: pc, dtype: int64"
      ]
     },
     "execution_count": 129,
     "metadata": {},
     "output_type": "execute_result"
    }
   ],
   "source": [
    "Xy_test.pc.value_counts()"
   ]
  },
  {
   "cell_type": "code",
   "execution_count": 130,
   "metadata": {},
   "outputs": [
    {
     "name": "stdout",
     "output_type": "stream",
     "text": [
      "Chi square test between pc and price_range\n",
      "\n",
      "Ho:  There is no significant assosiation betweeen pc and price_range (No predictability)\n",
      "Ha:  There is relation between pc and price_range (Good predictor)\n",
      "\n",
      "\n",
      "price_range    0    1    2    3   All\n",
      "pc                                   \n",
      "0-5          119  108  100  107   434\n",
      "11-15         91   93   93   85   362\n",
      "16-20         80   95   94   93   362\n",
      "6-10         105  113  121  103   442\n",
      "All          395  409  408  388  1600\n",
      "\n",
      "\n",
      "chi-square stats:  4.890663055190001\n",
      "p-value:  0.8437333375082302\n",
      "\n",
      "\n",
      "Fail to reject null hypothesis,  There is no significant assosiation betweeen pc and price_range (No predictability)\n",
      "\n",
      "\n",
      ">>> Drop pc\n"
     ]
    }
   ],
   "source": [
    "chi2('pc', 'price_range', Xy_train)"
   ]
  },
  {
   "cell_type": "code",
   "execution_count": 131,
   "metadata": {},
   "outputs": [],
   "source": [
    "# pc is not a good predictor\n",
    "\n",
    "action['drop'].append('pc')"
   ]
  },
  {
   "cell_type": "markdown",
   "metadata": {},
   "source": [
    "#### px_height"
   ]
  },
  {
   "cell_type": "code",
   "execution_count": 132,
   "metadata": {},
   "outputs": [
    {
     "data": {
      "text/plain": [
       "Description    Pixel Resolution Height\n",
       "Name: px_height, dtype: object"
      ]
     },
     "execution_count": 132,
     "metadata": {},
     "output_type": "execute_result"
    }
   ],
   "source": [
    "df_desc['px_height']"
   ]
  },
  {
   "cell_type": "code",
   "execution_count": 133,
   "metadata": {},
   "outputs": [
    {
     "data": {
      "text/plain": [
       "968    767\n",
       "240    529\n",
       "819    517\n",
       "692    304\n",
       "420    823\n",
       "Name: px_height, dtype: int64"
      ]
     },
     "execution_count": 133,
     "metadata": {},
     "output_type": "execute_result"
    }
   ],
   "source": [
    "Xy_train.px_height.head()"
   ]
  },
  {
   "cell_type": "code",
   "execution_count": 134,
   "metadata": {},
   "outputs": [
    {
     "data": {
      "text/plain": [
       "count    1600.000000\n",
       "mean      644.213125\n",
       "std       445.398396\n",
       "min         0.000000\n",
       "25%       280.000000\n",
       "50%       554.500000\n",
       "75%       945.500000\n",
       "max      1944.000000\n",
       "Name: px_height, dtype: float64"
      ]
     },
     "execution_count": 134,
     "metadata": {},
     "output_type": "execute_result"
    }
   ],
   "source": [
    "Xy_train.px_height.describe()"
   ]
  },
  {
   "cell_type": "code",
   "execution_count": 135,
   "metadata": {},
   "outputs": [
    {
     "data": {
      "image/png": "[encoded data removed]",
      "text/plain": [
       "<Figure size 648x360 with 1 Axes>"
      ]
     },
     "metadata": {
      "needs_background": "light"
     },
     "output_type": "display_data"
    },
    {
     "data": {
      "image/png": "[encoded data removed]",
      "text/plain": [
       "<Figure size 648x360 with 1 Axes>"
      ]
     },
     "metadata": {
      "needs_background": "light"
     },
     "output_type": "display_data"
    }
   ],
   "source": [
    "plot(Xy_train['px_height'])"
   ]
  },
  {
   "cell_type": "code",
   "execution_count": 136,
   "metadata": {},
   "outputs": [
    {
     "data": {
      "text/plain": [
       "<matplotlib.axes._subplots.AxesSubplot at 0x1d3485e4d90>"
      ]
     },
     "execution_count": 136,
     "metadata": {},
     "output_type": "execute_result"
    },
    {
     "data": {
      "image/png": "[encoded data removed]",
      "text/plain": [
       "<Figure size 432x288 with 1 Axes>"
      ]
     },
     "metadata": {
      "needs_background": "light"
     },
     "output_type": "display_data"
    }
   ],
   "source": [
    "sns.boxplot(x=Xy_train['price_range'], y=Xy_train['px_height'])"
   ]
  },
  {
   "cell_type": "code",
   "execution_count": 137,
   "metadata": {},
   "outputs": [
    {
     "name": "stdout",
     "output_type": "stream",
     "text": [
      "Ho:  There is no significant difference between the levels of price_range with respect to px_height mean (No predictability)\n",
      "Ha:  There is a significant difference between the levels of price_range with respect to px_height mean (Good predictor)\n",
      "\n",
      "\n",
      "                   sum_sq      df         F    PR(>F)\n",
      "C(px_height)  1228.095804  1010.0  0.970668  0.660149\n",
      "Residual       737.828571   589.0       NaN       NaN \n",
      "\n",
      "Fail to reject Ho,  There is no significant difference between the levels of price_range with respect to px_height mean (No predictability)\n"
     ]
    }
   ],
   "source": [
    "anova('px_height', 'price_range', Xy_train)"
   ]
  },
  {
   "cell_type": "code",
   "execution_count": 138,
   "metadata": {},
   "outputs": [],
   "source": [
    "# px_height is not a good predictor\n",
    "\n",
    "action['drop'].append('px_height')"
   ]
  },
  {
   "cell_type": "markdown",
   "metadata": {},
   "source": [
    "#### px_width"
   ]
  },
  {
   "cell_type": "code",
   "execution_count": 139,
   "metadata": {},
   "outputs": [
    {
     "data": {
      "text/plain": [
       "Description    Pixel Resolution Width\n",
       "Name: px_width, dtype: object"
      ]
     },
     "execution_count": 139,
     "metadata": {},
     "output_type": "execute_result"
    }
   ],
   "source": [
    "df_desc['px_width']"
   ]
  },
  {
   "cell_type": "code",
   "execution_count": 140,
   "metadata": {},
   "outputs": [
    {
     "data": {
      "text/plain": [
       "968    1759\n",
       "240    1009\n",
       "819     809\n",
       "692    1674\n",
       "420    1104\n",
       "Name: px_width, dtype: int64"
      ]
     },
     "execution_count": 140,
     "metadata": {},
     "output_type": "execute_result"
    }
   ],
   "source": [
    "Xy_train.px_width.head()"
   ]
  },
  {
   "cell_type": "code",
   "execution_count": 141,
   "metadata": {},
   "outputs": [
    {
     "data": {
      "text/plain": [
       "count    1600.000000\n",
       "mean     1249.091875\n",
       "std       431.530171\n",
       "min       500.000000\n",
       "25%       874.000000\n",
       "50%      1241.500000\n",
       "75%      1626.250000\n",
       "max      1998.000000\n",
       "Name: px_width, dtype: float64"
      ]
     },
     "execution_count": 141,
     "metadata": {},
     "output_type": "execute_result"
    }
   ],
   "source": [
    "Xy_train.px_width.describe()"
   ]
  },
  {
   "cell_type": "code",
   "execution_count": 142,
   "metadata": {},
   "outputs": [
    {
     "data": {
      "image/png": "[encoded data removed]",
      "text/plain": [
       "<Figure size 648x360 with 1 Axes>"
      ]
     },
     "metadata": {
      "needs_background": "light"
     },
     "output_type": "display_data"
    },
    {
     "data": {
      "image/png": "[encoded data removed]",
      "text/plain": [
       "<Figure size 648x360 with 1 Axes>"
      ]
     },
     "metadata": {
      "needs_background": "light"
     },
     "output_type": "display_data"
    }
   ],
   "source": [
    "plot(Xy_train['px_width'])"
   ]
  },
  {
   "cell_type": "code",
   "execution_count": 143,
   "metadata": {},
   "outputs": [
    {
     "data": {
      "text/plain": [
       "<matplotlib.axes._subplots.AxesSubplot at 0x1d3486d78e0>"
      ]
     },
     "execution_count": 143,
     "metadata": {},
     "output_type": "execute_result"
    },
    {
     "data": {
      "image/png": "[encoded data removed]",
      "text/plain": [
       "<Figure size 432x288 with 1 Axes>"
      ]
     },
     "metadata": {
      "needs_background": "light"
     },
     "output_type": "display_data"
    }
   ],
   "source": [
    "sns.boxplot(x=Xy_train['price_range'], y=Xy_train['px_width'])"
   ]
  },
  {
   "cell_type": "code",
   "execution_count": 144,
   "metadata": {},
   "outputs": [
    {
     "name": "stdout",
     "output_type": "stream",
     "text": [
      "Ho:  There is no significant difference between the levels of price_range with respect to px_width mean (No predictability)\n",
      "Ha:  There is a significant difference between the levels of price_range with respect to px_width mean (Good predictor)\n",
      "\n",
      "\n",
      "                  sum_sq      df         F   PR(>F)\n",
      "C(px_width)  1292.424375  1000.0  1.149461  0.02952\n",
      "Residual      673.500000   599.0       NaN      NaN \n",
      "\n",
      "Reject Ho,  There is a significant difference between the levels of price_range with respect to px_width mean (Good predictor)\n"
     ]
    }
   ],
   "source": [
    "anova('px_width', 'price_range', Xy_train)"
   ]
  },
  {
   "cell_type": "code",
   "execution_count": 145,
   "metadata": {},
   "outputs": [],
   "source": [
    "# px_width is a good predictor"
   ]
  },
  {
   "cell_type": "markdown",
   "metadata": {},
   "source": [
    "#### ram"
   ]
  },
  {
   "cell_type": "code",
   "execution_count": 146,
   "metadata": {},
   "outputs": [
    {
     "data": {
      "text/plain": [
       "Description    Random Access Memory in MegaBytes\n",
       "Name: ram, dtype: object"
      ]
     },
     "execution_count": 146,
     "metadata": {},
     "output_type": "execute_result"
    }
   ],
   "source": [
    "df_desc['ram']"
   ]
  },
  {
   "cell_type": "code",
   "execution_count": 147,
   "metadata": {},
   "outputs": [
    {
     "data": {
      "text/plain": [
       "968    1489\n",
       "240    3560\n",
       "819    1406\n",
       "692    3508\n",
       "420    1587\n",
       "Name: ram, dtype: int64"
      ]
     },
     "execution_count": 147,
     "metadata": {},
     "output_type": "execute_result"
    }
   ],
   "source": [
    "Xy_train.ram.head()"
   ]
  },
  {
   "cell_type": "code",
   "execution_count": 148,
   "metadata": {},
   "outputs": [
    {
     "data": {
      "text/plain": [
       "count    1600.000000\n",
       "mean     2116.131250\n",
       "std      1080.711326\n",
       "min       258.000000\n",
       "25%      1212.750000\n",
       "50%      2110.500000\n",
       "75%      3042.000000\n",
       "max      3998.000000\n",
       "Name: ram, dtype: float64"
      ]
     },
     "execution_count": 148,
     "metadata": {},
     "output_type": "execute_result"
    }
   ],
   "source": [
    "Xy_train.ram.describe()"
   ]
  },
  {
   "cell_type": "code",
   "execution_count": 149,
   "metadata": {},
   "outputs": [
    {
     "data": {
      "image/png": "[encoded data removed]",
      "text/plain": [
       "<Figure size 648x360 with 1 Axes>"
      ]
     },
     "metadata": {
      "needs_background": "light"
     },
     "output_type": "display_data"
    },
    {
     "data": {
      "image/png": "[encoded data removed]",
      "text/plain": [
       "<Figure size 648x360 with 1 Axes>"
      ]
     },
     "metadata": {
      "needs_background": "light"
     },
     "output_type": "display_data"
    }
   ],
   "source": [
    "plot(Xy_train['ram'])"
   ]
  },
  {
   "cell_type": "code",
   "execution_count": 150,
   "metadata": {},
   "outputs": [
    {
     "data": {
      "text/plain": [
       "<matplotlib.axes._subplots.AxesSubplot at 0x1d347f13310>"
      ]
     },
     "execution_count": 150,
     "metadata": {},
     "output_type": "execute_result"
    },
    {
     "data": {
      "image/png": "[encoded data removed]",
      "text/plain": [
       "<Figure size 432x288 with 1 Axes>"
      ]
     },
     "metadata": {
      "needs_background": "light"
     },
     "output_type": "display_data"
    }
   ],
   "source": [
    "sns.boxplot(x=Xy_train['price_range'], y=Xy_train['ram'])"
   ]
  },
  {
   "cell_type": "code",
   "execution_count": 151,
   "metadata": {},
   "outputs": [
    {
     "name": "stdout",
     "output_type": "stream",
     "text": [
      "Ho:  There is no significant difference between the levels of price_range with respect to ram mean (No predictability)\n",
      "Ha:  There is a significant difference between the levels of price_range with respect to ram mean (Good predictor)\n",
      "\n",
      "\n",
      "               sum_sq      df         F        PR(>F)\n",
      "C(ram)    1907.341042  1297.0  7.580908  7.566792e-73\n",
      "Residual    58.583333   302.0       NaN           NaN \n",
      "\n",
      "Reject Ho,  There is a significant difference between the levels of price_range with respect to ram mean (Good predictor)\n"
     ]
    }
   ],
   "source": [
    "anova('ram', 'price_range', Xy_train)"
   ]
  },
  {
   "cell_type": "code",
   "execution_count": 152,
   "metadata": {},
   "outputs": [],
   "source": [
    "# ram is a good predictor of price_range"
   ]
  },
  {
   "cell_type": "markdown",
   "metadata": {},
   "source": [
    "#### sc_h"
   ]
  },
  {
   "cell_type": "code",
   "execution_count": 153,
   "metadata": {},
   "outputs": [
    {
     "data": {
      "text/plain": [
       "Description    Screen Height of mobile in cm\n",
       "Name: sc_h, dtype: object"
      ]
     },
     "execution_count": 153,
     "metadata": {},
     "output_type": "execute_result"
    }
   ],
   "source": [
    "df_desc['sc_h']"
   ]
  },
  {
   "cell_type": "code",
   "execution_count": 154,
   "metadata": {},
   "outputs": [
    {
     "data": {
      "text/plain": [
       "968    10\n",
       "240    11\n",
       "819    14\n",
       "692    13\n",
       "420     6\n",
       "Name: sc_h, dtype: int64"
      ]
     },
     "execution_count": 154,
     "metadata": {},
     "output_type": "execute_result"
    }
   ],
   "source": [
    "Xy_train.sc_h.head()"
   ]
  },
  {
   "cell_type": "code",
   "execution_count": 155,
   "metadata": {},
   "outputs": [
    {
     "data": {
      "text/plain": [
       "count    1600.000000\n",
       "mean       12.220000\n",
       "std         4.205372\n",
       "min         5.000000\n",
       "25%         9.000000\n",
       "50%        12.000000\n",
       "75%        16.000000\n",
       "max        19.000000\n",
       "Name: sc_h, dtype: float64"
      ]
     },
     "execution_count": 155,
     "metadata": {},
     "output_type": "execute_result"
    }
   ],
   "source": [
    "Xy_train.sc_h.describe()"
   ]
  },
  {
   "cell_type": "code",
   "execution_count": 156,
   "metadata": {},
   "outputs": [
    {
     "data": {
      "text/plain": [
       "17    154\n",
       "12    130\n",
       "7     125\n",
       "14    114\n",
       "15    112\n",
       "9     109\n",
       "13    107\n",
       "16    104\n",
       "11     98\n",
       "19     96\n",
       "10     95\n",
       "8      93\n",
       "6      93\n",
       "18     91\n",
       "5      79\n",
       "Name: sc_h, dtype: int64"
      ]
     },
     "execution_count": 156,
     "metadata": {},
     "output_type": "execute_result"
    }
   ],
   "source": [
    "Xy_train.sc_h.value_counts()"
   ]
  },
  {
   "cell_type": "code",
   "execution_count": 157,
   "metadata": {},
   "outputs": [
    {
     "data": {
      "image/png": "[encoded data removed]",
      "text/plain": [
       "<Figure size 648x360 with 1 Axes>"
      ]
     },
     "metadata": {
      "needs_background": "light"
     },
     "output_type": "display_data"
    },
    {
     "data": {
      "image/png": "[encoded data removed]",
      "text/plain": [
       "<Figure size 648x360 with 1 Axes>"
      ]
     },
     "metadata": {
      "needs_background": "light"
     },
     "output_type": "display_data"
    }
   ],
   "source": [
    "plot(Xy_train['sc_h'])"
   ]
  },
  {
   "cell_type": "code",
   "execution_count": 158,
   "metadata": {},
   "outputs": [
    {
     "data": {
      "text/plain": [
       "<matplotlib.axes._subplots.AxesSubplot at 0x1d3485aaa30>"
      ]
     },
     "execution_count": 158,
     "metadata": {},
     "output_type": "execute_result"
    },
    {
     "data": {
      "image/png": "[encoded data removed]",
      "text/plain": [
       "<Figure size 432x288 with 1 Axes>"
      ]
     },
     "metadata": {
      "needs_background": "light"
     },
     "output_type": "display_data"
    }
   ],
   "source": [
    "sns.countplot(Xy_train.sc_h)"
   ]
  },
  {
   "cell_type": "code",
   "execution_count": 159,
   "metadata": {},
   "outputs": [],
   "source": [
    "# Lets treat sc_h as a categorical variable\n",
    "\n",
    "Xy_train = Xy_train.replace({'sc_h': {\n",
    "    5 : '5-10 cm',\n",
    "    6 : '5-10 cm',\n",
    "    7 : '5-10 cm',\n",
    "    8 : '5-10 cm',\n",
    "    9 : '5-10 cm',\n",
    "    10 : '5-10 cm',\n",
    "    11 : '11-15 cm',\n",
    "    12 : '11-15 cm',\n",
    "    13 : '11-15 cm',\n",
    "    14 : '11-15 cm',\n",
    "    15 : '11-15 cm',\n",
    "    16 : '16-20 cm',\n",
    "    17 : '16-20 cm',\n",
    "    18 : '16-20 cm',\n",
    "    19 : '16-20 cm'\n",
    "}})"
   ]
  },
  {
   "cell_type": "code",
   "execution_count": 160,
   "metadata": {},
   "outputs": [],
   "source": [
    "Xy_test = Xy_test.replace({'sc_h': {\n",
    "    5 : '5-10 cm',\n",
    "    6 : '5-10 cm',\n",
    "    7 : '5-10 cm',\n",
    "    8 : '5-10 cm',\n",
    "    9 : '5-10 cm',\n",
    "    10 : '5-10 cm',\n",
    "    11 : '11-15 cm',\n",
    "    12 : '11-15 cm',\n",
    "    13 : '11-15 cm',\n",
    "    14 : '11-15 cm',\n",
    "    15 : '11-15 cm',\n",
    "    16 : '16-20 cm',\n",
    "    17 : '16-20 cm',\n",
    "    18 : '16-20 cm',\n",
    "    19 : '16-20 cm'\n",
    "}})"
   ]
  },
  {
   "cell_type": "code",
   "execution_count": 161,
   "metadata": {},
   "outputs": [
    {
     "data": {
      "text/plain": [
       "5-10 cm     594\n",
       "11-15 cm    561\n",
       "16-20 cm    445\n",
       "Name: sc_h, dtype: int64"
      ]
     },
     "execution_count": 161,
     "metadata": {},
     "output_type": "execute_result"
    }
   ],
   "source": [
    "Xy_train.sc_h.value_counts()"
   ]
  },
  {
   "cell_type": "code",
   "execution_count": 162,
   "metadata": {},
   "outputs": [
    {
     "data": {
      "text/plain": [
       "16-20 cm    135\n",
       "5-10 cm     134\n",
       "11-15 cm    131\n",
       "Name: sc_h, dtype: int64"
      ]
     },
     "execution_count": 162,
     "metadata": {},
     "output_type": "execute_result"
    }
   ],
   "source": [
    "Xy_test.sc_h.value_counts()"
   ]
  },
  {
   "cell_type": "code",
   "execution_count": 163,
   "metadata": {},
   "outputs": [
    {
     "data": {
      "text/plain": [
       "<matplotlib.axes._subplots.AxesSubplot at 0x1d3487b5df0>"
      ]
     },
     "execution_count": 163,
     "metadata": {},
     "output_type": "execute_result"
    },
    {
     "data": {
      "image/png": "[encoded data removed]",
      "text/plain": [
       "<Figure size 432x288 with 1 Axes>"
      ]
     },
     "metadata": {
      "needs_background": "light"
     },
     "output_type": "display_data"
    }
   ],
   "source": [
    "sns.countplot(Xy_train.sc_h)"
   ]
  },
  {
   "cell_type": "code",
   "execution_count": 164,
   "metadata": {},
   "outputs": [
    {
     "name": "stdout",
     "output_type": "stream",
     "text": [
      "Chi square test between sc_h and price_range\n",
      "\n",
      "Ho:  There is no significant assosiation betweeen sc_h and price_range (No predictability)\n",
      "Ha:  There is relation between sc_h and price_range (Good predictor)\n",
      "\n",
      "\n",
      "price_range    0    1    2    3   All\n",
      "sc_h                                 \n",
      "11-15 cm     146  141  138  136   561\n",
      "16-20 cm     104  118  101  122   445\n",
      "5-10 cm      145  150  169  130   594\n",
      "All          395  409  408  388  1600\n",
      "\n",
      "\n",
      "chi-square stats:  7.746044623971593\n",
      "p-value:  0.2573053846276487\n",
      "\n",
      "\n",
      "Fail to reject null hypothesis,  There is no significant assosiation betweeen sc_h and price_range (No predictability)\n",
      "\n",
      "\n",
      ">>> Drop sc_h\n"
     ]
    }
   ],
   "source": [
    "chi2('sc_h', 'price_range', Xy_train)"
   ]
  },
  {
   "cell_type": "code",
   "execution_count": 165,
   "metadata": {},
   "outputs": [],
   "source": [
    "# sc_h is not a good predictor\n",
    "\n",
    "action['drop'].append('sc_h')"
   ]
  },
  {
   "cell_type": "markdown",
   "metadata": {},
   "source": [
    "#### sc_w"
   ]
  },
  {
   "cell_type": "code",
   "execution_count": 166,
   "metadata": {},
   "outputs": [
    {
     "data": {
      "text/plain": [
       "Description    Screen Width of mobile in cm\n",
       "Name: sc_w, dtype: object"
      ]
     },
     "execution_count": 166,
     "metadata": {},
     "output_type": "execute_result"
    }
   ],
   "source": [
    "df_desc['sc_w']"
   ]
  },
  {
   "cell_type": "code",
   "execution_count": 167,
   "metadata": {},
   "outputs": [
    {
     "data": {
      "text/plain": [
       "968     9\n",
       "240     1\n",
       "819    12\n",
       "692     8\n",
       "420     5\n",
       "Name: sc_w, dtype: int64"
      ]
     },
     "execution_count": 167,
     "metadata": {},
     "output_type": "execute_result"
    }
   ],
   "source": [
    "Xy_train.sc_w.head()"
   ]
  },
  {
   "cell_type": "code",
   "execution_count": 168,
   "metadata": {},
   "outputs": [
    {
     "data": {
      "text/plain": [
       "count    1600.000000\n",
       "mean        5.705625\n",
       "std         4.338863\n",
       "min         0.000000\n",
       "25%         2.000000\n",
       "50%         5.000000\n",
       "75%         9.000000\n",
       "max        18.000000\n",
       "Name: sc_w, dtype: float64"
      ]
     },
     "execution_count": 168,
     "metadata": {},
     "output_type": "execute_result"
    }
   ],
   "source": [
    "Xy_train.sc_w.describe()"
   ]
  },
  {
   "cell_type": "code",
   "execution_count": 169,
   "metadata": {},
   "outputs": [
    {
     "data": {
      "text/plain": [
       "1     164\n",
       "3     158\n",
       "0     150\n",
       "4     149\n",
       "5     138\n",
       "2     126\n",
       "6     104\n",
       "7     104\n",
       "8      98\n",
       "10     81\n",
       "9      77\n",
       "11     65\n",
       "12     60\n",
       "13     31\n",
       "15     26\n",
       "16     25\n",
       "14     23\n",
       "17     14\n",
       "18      7\n",
       "Name: sc_w, dtype: int64"
      ]
     },
     "execution_count": 169,
     "metadata": {},
     "output_type": "execute_result"
    }
   ],
   "source": [
    "Xy_train.sc_w.value_counts()"
   ]
  },
  {
   "cell_type": "code",
   "execution_count": 170,
   "metadata": {},
   "outputs": [
    {
     "data": {
      "image/png": "[encoded data removed]",
      "text/plain": [
       "<Figure size 648x360 with 1 Axes>"
      ]
     },
     "metadata": {
      "needs_background": "light"
     },
     "output_type": "display_data"
    },
    {
     "data": {
      "image/png": "[encoded data removed]",
      "text/plain": [
       "<Figure size 648x360 with 1 Axes>"
      ]
     },
     "metadata": {
      "needs_background": "light"
     },
     "output_type": "display_data"
    }
   ],
   "source": [
    "plot(Xy_train['sc_w'])"
   ]
  },
  {
   "cell_type": "code",
   "execution_count": 171,
   "metadata": {},
   "outputs": [
    {
     "data": {
      "text/plain": [
       "<matplotlib.axes._subplots.AxesSubplot at 0x1d3498b6670>"
      ]
     },
     "execution_count": 171,
     "metadata": {},
     "output_type": "execute_result"
    },
    {
     "data": {
      "image/png": "[encoded data removed]",
      "text/plain": [
       "<Figure size 432x288 with 1 Axes>"
      ]
     },
     "metadata": {
      "needs_background": "light"
     },
     "output_type": "display_data"
    }
   ],
   "source": [
    "sns.countplot(Xy_train.sc_w)"
   ]
  },
  {
   "cell_type": "code",
   "execution_count": 172,
   "metadata": {},
   "outputs": [],
   "source": [
    "# Lets treat sc_w as a categorical variable\n",
    "\n",
    "Xy_train = Xy_train.replace({'sc_w': {\n",
    "    0 : '0-4 cm',\n",
    "    1 : '0-4 cm',\n",
    "    2 : '0-4 cm',\n",
    "    3 : '0-4 cm',\n",
    "    4 : '0-4 cm',\n",
    "    5 : '5-9 cm',\n",
    "    6 : '5-9 cm',\n",
    "    7 : '5-9 cm',\n",
    "    8 : '5-9 cm',\n",
    "    9 : '5-9 cm',\n",
    "    10 : '10 cm & above',\n",
    "    11 : '10 cm & above',\n",
    "    12 : '10 cm & above',\n",
    "    13 : '10 cm & above',\n",
    "    14 : '10 cm & above',\n",
    "    15 : '10 cm & above',\n",
    "    16 : '10 cm & above',\n",
    "    17 : '10 cm & above',\n",
    "    18 : '10 cm & above'\n",
    "}})"
   ]
  },
  {
   "cell_type": "code",
   "execution_count": 173,
   "metadata": {},
   "outputs": [],
   "source": [
    "Xy_test = Xy_test.replace({'sc_w': {\n",
    "    0 : '0-4 cm',\n",
    "    1 : '0-4 cm',\n",
    "    2 : '0-4 cm',\n",
    "    3 : '0-4 cm',\n",
    "    4 : '0-4 cm',\n",
    "    5 : '5-9 cm',\n",
    "    6 : '5-9 cm',\n",
    "    7 : '5-9 cm',\n",
    "    8 : '5-9 cm',\n",
    "    9 : '5-9 cm',\n",
    "    10 : '10 cm & above',\n",
    "    11 : '10 cm & above',\n",
    "    12 : '10 cm & above',\n",
    "    13 : '10 cm & above',\n",
    "    14 : '10 cm & above',\n",
    "    15 : '10 cm & above',\n",
    "    16 : '10 cm & above',\n",
    "    17 : '10 cm & above',\n",
    "    18 : '10 cm & above'\n",
    "}})"
   ]
  },
  {
   "cell_type": "code",
   "execution_count": 174,
   "metadata": {},
   "outputs": [
    {
     "data": {
      "text/plain": [
       "0-4 cm           747\n",
       "5-9 cm           521\n",
       "10 cm & above    332\n",
       "Name: sc_w, dtype: int64"
      ]
     },
     "execution_count": 174,
     "metadata": {},
     "output_type": "execute_result"
    }
   ],
   "source": [
    "Xy_train.sc_w.value_counts()"
   ]
  },
  {
   "cell_type": "code",
   "execution_count": 175,
   "metadata": {},
   "outputs": [
    {
     "data": {
      "text/plain": [
       "0-4 cm           180\n",
       "5-9 cm           124\n",
       "10 cm & above     96\n",
       "Name: sc_w, dtype: int64"
      ]
     },
     "execution_count": 175,
     "metadata": {},
     "output_type": "execute_result"
    }
   ],
   "source": [
    "Xy_test.sc_w.value_counts()"
   ]
  },
  {
   "cell_type": "code",
   "execution_count": 176,
   "metadata": {},
   "outputs": [
    {
     "data": {
      "text/plain": [
       "<matplotlib.axes._subplots.AxesSubplot at 0x1d3487bed30>"
      ]
     },
     "execution_count": 176,
     "metadata": {},
     "output_type": "execute_result"
    },
    {
     "data": {
      "image/png": "[encoded data removed]",
      "text/plain": [
       "<Figure size 432x288 with 1 Axes>"
      ]
     },
     "metadata": {
      "needs_background": "light"
     },
     "output_type": "display_data"
    }
   ],
   "source": [
    "sns.countplot(Xy_train.sc_w)"
   ]
  },
  {
   "cell_type": "code",
   "execution_count": 177,
   "metadata": {},
   "outputs": [
    {
     "name": "stdout",
     "output_type": "stream",
     "text": [
      "Chi square test between sc_w and price_range\n",
      "\n",
      "Ho:  There is no significant assosiation betweeen sc_w and price_range (No predictability)\n",
      "Ha:  There is relation between sc_w and price_range (Good predictor)\n",
      "\n",
      "\n",
      "price_range      0    1    2    3   All\n",
      "sc_w                                   \n",
      "0-4 cm         188  198  185  176   747\n",
      "10 cm & above   78   77   80   97   332\n",
      "5-9 cm         129  134  143  115   521\n",
      "All            395  409  408  388  1600\n",
      "\n",
      "\n",
      "chi-square stats:  6.98803569824192\n",
      "p-value:  0.3219550698300692\n",
      "\n",
      "\n",
      "Fail to reject null hypothesis,  There is no significant assosiation betweeen sc_w and price_range (No predictability)\n",
      "\n",
      "\n",
      ">>> Drop sc_w\n"
     ]
    }
   ],
   "source": [
    "chi2('sc_w', 'price_range', Xy_train)"
   ]
  },
  {
   "cell_type": "code",
   "execution_count": 178,
   "metadata": {},
   "outputs": [],
   "source": [
    "# sc_w is not a good predictor\n",
    "\n",
    "action['drop'].append('sc_w')"
   ]
  },
  {
   "cell_type": "markdown",
   "metadata": {},
   "source": [
    "#### talk_time"
   ]
  },
  {
   "cell_type": "code",
   "execution_count": 179,
   "metadata": {},
   "outputs": [
    {
     "data": {
      "text/plain": [
       "Description    The longest time that a single battery charge will last when you are\n",
       "Name: talk_time, dtype: object"
      ]
     },
     "execution_count": 179,
     "metadata": {},
     "output_type": "execute_result"
    }
   ],
   "source": [
    "df_desc['talk_time']"
   ]
  },
  {
   "cell_type": "code",
   "execution_count": 180,
   "metadata": {},
   "outputs": [
    {
     "data": {
      "text/plain": [
       "968     3\n",
       "240    16\n",
       "819    20\n",
       "692     5\n",
       "420    20\n",
       "Name: talk_time, dtype: int64"
      ]
     },
     "execution_count": 180,
     "metadata": {},
     "output_type": "execute_result"
    }
   ],
   "source": [
    "Xy_train.talk_time.head()"
   ]
  },
  {
   "cell_type": "code",
   "execution_count": 181,
   "metadata": {},
   "outputs": [
    {
     "data": {
      "text/plain": [
       "count    1600.000000\n",
       "mean       10.956875\n",
       "std         5.507742\n",
       "min         2.000000\n",
       "25%         6.000000\n",
       "50%        11.000000\n",
       "75%        16.000000\n",
       "max        20.000000\n",
       "Name: talk_time, dtype: float64"
      ]
     },
     "execution_count": 181,
     "metadata": {},
     "output_type": "execute_result"
    }
   ],
   "source": [
    "Xy_train.talk_time.describe()"
   ]
  },
  {
   "cell_type": "code",
   "execution_count": 182,
   "metadata": {},
   "outputs": [
    {
     "data": {
      "text/plain": [
       "4     100\n",
       "16    100\n",
       "7      97\n",
       "19     90\n",
       "6      90\n",
       "2      86\n",
       "15     86\n",
       "13     84\n",
       "18     83\n",
       "20     82\n",
       "11     82\n",
       "9      81\n",
       "8      80\n",
       "12     80\n",
       "10     79\n",
       "5      77\n",
       "3      76\n",
       "17     74\n",
       "14     73\n",
       "Name: talk_time, dtype: int64"
      ]
     },
     "execution_count": 182,
     "metadata": {},
     "output_type": "execute_result"
    }
   ],
   "source": [
    "Xy_train.talk_time.value_counts()"
   ]
  },
  {
   "cell_type": "code",
   "execution_count": 183,
   "metadata": {},
   "outputs": [
    {
     "data": {
      "image/png": "[encoded data removed]",
      "text/plain": [
       "<Figure size 648x360 with 1 Axes>"
      ]
     },
     "metadata": {
      "needs_background": "light"
     },
     "output_type": "display_data"
    },
    {
     "data": {
      "image/png": "[encoded data removed]",
      "text/plain": [
       "<Figure size 648x360 with 1 Axes>"
      ]
     },
     "metadata": {
      "needs_background": "light"
     },
     "output_type": "display_data"
    }
   ],
   "source": [
    "plot(Xy_train['talk_time'])"
   ]
  },
  {
   "cell_type": "code",
   "execution_count": 184,
   "metadata": {},
   "outputs": [
    {
     "data": {
      "text/plain": [
       "<matplotlib.axes._subplots.AxesSubplot at 0x1d349a8d130>"
      ]
     },
     "execution_count": 184,
     "metadata": {},
     "output_type": "execute_result"
    },
    {
     "data": {
      "image/png": "[encoded data removed]",
      "text/plain": [
       "<Figure size 432x288 with 1 Axes>"
      ]
     },
     "metadata": {
      "needs_background": "light"
     },
     "output_type": "display_data"
    }
   ],
   "source": [
    "sns.countplot(Xy_train.talk_time)"
   ]
  },
  {
   "cell_type": "code",
   "execution_count": 185,
   "metadata": {
    "scrolled": true
   },
   "outputs": [],
   "source": [
    "# Lets treat this variable as categorical\n",
    "\n",
    "Xy_train = Xy_train.replace({'talk_time': {\n",
    "    2 : '2-8',\n",
    "    3 : '2-8',\n",
    "    4 : '2-8',\n",
    "    5 : '2-8',\n",
    "    6 : '2-8',\n",
    "    7 : '2-8',\n",
    "    8 : '2-8',\n",
    "    9 : '9-15',\n",
    "    10 : '9-15',\n",
    "    11 : '9-15',\n",
    "    12 : '9-15',\n",
    "    13 : '9-15',\n",
    "    14 : '9-15',\n",
    "    15 : '9-15',\n",
    "    16 : '16-20',\n",
    "    17 : '16-20',\n",
    "    18 : '16-20',\n",
    "    19 : '16-20', \n",
    "    20 : '16-20'\n",
    "}})"
   ]
  },
  {
   "cell_type": "code",
   "execution_count": 186,
   "metadata": {},
   "outputs": [],
   "source": [
    "\n",
    "Xy_test = Xy_test.replace({'talk_time': {\n",
    "    2 : '2-8',\n",
    "    3 : '2-8',\n",
    "    4 : '2-8',\n",
    "    5 : '2-8',\n",
    "    6 : '2-8',\n",
    "    7 : '2-8',\n",
    "    8 : '2-8',\n",
    "    9 : '9-15',\n",
    "    10 : '9-15',\n",
    "    11 : '9-15',\n",
    "    12 : '9-15',\n",
    "    13 : '9-15',\n",
    "    14 : '9-15',\n",
    "    15 : '9-15',\n",
    "    16 : '16-20',\n",
    "    17 : '16-20',\n",
    "    18 : '16-20',\n",
    "    19 : '16-20', \n",
    "    20 : '16-20'\n",
    "}})"
   ]
  },
  {
   "cell_type": "code",
   "execution_count": 187,
   "metadata": {},
   "outputs": [
    {
     "data": {
      "text/plain": [
       "2-8      606\n",
       "9-15     565\n",
       "16-20    429\n",
       "Name: talk_time, dtype: int64"
      ]
     },
     "execution_count": 187,
     "metadata": {},
     "output_type": "execute_result"
    }
   ],
   "source": [
    "Xy_train.talk_time.value_counts()"
   ]
  },
  {
   "cell_type": "code",
   "execution_count": 188,
   "metadata": {},
   "outputs": [
    {
     "data": {
      "text/plain": [
       "2-8      606\n",
       "9-15     565\n",
       "16-20    429\n",
       "Name: talk_time, dtype: int64"
      ]
     },
     "execution_count": 188,
     "metadata": {},
     "output_type": "execute_result"
    }
   ],
   "source": [
    "Xy_train.talk_time.value_counts()"
   ]
  },
  {
   "cell_type": "code",
   "execution_count": 189,
   "metadata": {},
   "outputs": [
    {
     "data": {
      "text/plain": [
       "<matplotlib.axes._subplots.AxesSubplot at 0x1d34995daf0>"
      ]
     },
     "execution_count": 189,
     "metadata": {},
     "output_type": "execute_result"
    },
    {
     "data": {
      "image/png": "[encoded data removed]",
      "text/plain": [
       "<Figure size 432x288 with 1 Axes>"
      ]
     },
     "metadata": {
      "needs_background": "light"
     },
     "output_type": "display_data"
    }
   ],
   "source": [
    "sns.countplot(Xy_train.talk_time.value_counts())"
   ]
  },
  {
   "cell_type": "code",
   "execution_count": 190,
   "metadata": {},
   "outputs": [
    {
     "name": "stdout",
     "output_type": "stream",
     "text": [
      "Chi square test between talk_time and price_range\n",
      "\n",
      "Ho:  There is no significant assosiation betweeen talk_time and price_range (No predictability)\n",
      "Ha:  There is relation between talk_time and price_range (Good predictor)\n",
      "\n",
      "\n",
      "price_range    0    1    2    3   All\n",
      "talk_time                            \n",
      "16-20         98  120  103  108   429\n",
      "2-8          159  138  162  147   606\n",
      "9-15         138  151  143  133   565\n",
      "All          395  409  408  388  1600\n",
      "\n",
      "\n",
      "chi-square stats:  5.327131756599227\n",
      "p-value:  0.502591278959609\n",
      "\n",
      "\n",
      "Fail to reject null hypothesis,  There is no significant assosiation betweeen talk_time and price_range (No predictability)\n",
      "\n",
      "\n",
      ">>> Drop talk_time\n"
     ]
    }
   ],
   "source": [
    "chi2('talk_time', 'price_range', Xy_train)"
   ]
  },
  {
   "cell_type": "code",
   "execution_count": 191,
   "metadata": {},
   "outputs": [],
   "source": [
    "# talk_time is not a good predictor\n",
    "\n",
    "action['drop'].append('talk_time')"
   ]
  },
  {
   "cell_type": "markdown",
   "metadata": {},
   "source": [
    "# Preprocessing"
   ]
  },
  {
   "cell_type": "code",
   "execution_count": 193,
   "metadata": {},
   "outputs": [],
   "source": [
    "# Lets split the independent and dependent variables again.\n",
    "\n",
    "X_train = Xy_train.drop('price_range', axis=1)\n",
    "y_train = Xy_train[['price_range']]"
   ]
  },
  {
   "cell_type": "code",
   "execution_count": 194,
   "metadata": {},
   "outputs": [],
   "source": [
    "X_test = Xy_test.drop('price_range', axis=1)\n",
    "y_test = Xy_test[['price_range']]"
   ]
  },
  {
   "cell_type": "code",
   "execution_count": 195,
   "metadata": {},
   "outputs": [
    {
     "data": {
      "text/html": [
       "<div>\n",
       "<style scoped>\n",
       "    .dataframe tbody tr th:only-of-type {\n",
       "        vertical-align: middle;\n",
       "    }\n",
       "\n",
       "    .dataframe tbody tr th {\n",
       "        vertical-align: top;\n",
       "    }\n",
       "\n",
       "    .dataframe thead th {\n",
       "        text-align: right;\n",
       "    }\n",
       "</style>\n",
       "<table border=\"1\" class=\"dataframe\">\n",
       "  <thead>\n",
       "    <tr style=\"text-align: right;\">\n",
       "      <th></th>\n",
       "      <th>battery_power</th>\n",
       "      <th>clock_speed</th>\n",
       "      <th>fc</th>\n",
       "      <th>int_memory</th>\n",
       "      <th>m_dep</th>\n",
       "      <th>mobile_wt</th>\n",
       "      <th>n_cores</th>\n",
       "      <th>pc</th>\n",
       "      <th>px_height</th>\n",
       "      <th>px_width</th>\n",
       "      <th>ram</th>\n",
       "      <th>sc_h</th>\n",
       "      <th>sc_w</th>\n",
       "      <th>talk_time</th>\n",
       "    </tr>\n",
       "  </thead>\n",
       "  <tbody>\n",
       "    <tr>\n",
       "      <th>968</th>\n",
       "      <td>1923</td>\n",
       "      <td>0.5</td>\n",
       "      <td>6-10 pixel</td>\n",
       "      <td>46</td>\n",
       "      <td>0.5-1.0</td>\n",
       "      <td>191</td>\n",
       "      <td>1-3</td>\n",
       "      <td>6-10</td>\n",
       "      <td>767</td>\n",
       "      <td>1759</td>\n",
       "      <td>1489</td>\n",
       "      <td>5-10 cm</td>\n",
       "      <td>5-9 cm</td>\n",
       "      <td>2-8</td>\n",
       "    </tr>\n",
       "    <tr>\n",
       "      <th>240</th>\n",
       "      <td>633</td>\n",
       "      <td>2.2</td>\n",
       "      <td>No pixel</td>\n",
       "      <td>49</td>\n",
       "      <td>0-0.5</td>\n",
       "      <td>139</td>\n",
       "      <td>7-8</td>\n",
       "      <td>0-5</td>\n",
       "      <td>529</td>\n",
       "      <td>1009</td>\n",
       "      <td>3560</td>\n",
       "      <td>11-15 cm</td>\n",
       "      <td>0-4 cm</td>\n",
       "      <td>16-20</td>\n",
       "    </tr>\n",
       "    <tr>\n",
       "      <th>819</th>\n",
       "      <td>1236</td>\n",
       "      <td>0.9</td>\n",
       "      <td>1-5 pixel</td>\n",
       "      <td>57</td>\n",
       "      <td>0-0.5</td>\n",
       "      <td>188</td>\n",
       "      <td>1-3</td>\n",
       "      <td>11-15</td>\n",
       "      <td>517</td>\n",
       "      <td>809</td>\n",
       "      <td>1406</td>\n",
       "      <td>11-15 cm</td>\n",
       "      <td>10 cm &amp; above</td>\n",
       "      <td>16-20</td>\n",
       "    </tr>\n",
       "    <tr>\n",
       "      <th>692</th>\n",
       "      <td>781</td>\n",
       "      <td>1.1</td>\n",
       "      <td>1-5 pixel</td>\n",
       "      <td>38</td>\n",
       "      <td>0-0.5</td>\n",
       "      <td>198</td>\n",
       "      <td>4-6</td>\n",
       "      <td>6-10</td>\n",
       "      <td>304</td>\n",
       "      <td>1674</td>\n",
       "      <td>3508</td>\n",
       "      <td>11-15 cm</td>\n",
       "      <td>5-9 cm</td>\n",
       "      <td>2-8</td>\n",
       "    </tr>\n",
       "    <tr>\n",
       "      <th>420</th>\n",
       "      <td>1456</td>\n",
       "      <td>0.5</td>\n",
       "      <td>6-10 pixel</td>\n",
       "      <td>7</td>\n",
       "      <td>0-0.5</td>\n",
       "      <td>105</td>\n",
       "      <td>4-6</td>\n",
       "      <td>11-15</td>\n",
       "      <td>823</td>\n",
       "      <td>1104</td>\n",
       "      <td>1587</td>\n",
       "      <td>5-10 cm</td>\n",
       "      <td>5-9 cm</td>\n",
       "      <td>16-20</td>\n",
       "    </tr>\n",
       "  </tbody>\n",
       "</table>\n",
       "</div>"
      ],
      "text/plain": [
       "     battery_power  clock_speed          fc  int_memory    m_dep  mobile_wt  \\\n",
       "968           1923          0.5  6-10 pixel          46  0.5-1.0        191   \n",
       "240            633          2.2    No pixel          49    0-0.5        139   \n",
       "819           1236          0.9   1-5 pixel          57    0-0.5        188   \n",
       "692            781          1.1   1-5 pixel          38    0-0.5        198   \n",
       "420           1456          0.5  6-10 pixel           7    0-0.5        105   \n",
       "\n",
       "    n_cores     pc  px_height  px_width   ram      sc_h           sc_w  \\\n",
       "968     1-3   6-10        767      1759  1489   5-10 cm         5-9 cm   \n",
       "240     7-8    0-5        529      1009  3560  11-15 cm         0-4 cm   \n",
       "819     1-3  11-15        517       809  1406  11-15 cm  10 cm & above   \n",
       "692     4-6   6-10        304      1674  3508  11-15 cm         5-9 cm   \n",
       "420     4-6  11-15        823      1104  1587   5-10 cm         5-9 cm   \n",
       "\n",
       "    talk_time  \n",
       "968       2-8  \n",
       "240     16-20  \n",
       "819     16-20  \n",
       "692       2-8  \n",
       "420     16-20  "
      ]
     },
     "execution_count": 195,
     "metadata": {},
     "output_type": "execute_result"
    }
   ],
   "source": [
    "X_train.head()"
   ]
  },
  {
   "cell_type": "code",
   "execution_count": 196,
   "metadata": {},
   "outputs": [
    {
     "data": {
      "text/html": [
       "<div>\n",
       "<style scoped>\n",
       "    .dataframe tbody tr th:only-of-type {\n",
       "        vertical-align: middle;\n",
       "    }\n",
       "\n",
       "    .dataframe tbody tr th {\n",
       "        vertical-align: top;\n",
       "    }\n",
       "\n",
       "    .dataframe thead th {\n",
       "        text-align: right;\n",
       "    }\n",
       "</style>\n",
       "<table border=\"1\" class=\"dataframe\">\n",
       "  <thead>\n",
       "    <tr style=\"text-align: right;\">\n",
       "      <th></th>\n",
       "      <th>price_range</th>\n",
       "    </tr>\n",
       "  </thead>\n",
       "  <tbody>\n",
       "    <tr>\n",
       "      <th>968</th>\n",
       "      <td>1</td>\n",
       "    </tr>\n",
       "    <tr>\n",
       "      <th>240</th>\n",
       "      <td>2</td>\n",
       "    </tr>\n",
       "    <tr>\n",
       "      <th>819</th>\n",
       "      <td>0</td>\n",
       "    </tr>\n",
       "    <tr>\n",
       "      <th>692</th>\n",
       "      <td>3</td>\n",
       "    </tr>\n",
       "    <tr>\n",
       "      <th>420</th>\n",
       "      <td>1</td>\n",
       "    </tr>\n",
       "  </tbody>\n",
       "</table>\n",
       "</div>"
      ],
      "text/plain": [
       "     price_range\n",
       "968            1\n",
       "240            2\n",
       "819            0\n",
       "692            3\n",
       "420            1"
      ]
     },
     "execution_count": 196,
     "metadata": {},
     "output_type": "execute_result"
    }
   ],
   "source": [
    "y_train.head()"
   ]
  },
  {
   "cell_type": "code",
   "execution_count": 197,
   "metadata": {},
   "outputs": [
    {
     "data": {
      "text/html": [
       "<div>\n",
       "<style scoped>\n",
       "    .dataframe tbody tr th:only-of-type {\n",
       "        vertical-align: middle;\n",
       "    }\n",
       "\n",
       "    .dataframe tbody tr th {\n",
       "        vertical-align: top;\n",
       "    }\n",
       "\n",
       "    .dataframe thead th {\n",
       "        text-align: right;\n",
       "    }\n",
       "</style>\n",
       "<table border=\"1\" class=\"dataframe\">\n",
       "  <thead>\n",
       "    <tr style=\"text-align: right;\">\n",
       "      <th></th>\n",
       "      <th>battery_power</th>\n",
       "      <th>clock_speed</th>\n",
       "      <th>fc</th>\n",
       "      <th>int_memory</th>\n",
       "      <th>m_dep</th>\n",
       "      <th>mobile_wt</th>\n",
       "      <th>n_cores</th>\n",
       "      <th>pc</th>\n",
       "      <th>px_height</th>\n",
       "      <th>px_width</th>\n",
       "      <th>ram</th>\n",
       "      <th>sc_h</th>\n",
       "      <th>sc_w</th>\n",
       "      <th>talk_time</th>\n",
       "    </tr>\n",
       "  </thead>\n",
       "  <tbody>\n",
       "    <tr>\n",
       "      <th>1860</th>\n",
       "      <td>1646</td>\n",
       "      <td>2.5</td>\n",
       "      <td>1-5 pixel</td>\n",
       "      <td>25</td>\n",
       "      <td>0.5-1.0</td>\n",
       "      <td>200</td>\n",
       "      <td>1-3</td>\n",
       "      <td>0-5</td>\n",
       "      <td>211</td>\n",
       "      <td>1608</td>\n",
       "      <td>686</td>\n",
       "      <td>5-10 cm</td>\n",
       "      <td>5-9 cm</td>\n",
       "      <td>9-15</td>\n",
       "    </tr>\n",
       "    <tr>\n",
       "      <th>353</th>\n",
       "      <td>1182</td>\n",
       "      <td>0.5</td>\n",
       "      <td>6-10 pixel</td>\n",
       "      <td>8</td>\n",
       "      <td>0.5-1.0</td>\n",
       "      <td>138</td>\n",
       "      <td>7-8</td>\n",
       "      <td>16-20</td>\n",
       "      <td>275</td>\n",
       "      <td>986</td>\n",
       "      <td>2563</td>\n",
       "      <td>16-20 cm</td>\n",
       "      <td>10 cm &amp; above</td>\n",
       "      <td>16-20</td>\n",
       "    </tr>\n",
       "    <tr>\n",
       "      <th>1333</th>\n",
       "      <td>1972</td>\n",
       "      <td>2.9</td>\n",
       "      <td>6-10 pixel</td>\n",
       "      <td>14</td>\n",
       "      <td>0-0.5</td>\n",
       "      <td>196</td>\n",
       "      <td>7-8</td>\n",
       "      <td>16-20</td>\n",
       "      <td>293</td>\n",
       "      <td>952</td>\n",
       "      <td>1316</td>\n",
       "      <td>5-10 cm</td>\n",
       "      <td>0-4 cm</td>\n",
       "      <td>2-8</td>\n",
       "    </tr>\n",
       "    <tr>\n",
       "      <th>905</th>\n",
       "      <td>989</td>\n",
       "      <td>2.0</td>\n",
       "      <td>1-5 pixel</td>\n",
       "      <td>17</td>\n",
       "      <td>0-0.5</td>\n",
       "      <td>166</td>\n",
       "      <td>1-3</td>\n",
       "      <td>16-20</td>\n",
       "      <td>256</td>\n",
       "      <td>1394</td>\n",
       "      <td>3892</td>\n",
       "      <td>16-20 cm</td>\n",
       "      <td>5-9 cm</td>\n",
       "      <td>16-20</td>\n",
       "    </tr>\n",
       "    <tr>\n",
       "      <th>1289</th>\n",
       "      <td>615</td>\n",
       "      <td>0.5</td>\n",
       "      <td>6-10 pixel</td>\n",
       "      <td>58</td>\n",
       "      <td>0.5-1.0</td>\n",
       "      <td>130</td>\n",
       "      <td>4-6</td>\n",
       "      <td>6-10</td>\n",
       "      <td>1021</td>\n",
       "      <td>1958</td>\n",
       "      <td>1906</td>\n",
       "      <td>11-15 cm</td>\n",
       "      <td>5-9 cm</td>\n",
       "      <td>2-8</td>\n",
       "    </tr>\n",
       "  </tbody>\n",
       "</table>\n",
       "</div>"
      ],
      "text/plain": [
       "      battery_power  clock_speed          fc  int_memory    m_dep  mobile_wt  \\\n",
       "1860           1646          2.5   1-5 pixel          25  0.5-1.0        200   \n",
       "353            1182          0.5  6-10 pixel           8  0.5-1.0        138   \n",
       "1333           1972          2.9  6-10 pixel          14    0-0.5        196   \n",
       "905             989          2.0   1-5 pixel          17    0-0.5        166   \n",
       "1289            615          0.5  6-10 pixel          58  0.5-1.0        130   \n",
       "\n",
       "     n_cores     pc  px_height  px_width   ram      sc_h           sc_w  \\\n",
       "1860     1-3    0-5        211      1608   686   5-10 cm         5-9 cm   \n",
       "353      7-8  16-20        275       986  2563  16-20 cm  10 cm & above   \n",
       "1333     7-8  16-20        293       952  1316   5-10 cm         0-4 cm   \n",
       "905      1-3  16-20        256      1394  3892  16-20 cm         5-9 cm   \n",
       "1289     4-6   6-10       1021      1958  1906  11-15 cm         5-9 cm   \n",
       "\n",
       "     talk_time  \n",
       "1860      9-15  \n",
       "353      16-20  \n",
       "1333       2-8  \n",
       "905      16-20  \n",
       "1289       2-8  "
      ]
     },
     "execution_count": 197,
     "metadata": {},
     "output_type": "execute_result"
    }
   ],
   "source": [
    "X_test.head()"
   ]
  },
  {
   "cell_type": "code",
   "execution_count": 198,
   "metadata": {},
   "outputs": [
    {
     "data": {
      "text/html": [
       "<div>\n",
       "<style scoped>\n",
       "    .dataframe tbody tr th:only-of-type {\n",
       "        vertical-align: middle;\n",
       "    }\n",
       "\n",
       "    .dataframe tbody tr th {\n",
       "        vertical-align: top;\n",
       "    }\n",
       "\n",
       "    .dataframe thead th {\n",
       "        text-align: right;\n",
       "    }\n",
       "</style>\n",
       "<table border=\"1\" class=\"dataframe\">\n",
       "  <thead>\n",
       "    <tr style=\"text-align: right;\">\n",
       "      <th></th>\n",
       "      <th>price_range</th>\n",
       "    </tr>\n",
       "  </thead>\n",
       "  <tbody>\n",
       "    <tr>\n",
       "      <th>1860</th>\n",
       "      <td>0</td>\n",
       "    </tr>\n",
       "    <tr>\n",
       "      <th>353</th>\n",
       "      <td>2</td>\n",
       "    </tr>\n",
       "    <tr>\n",
       "      <th>1333</th>\n",
       "      <td>1</td>\n",
       "    </tr>\n",
       "    <tr>\n",
       "      <th>905</th>\n",
       "      <td>3</td>\n",
       "    </tr>\n",
       "    <tr>\n",
       "      <th>1289</th>\n",
       "      <td>1</td>\n",
       "    </tr>\n",
       "  </tbody>\n",
       "</table>\n",
       "</div>"
      ],
      "text/plain": [
       "      price_range\n",
       "1860            0\n",
       "353             2\n",
       "1333            1\n",
       "905             3\n",
       "1289            1"
      ]
     },
     "execution_count": 198,
     "metadata": {},
     "output_type": "execute_result"
    }
   ],
   "source": [
    "y_test.head()"
   ]
  },
  {
   "cell_type": "code",
   "execution_count": 199,
   "metadata": {},
   "outputs": [
    {
     "data": {
      "text/plain": [
       "(1600, 14)"
      ]
     },
     "execution_count": 199,
     "metadata": {},
     "output_type": "execute_result"
    }
   ],
   "source": [
    "X_train.shape"
   ]
  },
  {
   "cell_type": "code",
   "execution_count": 200,
   "metadata": {},
   "outputs": [
    {
     "data": {
      "text/plain": [
       "(1600, 1)"
      ]
     },
     "execution_count": 200,
     "metadata": {},
     "output_type": "execute_result"
    }
   ],
   "source": [
    "y_train.shape"
   ]
  },
  {
   "cell_type": "code",
   "execution_count": 201,
   "metadata": {},
   "outputs": [
    {
     "data": {
      "text/plain": [
       "(400, 14)"
      ]
     },
     "execution_count": 201,
     "metadata": {},
     "output_type": "execute_result"
    }
   ],
   "source": [
    "X_test.shape"
   ]
  },
  {
   "cell_type": "code",
   "execution_count": 202,
   "metadata": {},
   "outputs": [
    {
     "data": {
      "text/plain": [
       "(400, 1)"
      ]
     },
     "execution_count": 202,
     "metadata": {},
     "output_type": "execute_result"
    }
   ],
   "source": [
    "y_test.shape"
   ]
  },
  {
   "cell_type": "code",
   "execution_count": 211,
   "metadata": {},
   "outputs": [
    {
     "name": "stdout",
     "output_type": "stream",
     "text": [
      "<class 'pandas.core.frame.DataFrame'>\n",
      "Int64Index: 1600 entries, 968 to 1126\n",
      "Data columns (total 14 columns):\n",
      " #   Column         Non-Null Count  Dtype  \n",
      "---  ------         --------------  -----  \n",
      " 0   battery_power  1600 non-null   int64  \n",
      " 1   clock_speed    1600 non-null   float64\n",
      " 2   fc             1600 non-null   object \n",
      " 3   int_memory     1600 non-null   int64  \n",
      " 4   m_dep          1600 non-null   object \n",
      " 5   mobile_wt      1600 non-null   int64  \n",
      " 6   n_cores        1600 non-null   object \n",
      " 7   pc             1600 non-null   object \n",
      " 8   px_height      1600 non-null   int64  \n",
      " 9   px_width       1600 non-null   int64  \n",
      " 10  ram            1600 non-null   int64  \n",
      " 11  sc_h           1600 non-null   object \n",
      " 12  sc_w           1600 non-null   object \n",
      " 13  talk_time      1600 non-null   object \n",
      "dtypes: float64(1), int64(6), object(7)\n",
      "memory usage: 187.5+ KB\n"
     ]
    }
   ],
   "source": [
    "X_train.info()"
   ]
  },
  {
   "cell_type": "code",
   "execution_count": 214,
   "metadata": {},
   "outputs": [
    {
     "data": {
      "text/plain": [
       "['fc', 'm_dep', 'n_cores', 'pc', 'sc_h', 'sc_w', 'talk_time']"
      ]
     },
     "execution_count": 214,
     "metadata": {},
     "output_type": "execute_result"
    }
   ],
   "source": [
    "cat_cols = [col for col in X_train.columns if X_train[col].dtypes == 'O']\n",
    "cat_cols"
   ]
  },
  {
   "cell_type": "code",
   "execution_count": 221,
   "metadata": {},
   "outputs": [],
   "source": [
    "# Encoding categorical variables\n",
    "\n",
    "from sklearn.preprocessing import OneHotEncoder\n",
    "from sklearn.compose import ColumnTransformer\n",
    "\n",
    "ohe = OneHotEncoder(sparse=False, drop='first')\n",
    "ct = ColumnTransformer([\n",
    "    ('catagorical', ohe, cat_cols)\n",
    "], remainder='passthrough')\n",
    "\n",
    "X_train_ohe = ct.fit_transform(X_train)\n",
    "X_test_ohe = ct.transform(X_test)"
   ]
  },
  {
   "cell_type": "code",
   "execution_count": 222,
   "metadata": {},
   "outputs": [
    {
     "data": {
      "text/plain": [
       "array([0.000e+00, 1.000e+00, 0.000e+00, 1.000e+00, 0.000e+00, 0.000e+00,\n",
       "       0.000e+00, 0.000e+00, 1.000e+00, 0.000e+00, 1.000e+00, 0.000e+00,\n",
       "       1.000e+00, 1.000e+00, 0.000e+00, 1.923e+03, 5.000e-01, 4.600e+01,\n",
       "       1.910e+02, 7.670e+02, 1.759e+03, 1.489e+03])"
      ]
     },
     "execution_count": 222,
     "metadata": {},
     "output_type": "execute_result"
    }
   ],
   "source": [
    "X_train_ohe[0]"
   ]
  },
  {
   "cell_type": "code",
   "execution_count": 223,
   "metadata": {},
   "outputs": [
    {
     "data": {
      "text/plain": [
       "array([0.000e+00, 0.000e+00, 0.000e+00, 1.000e+00, 0.000e+00, 0.000e+00,\n",
       "       0.000e+00, 0.000e+00, 0.000e+00, 0.000e+00, 1.000e+00, 0.000e+00,\n",
       "       1.000e+00, 0.000e+00, 1.000e+00, 1.646e+03, 2.500e+00, 2.500e+01,\n",
       "       2.000e+02, 2.110e+02, 1.608e+03, 6.860e+02])"
      ]
     },
     "execution_count": 223,
     "metadata": {},
     "output_type": "execute_result"
    }
   ],
   "source": [
    "X_test_ohe[0]"
   ]
  },
  {
   "cell_type": "code",
   "execution_count": 203,
   "metadata": {},
   "outputs": [],
   "source": [
    "# Lets create another training and testing set without unnecessary variables"
   ]
  },
  {
   "cell_type": "code",
   "execution_count": 204,
   "metadata": {},
   "outputs": [],
   "source": [
    "X_train_drop = X_train.drop(action['drop'], axis=1)\n",
    "\n",
    "X_test_drop = X_test.drop(action['drop'], axis=1)"
   ]
  },
  {
   "cell_type": "code",
   "execution_count": 205,
   "metadata": {},
   "outputs": [
    {
     "data": {
      "text/html": [
       "<div>\n",
       "<style scoped>\n",
       "    .dataframe tbody tr th:only-of-type {\n",
       "        vertical-align: middle;\n",
       "    }\n",
       "\n",
       "    .dataframe tbody tr th {\n",
       "        vertical-align: top;\n",
       "    }\n",
       "\n",
       "    .dataframe thead th {\n",
       "        text-align: right;\n",
       "    }\n",
       "</style>\n",
       "<table border=\"1\" class=\"dataframe\">\n",
       "  <thead>\n",
       "    <tr style=\"text-align: right;\">\n",
       "      <th></th>\n",
       "      <th>battery_power</th>\n",
       "      <th>px_width</th>\n",
       "      <th>ram</th>\n",
       "    </tr>\n",
       "  </thead>\n",
       "  <tbody>\n",
       "    <tr>\n",
       "      <th>968</th>\n",
       "      <td>1923</td>\n",
       "      <td>1759</td>\n",
       "      <td>1489</td>\n",
       "    </tr>\n",
       "    <tr>\n",
       "      <th>240</th>\n",
       "      <td>633</td>\n",
       "      <td>1009</td>\n",
       "      <td>3560</td>\n",
       "    </tr>\n",
       "    <tr>\n",
       "      <th>819</th>\n",
       "      <td>1236</td>\n",
       "      <td>809</td>\n",
       "      <td>1406</td>\n",
       "    </tr>\n",
       "    <tr>\n",
       "      <th>692</th>\n",
       "      <td>781</td>\n",
       "      <td>1674</td>\n",
       "      <td>3508</td>\n",
       "    </tr>\n",
       "    <tr>\n",
       "      <th>420</th>\n",
       "      <td>1456</td>\n",
       "      <td>1104</td>\n",
       "      <td>1587</td>\n",
       "    </tr>\n",
       "  </tbody>\n",
       "</table>\n",
       "</div>"
      ],
      "text/plain": [
       "     battery_power  px_width   ram\n",
       "968           1923      1759  1489\n",
       "240            633      1009  3560\n",
       "819           1236       809  1406\n",
       "692            781      1674  3508\n",
       "420           1456      1104  1587"
      ]
     },
     "execution_count": 205,
     "metadata": {},
     "output_type": "execute_result"
    }
   ],
   "source": [
    "X_train_drop.head()"
   ]
  },
  {
   "cell_type": "code",
   "execution_count": 206,
   "metadata": {},
   "outputs": [
    {
     "data": {
      "text/html": [
       "<div>\n",
       "<style scoped>\n",
       "    .dataframe tbody tr th:only-of-type {\n",
       "        vertical-align: middle;\n",
       "    }\n",
       "\n",
       "    .dataframe tbody tr th {\n",
       "        vertical-align: top;\n",
       "    }\n",
       "\n",
       "    .dataframe thead th {\n",
       "        text-align: right;\n",
       "    }\n",
       "</style>\n",
       "<table border=\"1\" class=\"dataframe\">\n",
       "  <thead>\n",
       "    <tr style=\"text-align: right;\">\n",
       "      <th></th>\n",
       "      <th>battery_power</th>\n",
       "      <th>px_width</th>\n",
       "      <th>ram</th>\n",
       "    </tr>\n",
       "  </thead>\n",
       "  <tbody>\n",
       "    <tr>\n",
       "      <th>1860</th>\n",
       "      <td>1646</td>\n",
       "      <td>1608</td>\n",
       "      <td>686</td>\n",
       "    </tr>\n",
       "    <tr>\n",
       "      <th>353</th>\n",
       "      <td>1182</td>\n",
       "      <td>986</td>\n",
       "      <td>2563</td>\n",
       "    </tr>\n",
       "    <tr>\n",
       "      <th>1333</th>\n",
       "      <td>1972</td>\n",
       "      <td>952</td>\n",
       "      <td>1316</td>\n",
       "    </tr>\n",
       "    <tr>\n",
       "      <th>905</th>\n",
       "      <td>989</td>\n",
       "      <td>1394</td>\n",
       "      <td>3892</td>\n",
       "    </tr>\n",
       "    <tr>\n",
       "      <th>1289</th>\n",
       "      <td>615</td>\n",
       "      <td>1958</td>\n",
       "      <td>1906</td>\n",
       "    </tr>\n",
       "  </tbody>\n",
       "</table>\n",
       "</div>"
      ],
      "text/plain": [
       "      battery_power  px_width   ram\n",
       "1860           1646      1608   686\n",
       "353            1182       986  2563\n",
       "1333           1972       952  1316\n",
       "905             989      1394  3892\n",
       "1289            615      1958  1906"
      ]
     },
     "execution_count": 206,
     "metadata": {},
     "output_type": "execute_result"
    }
   ],
   "source": [
    "X_test_drop.head()"
   ]
  },
  {
   "cell_type": "code",
   "execution_count": 207,
   "metadata": {},
   "outputs": [],
   "source": [
    "# Lets create a Logistic model as a base."
   ]
  },
  {
   "cell_type": "markdown",
   "metadata": {},
   "source": [
    "# Model 1 : Logistic Regression"
   ]
  },
  {
   "cell_type": "code",
   "execution_count": 208,
   "metadata": {},
   "outputs": [],
   "source": [
    "from sklearn.linear_model import LogisticRegression"
   ]
  },
  {
   "cell_type": "code",
   "execution_count": 209,
   "metadata": {},
   "outputs": [],
   "source": [
    "model1 = LogisticRegression()"
   ]
  },
  {
   "cell_type": "code",
   "execution_count": 224,
   "metadata": {},
   "outputs": [
    {
     "data": {
      "text/plain": [
       "LogisticRegression()"
      ]
     },
     "execution_count": 224,
     "metadata": {},
     "output_type": "execute_result"
    }
   ],
   "source": [
    "model1.fit(X_train_ohe, y_train)"
   ]
  },
  {
   "cell_type": "code",
   "execution_count": 225,
   "metadata": {},
   "outputs": [],
   "source": [
    "y_pred = model1.predict(X_test_ohe)"
   ]
  },
  {
   "cell_type": "code",
   "execution_count": 226,
   "metadata": {},
   "outputs": [
    {
     "data": {
      "text/plain": [
       "array([0, 2, 0, 3, 1, 2, 3, 0, 3, 3, 0, 1, 2, 3, 3, 2, 2, 2, 1, 0, 0, 1,\n",
       "       0, 2, 1, 1, 3, 3, 3, 0, 1, 0, 3, 0, 2, 3, 2, 1, 3, 0, 1, 2, 3, 0,\n",
       "       3, 3, 3, 1, 3, 1, 3, 2, 0, 0, 2, 0, 2, 2, 0, 0, 1, 3, 3, 2, 2, 0,\n",
       "       3, 3, 1, 1, 2, 2, 0, 1, 2, 0, 0, 3, 2, 2, 3, 2, 1, 0, 1, 3, 3, 3,\n",
       "       3, 0, 3, 3, 3, 0, 3, 2, 3, 3, 2, 1, 0, 1, 0, 0, 0, 3, 3, 0, 0, 1,\n",
       "       0, 0, 3, 3, 2, 1, 3, 3, 0, 2, 1, 3, 2, 2, 3, 3, 0, 3, 0, 2, 3, 0,\n",
       "       2, 2, 0, 2, 1, 1, 0, 2, 3, 1, 3, 3, 0, 0, 1, 2, 1, 1, 3, 1, 1, 0,\n",
       "       2, 3, 0, 1, 0, 1, 3, 3, 2, 2, 1, 0, 0, 2, 1, 3, 3, 1, 0, 0, 3, 1,\n",
       "       1, 2, 0, 1, 0, 0, 0, 1, 3, 2, 0, 2, 0, 0, 0, 0, 1, 3, 3, 1, 0, 1,\n",
       "       2, 1, 1, 2, 1, 2, 3, 3, 1, 3, 0, 1, 1, 1, 1, 1, 3, 2, 1, 3, 1, 1,\n",
       "       3, 2, 3, 0, 0, 3, 0, 2, 0, 0, 1, 0, 2, 3, 2, 1, 0, 2, 3, 1, 3, 3,\n",
       "       2, 3, 0, 3, 2, 2, 2, 3, 3, 1, 1, 3, 2, 1, 2, 3, 3, 3, 3, 0, 2, 2,\n",
       "       2, 2, 3, 0, 3, 3, 2, 2, 2, 0, 1, 3, 0, 2, 3, 1, 3, 1, 0, 3, 0, 3,\n",
       "       0, 0, 3, 0, 1, 2, 3, 2, 2, 0, 0, 0, 0, 3, 3, 0, 1, 1, 2, 0, 3, 3,\n",
       "       3, 3, 1, 3, 2, 0, 3, 2, 3, 2, 0, 0, 1, 3, 1, 3, 1, 1, 3, 0, 3, 3,\n",
       "       2, 0, 2, 2, 1, 1, 3, 1, 0, 3, 1, 2, 2, 1, 1, 1, 2, 2, 3, 3, 1, 1,\n",
       "       1, 2, 2, 0, 3, 0, 0, 2, 0, 0, 2, 2, 2, 3, 1, 1, 2, 3, 3, 3, 2, 3,\n",
       "       1, 2, 0, 2, 1, 3, 3, 0, 1, 3, 2, 3, 2, 3, 1, 0, 2, 2, 0, 0, 3, 3,\n",
       "       1, 2, 3, 2], dtype=int64)"
      ]
     },
     "execution_count": 226,
     "metadata": {},
     "output_type": "execute_result"
    }
   ],
   "source": [
    "y_pred"
   ]
  },
  {
   "cell_type": "code",
   "execution_count": 229,
   "metadata": {},
   "outputs": [
    {
     "data": {
      "text/plain": [
       "array([0, 2, 1, 3, 1, 1, 2, 0, 3, 1, 0, 0, 2, 3, 3, 2, 3, 3, 1, 0, 0, 2,\n",
       "       1, 2, 0, 1, 3, 2, 2, 0, 0, 0, 3, 0, 1, 1, 2, 0, 3, 0, 2, 3, 2, 0,\n",
       "       2, 3, 2, 1, 3, 1, 3, 1, 0, 0, 1, 0, 1, 3, 0, 0, 1, 3, 3, 1, 0, 0,\n",
       "       3, 3, 1, 2, 2, 2, 0, 1, 2, 0, 1, 3, 2, 2, 3, 2, 1, 0, 1, 3, 1, 3,\n",
       "       3, 0, 3, 3, 2, 1, 3, 2, 2, 3, 1, 1, 0, 0, 1, 0, 0, 3, 2, 0, 1, 1,\n",
       "       0, 0, 3, 1, 3, 2, 3, 2, 0, 2, 1, 3, 2, 1, 3, 3, 0, 2, 0, 2, 3, 0,\n",
       "       2, 2, 0, 3, 1, 0, 0, 2, 2, 1, 3, 2, 0, 0, 0, 1, 1, 2, 3, 1, 1, 0,\n",
       "       2, 2, 0, 1, 0, 2, 2, 3, 3, 2, 1, 0, 1, 2, 2, 3, 3, 0, 1, 0, 3, 1,\n",
       "       1, 2, 1, 0, 0, 0, 0, 0, 3, 2, 0, 3, 0, 0, 0, 0, 1, 3, 3, 1, 0, 1,\n",
       "       1, 1, 1, 2, 2, 3, 3, 3, 1, 2, 0, 0, 0, 2, 1, 1, 3, 1, 0, 2, 1, 1,\n",
       "       3, 2, 3, 0, 0, 2, 1, 3, 0, 1, 2, 0, 2, 3, 2, 0, 1, 3, 3, 0, 1, 3,\n",
       "       2, 3, 0, 3, 1, 2, 3, 3, 2, 1, 0, 3, 3, 1, 3, 3, 3, 3, 3, 0, 1, 2,\n",
       "       2, 2, 3, 0, 2, 3, 2, 2, 2, 1, 0, 2, 0, 3, 3, 1, 3, 1, 0, 3, 1, 2,\n",
       "       0, 0, 3, 0, 1, 2, 3, 3, 3, 1, 1, 0, 1, 3, 3, 0, 1, 2, 2, 0, 3, 3,\n",
       "       2, 3, 2, 3, 2, 0, 2, 1, 1, 1, 0, 0, 0, 3, 3, 3, 1, 0, 1, 0, 2, 2,\n",
       "       3, 0, 3, 3, 2, 1, 3, 0, 0, 2, 1, 3, 2, 0, 1, 1, 1, 1, 1, 3, 2, 0,\n",
       "       0, 3, 3, 0, 3, 0, 0, 2, 0, 1, 2, 2, 2, 3, 0, 3, 2, 3, 3, 3, 3, 2,\n",
       "       1, 1, 0, 3, 1, 3, 3, 0, 2, 3, 2, 3, 3, 3, 0, 0, 2, 3, 0, 0, 2, 3,\n",
       "       2, 1, 1, 2], dtype=int64)"
      ]
     },
     "execution_count": 229,
     "metadata": {},
     "output_type": "execute_result"
    }
   ],
   "source": [
    "y_test.values.flatten()"
   ]
  },
  {
   "cell_type": "code",
   "execution_count": 237,
   "metadata": {},
   "outputs": [],
   "source": [
    "y_pred_proba = model1.predict_proba(X_test_ohe)"
   ]
  },
  {
   "cell_type": "code",
   "execution_count": 238,
   "metadata": {},
   "outputs": [
    {
     "data": {
      "text/plain": [
       "array([[9.83318690e-01, 1.65066344e-02, 1.74336467e-04, 3.39550813e-07],\n",
       "       [1.37407944e-03, 1.50977431e-01, 5.46053669e-01, 3.01594821e-01],\n",
       "       [7.12116134e-01, 2.66828409e-01, 2.08578775e-02, 1.97580031e-04],\n",
       "       ...,\n",
       "       [2.37142924e-03, 1.82739539e-01, 4.68587607e-01, 3.46301425e-01],\n",
       "       [2.55757864e-03, 1.63534364e-01, 4.15545013e-01, 4.18363045e-01],\n",
       "       [5.68485298e-03, 3.54828757e-01, 5.00709201e-01, 1.38777189e-01]])"
      ]
     },
     "execution_count": 238,
     "metadata": {},
     "output_type": "execute_result"
    }
   ],
   "source": [
    "y_pred_proba"
   ]
  },
  {
   "cell_type": "markdown",
   "metadata": {},
   "source": [
    "## Model Evaluation"
   ]
  },
  {
   "cell_type": "markdown",
   "metadata": {},
   "source": [
    "#### accuracy"
   ]
  },
  {
   "cell_type": "code",
   "execution_count": 230,
   "metadata": {},
   "outputs": [],
   "source": [
    "from sklearn.metrics import accuracy_score\n",
    "model1_acc = accuracy_score(y_test, y_pred)"
   ]
  },
  {
   "cell_type": "code",
   "execution_count": 231,
   "metadata": {},
   "outputs": [
    {
     "data": {
      "text/plain": [
       "0.635"
      ]
     },
     "execution_count": 231,
     "metadata": {},
     "output_type": "execute_result"
    }
   ],
   "source": [
    "model1_acc"
   ]
  },
  {
   "cell_type": "markdown",
   "metadata": {},
   "source": [
    "#### precision"
   ]
  },
  {
   "cell_type": "code",
   "execution_count": 234,
   "metadata": {},
   "outputs": [],
   "source": [
    "from sklearn.metrics import precision_score\n",
    "model1_pre = precision_score(y_test, y_pred, average=None)"
   ]
  },
  {
   "cell_type": "code",
   "execution_count": 235,
   "metadata": {},
   "outputs": [
    {
     "data": {
      "text/plain": [
       "array([0.81443299, 0.51136364, 0.5       , 0.68595041])"
      ]
     },
     "execution_count": 235,
     "metadata": {},
     "output_type": "execute_result"
    }
   ],
   "source": [
    "model1_pre"
   ]
  },
  {
   "cell_type": "markdown",
   "metadata": {},
   "source": [
    "#### Classification report "
   ]
  },
  {
   "cell_type": "code",
   "execution_count": 236,
   "metadata": {},
   "outputs": [
    {
     "name": "stdout",
     "output_type": "stream",
     "text": [
      "              precision    recall  f1-score   support\n",
      "\n",
      "           0       0.81      0.75      0.78       105\n",
      "           1       0.51      0.49      0.50        91\n",
      "           2       0.50      0.51      0.51        92\n",
      "           3       0.69      0.74      0.71       112\n",
      "\n",
      "    accuracy                           0.64       400\n",
      "   macro avg       0.63      0.62      0.63       400\n",
      "weighted avg       0.64      0.64      0.64       400\n",
      "\n"
     ]
    }
   ],
   "source": [
    "from sklearn.metrics import classification_report\n",
    "print(classification_report(y_test, y_pred))"
   ]
  },
  {
   "cell_type": "markdown",
   "metadata": {},
   "source": [
    "#### Confusion_matrix"
   ]
  },
  {
   "cell_type": "code",
   "execution_count": 241,
   "metadata": {},
   "outputs": [
    {
     "data": {
      "text/html": [
       "<div>\n",
       "<style scoped>\n",
       "    .dataframe tbody tr th:only-of-type {\n",
       "        vertical-align: middle;\n",
       "    }\n",
       "\n",
       "    .dataframe tbody tr th {\n",
       "        vertical-align: top;\n",
       "    }\n",
       "\n",
       "    .dataframe thead tr th {\n",
       "        text-align: left;\n",
       "    }\n",
       "</style>\n",
       "<table border=\"1\" class=\"dataframe\">\n",
       "  <thead>\n",
       "    <tr>\n",
       "      <th></th>\n",
       "      <th></th>\n",
       "      <th colspan=\"4\" halign=\"left\">Predicted</th>\n",
       "    </tr>\n",
       "    <tr>\n",
       "      <th></th>\n",
       "      <th></th>\n",
       "      <th>0</th>\n",
       "      <th>1</th>\n",
       "      <th>2</th>\n",
       "      <th>3</th>\n",
       "    </tr>\n",
       "  </thead>\n",
       "  <tbody>\n",
       "    <tr>\n",
       "      <th rowspan=\"4\" valign=\"top\">Actual</th>\n",
       "      <th>0</th>\n",
       "      <td>79</td>\n",
       "      <td>25</td>\n",
       "      <td>1</td>\n",
       "      <td>0</td>\n",
       "    </tr>\n",
       "    <tr>\n",
       "      <th>1</th>\n",
       "      <td>18</td>\n",
       "      <td>45</td>\n",
       "      <td>19</td>\n",
       "      <td>9</td>\n",
       "    </tr>\n",
       "    <tr>\n",
       "      <th>2</th>\n",
       "      <td>0</td>\n",
       "      <td>16</td>\n",
       "      <td>47</td>\n",
       "      <td>29</td>\n",
       "    </tr>\n",
       "    <tr>\n",
       "      <th>3</th>\n",
       "      <td>0</td>\n",
       "      <td>2</td>\n",
       "      <td>27</td>\n",
       "      <td>83</td>\n",
       "    </tr>\n",
       "  </tbody>\n",
       "</table>\n",
       "</div>"
      ],
      "text/plain": [
       "         Predicted            \n",
       "                 0   1   2   3\n",
       "Actual 0        79  25   1   0\n",
       "       1        18  45  19   9\n",
       "       2         0  16  47  29\n",
       "       3         0   2  27  83"
      ]
     },
     "execution_count": 241,
     "metadata": {},
     "output_type": "execute_result"
    }
   ],
   "source": [
    "from sklearn.metrics import confusion_matrix\n",
    "cm = pd.DataFrame(confusion_matrix(y_test, y_pred), index=[['Actual', 'Actual', 'Actual', 'Actual'],[0,1,2,3]],\n",
    "                 columns=[['Predicted', 'Predicted', 'Predicted', 'Predicted'], [0,1,2,3]])\n",
    "cm"
   ]
  },
  {
   "cell_type": "code",
   "execution_count": 260,
   "metadata": {
    "scrolled": true
   },
   "outputs": [
    {
     "data": {
      "text/plain": [
       "47"
      ]
     },
     "execution_count": 260,
     "metadata": {},
     "output_type": "execute_result"
    }
   ],
   "source": [
    "cm['Predicted'][2][2]"
   ]
  },
  {
   "cell_type": "code",
   "execution_count": 258,
   "metadata": {},
   "outputs": [
    {
     "data": {
      "text/plain": [
       "0.8144329896907216"
      ]
     },
     "execution_count": 258,
     "metadata": {},
     "output_type": "execute_result"
    }
   ],
   "source": [
    "cm['Predicted'][0][0]/(cm['Predicted'][0][0]+cm['Predicted'][0][1]+cm['Predicted'][0][2]+cm['Predicted'][0][3])"
   ]
  },
  {
   "cell_type": "code",
   "execution_count": 283,
   "metadata": {},
   "outputs": [],
   "source": [
    "def accuracy(cm):\n",
    "    accuracy.acc0 = cm['Predicted'][0][0]/(cm['Predicted'][0][0]+cm['Predicted'][0][1]+cm['Predicted'][0][2]+cm['Predicted'][0][3])\n",
    "    accuracy.acc1 = cm['Predicted'][1][1]/(cm['Predicted'][1][0]+cm['Predicted'][1][1]+cm['Predicted'][1][2]+cm['Predicted'][1][3])\n",
    "    accuracy.acc2 = cm['Predicted'][2][2]/(cm['Predicted'][2][0]+cm['Predicted'][2][1]+cm['Predicted'][2][2]+cm['Predicted'][2][3])\n",
    "    accuracy.acc3 = cm['Predicted'][3][3]/(cm['Predicted'][3][0]+cm['Predicted'][3][1]+cm['Predicted'][3][2]+cm['Predicted'][3][3])\n",
    "    \n",
    "    return acc0, acc1, acc2, acc3\n",
    "\n",
    "model1_acc0, model1_acc1, model1_acc2, model1_acc3 = accuracy(cm)"
   ]
  },
  {
   "cell_type": "code",
   "execution_count": 284,
   "metadata": {},
   "outputs": [],
   "source": [
    "accuracy(cm)"
   ]
  },
  {
   "cell_type": "code",
   "execution_count": 285,
   "metadata": {},
   "outputs": [
    {
     "ename": "NameError",
     "evalue": "name 'acc3' is not defined",
     "output_type": "error",
     "traceback": [
      "\u001b[1;31m---------------------------------------------------------------------------\u001b[0m",
      "\u001b[1;31mNameError\u001b[0m                                 Traceback (most recent call last)",
      "\u001b[1;32m<ipython-input-285-b6e50a74636f>\u001b[0m in \u001b[0;36m<module>\u001b[1;34m\u001b[0m\n\u001b[1;32m----> 1\u001b[1;33m \u001b[0macc3\u001b[0m\u001b[1;33m\u001b[0m\u001b[1;33m\u001b[0m\u001b[0m\n\u001b[0m",
      "\u001b[1;31mNameError\u001b[0m: name 'acc3' is not defined"
     ]
    }
   ],
   "source": [
    "acc3"
   ]
  },
  {
   "cell_type": "code",
   "execution_count": 270,
   "metadata": {},
   "outputs": [
    {
     "data": {
      "text/plain": [
       "0.8144329896907216"
      ]
     },
     "execution_count": 270,
     "metadata": {},
     "output_type": "execute_result"
    }
   ],
   "source": [
    "model1_acc0"
   ]
  },
  {
   "cell_type": "code",
   "execution_count": 271,
   "metadata": {},
   "outputs": [
    {
     "data": {
      "text/plain": [
       "0.5113636363636364"
      ]
     },
     "execution_count": 271,
     "metadata": {},
     "output_type": "execute_result"
    }
   ],
   "source": [
    "model1_acc1"
   ]
  },
  {
   "cell_type": "code",
   "execution_count": 272,
   "metadata": {},
   "outputs": [
    {
     "data": {
      "text/plain": [
       "0.5"
      ]
     },
     "execution_count": 272,
     "metadata": {},
     "output_type": "execute_result"
    }
   ],
   "source": [
    "model1_acc2"
   ]
  },
  {
   "cell_type": "code",
   "execution_count": 273,
   "metadata": {},
   "outputs": [
    {
     "data": {
      "text/plain": [
       "0.6859504132231405"
      ]
     },
     "execution_count": 273,
     "metadata": {},
     "output_type": "execute_result"
    }
   ],
   "source": [
    "model1_acc3"
   ]
  },
  {
   "cell_type": "code",
   "execution_count": null,
   "metadata": {},
   "outputs": [],
   "source": []
  }
 ],
 "metadata": {
  "kernelspec": {
   "display_name": "Python 3",
   "language": "python",
   "name": "python3"
  },
  "language_info": {
   "codemirror_mode": {
    "name": "ipython",
    "version": 3
   },
   "file_extension": ".py",
   "mimetype": "text/x-python",
   "name": "python",
   "nbconvert_exporter": "python",
   "pygments_lexer": "ipython3",
   "version": "3.8.5"
  }
 },
 "nbformat": 4,
 "nbformat_minor": 4
}
